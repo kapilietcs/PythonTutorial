{
 "cells": [
  {
   "cell_type": "markdown",
   "metadata": {},
   "source": [
    "# Just Enough Python for AI/Data Science\n",
    "#### Module 6"
   ]
  },
  {
   "cell_type": "markdown",
   "metadata": {},
   "source": [
    "**Basic File Handling and Data I/O**\n",
    "___\n",
    "> This module is all about file handling—reading, analyzing, and writing data in a structured way. It will help you become more comfortable with the idea of external files (like CSVs) that typically house the datasets you’ll work with in data science or AI projects."
   ]
  },
  {
   "cell_type": "markdown",
   "metadata": {},
   "source": [
    "##### Overview:\n",
    "- Python can read and write files—like text, CSV, JSON—directly. This is often your first step to “real-world” projects outside toy examples.\n",
    "- You’ll learn how to open a file without accidentally destroying it, read just the parts you need, and close it gracefully when you’re done.\n",
    "- Data I/O (Input/Output) sets you up for practical data science work where data usually lives in external files."
   ]
  },
  {
   "cell_type": "markdown",
   "metadata": {},
   "source": [
    "**1. Opening and Closing Files**\n",
    "- The most common way is using a with statement, which handles closing the file automatically (like a helpful librarian shutting the door at closing time).\n",
    "- Example :"
   ]
  },
  {
   "cell_type": "markdown",
   "metadata": {},
   "source": [
    "# Reading a text file\n",
    "  with open(\"data.txt\", \"r\") as file:\n",
    "      content = file.read()\n",
    "      print(content)\n",
    "\n",
    "  # Writing to a text file\n",
    "  with open(\"output.txt\", \"w\") as file:\n",
    "      file.write(\"Hello, File!\")\n"
   ]
  }
 ],
 "metadata": {
  "language_info": {
   "name": "python"
  }
 },
 "nbformat": 4,
 "nbformat_minor": 2
}
