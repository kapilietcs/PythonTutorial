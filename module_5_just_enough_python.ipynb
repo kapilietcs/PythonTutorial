{
 "cells": [
  {
   "cell_type": "markdown",
   "metadata": {},
   "source": [
    "# Just Enough Python for AI/Data Science\n",
    "#### Module 5"
   ]
  },
  {
   "cell_type": "markdown",
   "metadata": {},
   "source": [
    "**Functions and Modules**\n",
    "___\n",
    "> This module helps learners understand how to keep code organized and DRY (“Don’t Repeat Yourself”). It’s a crucial stepping stone before you jump into building real-world data science or AI projects, where code clarity and structure save you from many future headaches."
   ]
  },
  {
   "cell_type": "markdown",
   "metadata": {},
   "source": [
    "##### Overview:\n",
    "- Functions allow you to package up logic (e.g., calculations, transformations, etc.) into reusable chunks.\n",
    "- Modules are simply files of Python code you can import into your main script, letting you isolate functionality and streamline your workflow.\n",
    "- Think of them as your personal code chefs: once you teach them a recipe, they can whip it up anytime!"
   ]
  },
  {
   "cell_type": "markdown",
   "metadata": {},
   "source": [
    "**1. Defining Functions**\n",
    "- A function in Python is defined with the “def” keyword.\n",
    "- Example:"
   ]
  },
  {
   "cell_type": "code",
   "execution_count": 1,
   "metadata": {},
   "outputs": [
    {
     "name": "stdout",
     "output_type": "stream",
     "text": [
      "Hello, Alice!\n"
     ]
    }
   ],
   "source": [
    "def greet(name):\n",
    "    \"\"\"This function greets a person by name.\"\"\"\n",
    "    print(f\"Hello, {name}!\")\n",
    "\n",
    "greet(\"Alice\")  # \"Hello, Alice!\"\n"
   ]
  },
  {
   "cell_type": "markdown",
   "metadata": {},
   "source": [
    "- Parameters vs. Arguments: – Parameters are placeholders in the function definition.\n",
    "    - Arguments are what you actually pass into the function when calling it."
   ]
  },
  {
   "cell_type": "markdown",
   "metadata": {},
   "source": [
    "**2. Return Values and Scope** \n",
    "- Functions can return something back to the caller.\n",
    "- Variables inside a function are usually local, meaning they don’t affect code outside unless returned or declared global.\n",
    "- Example"
   ]
  },
  {
   "cell_type": "code",
   "execution_count": 2,
   "metadata": {},
   "outputs": [
    {
     "name": "stdout",
     "output_type": "stream",
     "text": [
      "7\n"
     ]
    }
   ],
   "source": [
    "def add_numbers(x, y):\n",
    "      return x + y\n",
    "\n",
    "result = add_numbers(3, 4)\n",
    "print(result)  # 7\n"
   ]
  },
  {
   "cell_type": "code",
   "execution_count": 18,
   "metadata": {},
   "outputs": [
    {
     "name": "stdout",
     "output_type": "stream",
     "text": [
      "180\n"
     ]
    }
   ],
   "source": [
    "global_number = 5\n",
    "\n",
    "def multiply_numbers(x):\n",
    "    y = 12\n",
    "    return x * y * global_number\n",
    "\n",
    "result = multiply_numbers(3)\n",
    "print(result)  # Outputs 180\n",
    "\n",
    "# Attempting to access a local variable outside the function \n",
    "# print(x)\n"
   ]
  },
  {
   "cell_type": "code",
   "execution_count": 26,
   "metadata": {},
   "outputs": [
    {
     "name": "stdout",
     "output_type": "stream",
     "text": [
      "1\n"
     ]
    }
   ],
   "source": [
    "# Modifying a global variable from within a function\n",
    "counter = 0\n",
    "\n",
    "def increment_counter():\n",
    "    global counter\n",
    "    counter += 1\n",
    "\n",
    "increment_counter()\n",
    "print(counter)  # Outputs 1\n"
   ]
  },
  {
   "cell_type": "markdown",
   "metadata": {},
   "source": [
    "- Access: You can read global variables inside a function without declaring them as global.\n",
    "- Modification: To modify a global variable inside a function, you must explicitly declare it as global using the global keyword. Otherwise, Python will attempt to treat any assignment to that variable as the creation of a new local variable, leading to potential errors or unexpected behavior\n"
   ]
  },
  {
   "cell_type": "markdown",
   "metadata": {},
   "source": [
    "**3. Why Functions Matter**\n",
    "- They reduce code repetition. Instead of copy-pasting the same snippet 10 times, define it once and call it 10 times.\n",
    "- They make your code easier to read, understand, and debug.\n",
    "- They pave the way for modular code—especially useful in bigger Data Science or AI projects where you might have data cleaning steps, feature engineering, model training, etc."
   ]
  },
  {
   "cell_type": "markdown",
   "metadata": {},
   "source": [
    "#### Quick Exercises \n",
    "- Write a function that takes in a list of numbers and returns the average.\n",
    "- Bonus: combine your function with data structures from Module 4 to show off your new organizational skills.\n",
    "\n",
    "**Please Note:** The solutions to above questions will be present at the end of next module's (Module 6:  Basic File Handling and Data I/O) Notebook."
   ]
  },
  {
   "cell_type": "code",
   "execution_count": null,
   "metadata": {},
   "outputs": [],
   "source": []
  },
  {
   "cell_type": "markdown",
   "metadata": {},
   "source": []
  }
 ],
 "metadata": {
  "kernelspec": {
   "display_name": "Python 3",
   "language": "python",
   "name": "python3"
  },
  "language_info": {
   "codemirror_mode": {
    "name": "ipython",
    "version": 3
   },
   "file_extension": ".py",
   "mimetype": "text/x-python",
   "name": "python",
   "nbconvert_exporter": "python",
   "pygments_lexer": "ipython3",
   "version": "3.12.2"
  }
 },
 "nbformat": 4,
 "nbformat_minor": 2
}
