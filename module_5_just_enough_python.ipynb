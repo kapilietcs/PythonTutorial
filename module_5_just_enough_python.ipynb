{
 "cells": [
  {
   "cell_type": "markdown",
   "metadata": {},
   "source": [
    "# Just Enough Python for AI/Data Science\n",
    "#### Module 5"
   ]
  },
  {
   "cell_type": "markdown",
   "metadata": {},
   "source": [
    "**Functions and Modules**\n",
    "___\n",
    "> This module helps learners understand how to keep code organized and DRY (“Don’t Repeat Yourself”). It’s a crucial stepping stone before you jump into building real-world data science or AI projects, where code clarity and structure save you from many future headaches."
   ]
  },
  {
   "cell_type": "markdown",
   "metadata": {},
   "source": [
    "##### Overview:\n",
    "- Functions allow you to package up logic (e.g., calculations, transformations, etc.) into reusable chunks.\n",
    "- Modules are simply files of Python code you can import into your main script, letting you isolate functionality and streamline your workflow.\n",
    "- Think of them as your personal code chefs: once you teach them a recipe, they can whip it up anytime!"
   ]
  },
  {
   "cell_type": "markdown",
   "metadata": {},
   "source": [
    "**1. Defining Functions**\n",
    "- A function in Python is defined with the “def” keyword.\n",
    "- The anatomy:"
   ]
  },
  {
   "cell_type": "code",
   "execution_count": 1,
   "metadata": {},
   "outputs": [
    {
     "name": "stdout",
     "output_type": "stream",
     "text": [
      "Hello, Alice!\n"
     ]
    }
   ],
   "source": [
    "def greet(name):\n",
    "    \"\"\"This function greets a person by name.\"\"\"\n",
    "    print(f\"Hello, {name}!\")\n",
    "\n",
    "greet(\"Alice\")  # \"Hello, Alice!\"\n"
   ]
  },
  {
   "cell_type": "markdown",
   "metadata": {},
   "source": [
    "- Parameters vs. Arguments: – Parameters are placeholders in the function definition.\n",
    "    - Arguments are what you actually pass into the function when calling it."
   ]
  },
  {
   "cell_type": "markdown",
   "metadata": {},
   "source": [
    "**2. Return Values and Scope • Functions can return something back to the caller.**\n",
    "- Variables inside a function are usually local, meaning they don’t affect code outside unless returned or declared global.\n",
    "- Example"
   ]
  },
  {
   "cell_type": "code",
   "execution_count": 2,
   "metadata": {},
   "outputs": [
    {
     "name": "stdout",
     "output_type": "stream",
     "text": [
      "7\n"
     ]
    }
   ],
   "source": [
    "def add_numbers(x, y):\n",
    "      return x + y\n",
    "\n",
    "result = add_numbers(3, 4)\n",
    "print(result)  # 7\n"
   ]
  },
  {
   "cell_type": "markdown",
   "metadata": {},
   "source": [
    "**3. Why Functions Matter**\n",
    "- They reduce code repetition. Instead of copy-pasting the same snippet 10 times, define it once and call it 10 times.\n",
    "- They make your code easier to read, understand, and debug.\n",
    "- They pave the way for modular code—especially useful in bigger Data Science or AI projects where you might have data cleaning steps, feature engineering, model training, etc."
   ]
  },
  {
   "cell_type": "markdown",
   "metadata": {},
   "source": [
    "**4. Installing & Using External Modules**\n",
    "- Python also has a vast ecosystem of third-party libraries. You can install them via pip or conda. For instance:"
   ]
  },
  {
   "cell_type": "code",
   "execution_count": null,
   "metadata": {},
   "outputs": [],
   "source": [
    "pip install requests"
   ]
  },
  {
   "cell_type": "code",
   "execution_count": null,
   "metadata": {},
   "outputs": [],
   "source": [
    "import requests\n",
    "response = requests.get(\"https://api.example.com/data\")\n",
    "print(response.json())"
   ]
  },
  {
   "cell_type": "markdown",
   "metadata": {},
   "source": [
    "- This is the usual way you’ll bring in data science libraries like NumPy, pandas, or scikit-learn."
   ]
  },
  {
   "cell_type": "markdown",
   "metadata": {},
   "source": [
    "**4. Introduction to Modules**\n",
    "- A module is just a Python file with a .py extension. You can import it into another script to use functions, classes, or variables.\n",
    "- Suppose you have a file named my_module.py:"
   ]
  },
  {
   "cell_type": "code",
   "execution_count": 3,
   "metadata": {},
   "outputs": [],
   "source": [
    "# # my_module.py\n",
    "# def say_hello():\n",
    "#     print(\"Hello from my_module!\")\n"
   ]
  },
  {
   "cell_type": "markdown",
   "metadata": {},
   "source": [
    "- You can then import and use that code:"
   ]
  },
  {
   "cell_type": "code",
   "execution_count": null,
   "metadata": {},
   "outputs": [],
   "source": [
    "# # main_script.py\n",
    "# import my_module\n",
    "\n",
    "# my_module.say_hello()  # Outputs: \"Hello from my_module!\"\n"
   ]
  },
  {
   "cell_type": "markdown",
   "metadata": {},
   "source": []
  },
  {
   "cell_type": "markdown",
   "metadata": {},
   "source": [
    "#### Quick Exercises \n",
    "- Write a function that takes in a list of numbers and returns the average.\n",
    "- Create your own module (a separate .py file) with at least two functions. Import it into a main script and demonstrate a use case.\n",
    "- Bonus: combine your function with data structures from Module 4 to show off your new organizational skills.\n",
    "\n",
    "**Please Note:** The solutions to above questions will be present at the end of next module's (Module 6:  Basic File Handling and Data I/O) Notebook."
   ]
  },
  {
   "cell_type": "code",
   "execution_count": null,
   "metadata": {},
   "outputs": [],
   "source": []
  },
  {
   "cell_type": "markdown",
   "metadata": {},
   "source": []
  }
 ],
 "metadata": {
  "kernelspec": {
   "display_name": "Python 3",
   "language": "python",
   "name": "python3"
  },
  "language_info": {
   "codemirror_mode": {
    "name": "ipython",
    "version": 3
   },
   "file_extension": ".py",
   "mimetype": "text/x-python",
   "name": "python",
   "nbconvert_exporter": "python",
   "pygments_lexer": "ipython3",
   "version": "3.12.2"
  }
 },
 "nbformat": 4,
 "nbformat_minor": 2
}
