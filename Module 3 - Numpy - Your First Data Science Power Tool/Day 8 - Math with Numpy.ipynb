{
 "cells": [
  {
   "cell_type": "markdown",
   "metadata": {},
   "source": [
    "![alt text](<../images/just enough.png>)\n",
    "# Just Enough Python for AI/Data Science\n",
    "## Module 3: Numpy- Your First Data Science Power Tool\n",
    ">This module will ensure you can wrangle numerical data efficiently before tackling larger datasets with pandas. It’s just enough to prep you for serious data crunching.\n",
    "### Day 8 - Basic Data Math with Numpy\n",
    "----"
   ]
  },
  {
   "cell_type": "markdown",
   "metadata": {},
   "source": [
    "##### Overview:\n",
    "\n",
    "Numpy is one of the most popular libraries in Data Science. If Python is your toolbox, think of Numpy as your Swiss Army Knife—it helps you handle data more efficiently and lays the foundation for working with more complex data tools like Pandas and Scikit-Learn.\n",
    "\n",
    "Today we will understand:\n",
    "\n",
    "- Basic mathematical operations on arrays.\n",
    "- Applying Numpy’s aggregate functions (sum, mean, standard deviation, etc.).\n",
    "- Useful matrix operations (dot product, transpose, etc.)."
   ]
  },
  {
   "cell_type": "markdown",
   "metadata": {},
   "source": [
    "#### 1.Mathematical Operations on Numpy Arrays\n",
    "**Why Not Just Use Python Lists?**\n",
    "Numpy enables quick element-wise operations, making tasks like adding, subtracting, or multiplying arrays very easy. Let's start with some basics.\n",
    "\n",
    "**1D Arrays**\n",
    "\n"
   ]
  },
  {
   "cell_type": "code",
   "execution_count": 1,
   "metadata": {},
   "outputs": [],
   "source": [
    "import numpy as np\n"
   ]
  },
  {
   "cell_type": "code",
   "execution_count": 2,
   "metadata": {},
   "outputs": [
    {
     "name": "stdout",
     "output_type": "stream",
     "text": [
      "Addition: [5 7 9]\n",
      "Subtraction: [-3 -3 -3]\n",
      "Multiplication: [ 4 10 18]\n",
      "Division: [0.25 0.4  0.5 ]\n",
      "Exponentiation: [1 4 9]\n"
     ]
    }
   ],
   "source": [
    "\n",
    "# Create two 1D arrays\n",
    "a = np.array([1, 2, 3])\n",
    "b = np.array([4, 5, 6])\n",
    "\n",
    "# Element-wise operations\n",
    "print(\"Addition:\", a + b)  # [1+4, 2+5, 3+6]\n",
    "print(\"Subtraction:\", a - b)\n",
    "print(\"Multiplication:\", a * b)\n",
    "print(\"Division:\", a / b)\n",
    "print(\"Exponentiation:\", a ** 2)  # Square each element\n"
   ]
  },
  {
   "cell_type": "markdown",
   "metadata": {},
   "source": [
    "**2D Arrays**"
   ]
  },
  {
   "cell_type": "code",
   "execution_count": 3,
   "metadata": {},
   "outputs": [
    {
     "name": "stdout",
     "output_type": "stream",
     "text": [
      "Element-wise addition:\n",
      " [[ 6  8]\n",
      " [10 12]]\n",
      "Element-wise multiplication:\n",
      " [[ 5 12]\n",
      " [21 32]]\n",
      "Matrix + 10:\n",
      " [[11 12]\n",
      " [13 14]]\n"
     ]
    }
   ],
   "source": [
    "# Create two 2D arrays\n",
    "matrix_1 = np.array([[1, 2], [3, 4]])\n",
    "matrix_2 = np.array([[5, 6], [7, 8]])\n",
    "\n",
    "# Element-wise operations\n",
    "print(\"Element-wise addition:\\n\", matrix_1 + matrix_2)\n",
    "print(\"Element-wise multiplication:\\n\", matrix_1 * matrix_2)\n",
    "\n",
    "# Scalar addition (broadcasting)\n",
    "print(\"Matrix + 10:\\n\", matrix_1 + 10)\n"
   ]
  },
  {
   "cell_type": "markdown",
   "metadata": {},
   "source": [
    "#### 2. Aggregate Functions\n",
    "\n",
    "- Numpy has built-in functions that summarize data, such as finding sums, averages, and extremes. \n",
    "- Aggregate functions operate on entire arrays or along specific axes (rows or columns in 2D arrays).\n",
    "\n",
    "**Basic Aggregates**"
   ]
  },
  {
   "cell_type": "code",
   "execution_count": 6,
   "metadata": {},
   "outputs": [
    {
     "name": "stdout",
     "output_type": "stream",
     "text": [
      "Sum: 24\n",
      "Mean: 4.0\n",
      "Standard Deviation: 1.632993161855452\n",
      "Minimum: 1\n",
      "Maximum: 6\n",
      "Product: 1800\n"
     ]
    }
   ],
   "source": [
    "array = np.array([1, 4, 5, 3, 6, 5])\n",
    "\n",
    "print(\"Sum:\", np.sum(array))      # Sum of all elements\n",
    "print(\"Mean:\", np.mean(array))    # Average\n",
    "print(\"Standard Deviation:\", np.std(array))  # Spread of the data\n",
    "print(\"Minimum:\", np.min(array))\n",
    "print(\"Maximum:\", np.max(array))\n",
    "print(\"Product:\", np.prod(array))  # Product of all elements\n"
   ]
  },
  {
   "cell_type": "markdown",
   "metadata": {},
   "source": [
    "**Aggregates on 2D Arrays**\n",
    "- Use the `axis` parameter to calculate aggregates along rows (`axis=1`) or columns (`axis=0`):"
   ]
  },
  {
   "cell_type": "code",
   "execution_count": 7,
   "metadata": {},
   "outputs": [
    {
     "name": "stdout",
     "output_type": "stream",
     "text": [
      "Column sums: [5 7 9]\n",
      "Row sums: [ 6 15]\n",
      "Row-wise mean: [2. 5.]\n"
     ]
    }
   ],
   "source": [
    "matrix = np.array([[1, 2, 3], [4, 5, 6]])\n",
    "\n",
    "print(\"Column sums:\", np.sum(matrix, axis=0))  # Sum of each column\n",
    "print(\"Row sums:\", np.sum(matrix, axis=1))     # Sum of each row\n",
    "print(\"Row-wise mean:\", np.mean(matrix, axis=1))\n"
   ]
  },
  {
   "cell_type": "markdown",
   "metadata": {},
   "source": [
    "#### 3. Matrix Operations in Numpy\n",
    "**Dot Product**\n",
    "- The dot product is a fundamental operation in linear algebra (used in machine learning). In Numpy, the `np.dot()` or `@` operator is used to calculate it."
   ]
  },
  {
   "cell_type": "code",
   "execution_count": 8,
   "metadata": {},
   "outputs": [
    {
     "name": "stdout",
     "output_type": "stream",
     "text": [
      "Dot product of vectors: 32\n",
      "Matrix multiplication:\n",
      " [[19 22]\n",
      " [43 50]]\n"
     ]
    }
   ],
   "source": [
    "# Dot product of two vectors\n",
    "a = np.array([1, 2, 3])\n",
    "b = np.array([4, 5, 6])\n",
    "print(\"Dot product of vectors:\", np.dot(a, b))  # 1*4 + 2*5 + 3*6\n",
    "\n",
    "# Matrix multiplication\n",
    "matrix_1 = np.array([[1, 2], [3, 4]])\n",
    "matrix_2 = np.array([[5, 6], [7, 8]])\n",
    "print(\"Matrix multiplication:\\n\", np.dot(matrix_1, matrix_2))  # OR matrix_1 @ matrix_2\n",
    "\n"
   ]
  },
  {
   "cell_type": "markdown",
   "metadata": {},
   "source": [
    "##### Matrix Multiplication Explained\n",
    "![alt text](../images/Matrix-graphic.png)\n"
   ]
  },
  {
   "cell_type": "markdown",
   "metadata": {},
   "source": [
    "**Transpose**\n",
    "\n",
    "Switch rows and columns of a matrix with `.T`:"
   ]
  },
  {
   "cell_type": "code",
   "execution_count": 9,
   "metadata": {},
   "outputs": [
    {
     "name": "stdout",
     "output_type": "stream",
     "text": [
      "Original matrix:\n",
      " [[1 2]\n",
      " [3 4]\n",
      " [5 6]]\n",
      "Transposed matrix:\n",
      " [[1 3 5]\n",
      " [2 4 6]]\n"
     ]
    }
   ],
   "source": [
    "matrix = np.array([[1, 2], [3, 4], [5, 6]])\n",
    "print(\"Original matrix:\\n\", matrix)\n",
    "print(\"Transposed matrix:\\n\", matrix.T)\n"
   ]
  },
  {
   "cell_type": "markdown",
   "metadata": {},
   "source": [
    "**Identity Matrices and Inverses**\n",
    "- Identity Matrix\n",
    "    - The identity matrix acts as the equivalent of \"1\" for matrix multiplication."
   ]
  },
  {
   "cell_type": "code",
   "execution_count": 10,
   "metadata": {},
   "outputs": [
    {
     "name": "stdout",
     "output_type": "stream",
     "text": [
      "Identity Matrix:\n",
      " [[1. 0. 0.]\n",
      " [0. 1. 0.]\n",
      " [0. 0. 1.]]\n"
     ]
    }
   ],
   "source": [
    "identity = np.eye(3)  # 3x3 identity matrix\n",
    "print(\"Identity Matrix:\\n\", identity)\n"
   ]
  },
  {
   "cell_type": "markdown",
   "metadata": {},
   "source": [
    "- Matrix Inverse\n",
    "    - The inverse of a matrix is calculated using `np.linalg.inv()`:"
   ]
  },
  {
   "cell_type": "code",
   "execution_count": 11,
   "metadata": {},
   "outputs": [
    {
     "name": "stdout",
     "output_type": "stream",
     "text": [
      "Matrix inverse:\n",
      " [[-2.   1. ]\n",
      " [ 1.5 -0.5]]\n",
      "Verification (Matrix * Inverse):\n",
      " [[1.0000000e+00 0.0000000e+00]\n",
      " [8.8817842e-16 1.0000000e+00]]\n"
     ]
    }
   ],
   "source": [
    "matrix = np.array([[1, 2], [3, 4]])\n",
    "inverse = np.linalg.inv(matrix)\n",
    "print(\"Matrix inverse:\\n\", inverse)\n",
    "\n",
    "# Verify: Matrix multiplied by its inverse equals the identity matrix\n",
    "print(\"Verification (Matrix * Inverse):\\n\", np.dot(matrix, inverse))\n"
   ]
  },
  {
   "cell_type": "markdown",
   "metadata": {},
   "source": [
    "----\n",
    "#### Quick Exercises\n",
    "1. Perform Aggregate Functions:\n",
    "\n",
    "    - Create a 3x3 matrix and calculate the sum, mean, and standard deviation of the entire array.\n",
    "    - Find the minimum for each column and the maximum for each row.\n",
    "2. Dot Product:\n",
    "\n",
    "    - Find the dot product of two 1D arrays: [3, 4, 5] and [2, 1, 3].\n",
    "    - Multiply two 2x2 matrices element-wise and using the dot product.\n",
    "\n",
    "3. Matrix Manipulation:\n",
    "\n",
    "    - Create a random 3x3 matrix and compute its transpose and inverse. Verify the inverse by matrix multiplication.\n",
    "\n",
    "\n",
    "**Please Note:** The solutions to above questions will be present at the end of next session's (Day 9) Notebook.\n",
    "\n",
    "\n",
    "---- \n"
   ]
  },
  {
   "cell_type": "markdown",
   "metadata": {},
   "source": [
    "### Day 7 Exercise Solution"
   ]
  },
  {
   "cell_type": "markdown",
   "metadata": {},
   "source": [
    "1. Create the following arrays using Numpy:\n",
    "\n",
    "    - A 1D array with values from 10 to 50.\n",
    "    - A 2D array of zeros with shape (4, 3).\n",
    "    - A random 2x2 matrix."
   ]
  },
  {
   "cell_type": "code",
   "execution_count": 12,
   "metadata": {},
   "outputs": [
    {
     "name": "stdout",
     "output_type": "stream",
     "text": [
      "1D array: [10 11 12 13 14 15 16 17 18 19 20 21 22 23 24 25 26 27 28 29 30 31 32 33\n",
      " 34 35 36 37 38 39 40 41 42 43 44 45 46 47 48 49 50]\n",
      "2D array of zeros:\n",
      " [[0. 0. 0.]\n",
      " [0. 0. 0.]\n",
      " [0. 0. 0.]\n",
      " [0. 0. 0.]]\n",
      "Random 2x2 matrix:\n",
      " [[0.33598675 0.11017239]\n",
      " [0.42593056 0.28806638]]\n"
     ]
    }
   ],
   "source": [
    "import numpy as np\n",
    "\n",
    "# A 1D array with values from 10 to 50\n",
    "array_1d = np.arange(10, 51)\n",
    "print(\"1D array:\", array_1d)\n",
    "\n",
    "# A 2D array of zeros with shape (4, 3)\n",
    "array_zeros = np.zeros((4, 3))\n",
    "print(\"2D array of zeros:\\n\", array_zeros)\n",
    "\n",
    "# A random 2x2 matrix\n",
    "random_matrix = np.random.rand(2, 2)\n",
    "print(\"Random 2x2 matrix:\\n\", random_matrix)\n"
   ]
  },
  {
   "cell_type": "markdown",
   "metadata": {},
   "source": [
    "2. Perform the following operations:\n",
    "\n",
    "    - Add 5 to every element of an array.\n",
    "    - Select all elements greater than 25 in an array."
   ]
  },
  {
   "cell_type": "code",
   "execution_count": 13,
   "metadata": {},
   "outputs": [
    {
     "name": "stdout",
     "output_type": "stream",
     "text": [
      "Array after adding 5:\n",
      " [15 16 17 18 19 20 21 22 23 24 25 26 27 28 29 30 31 32 33 34 35 36 37 38\n",
      " 39 40 41 42 43 44 45 46 47 48 49 50 51 52 53 54 55]\n",
      "Elements greater than 25:\n",
      " [26 27 28 29 30 31 32 33 34 35 36 37 38 39 40 41 42 43 44 45 46 47 48 49\n",
      " 50]\n"
     ]
    }
   ],
   "source": [
    "# Add 5 to every element of an array\n",
    "array_modified = array_1d + 5\n",
    "print(\"Array after adding 5:\\n\", array_modified)\n",
    "\n",
    "# Select all elements greater than 25 in an array\n",
    "greater_than_25 = array_1d[array_1d > 25]\n",
    "print(\"Elements greater than 25:\\n\", greater_than_25)\n",
    "\n"
   ]
  },
  {
   "cell_type": "markdown",
   "metadata": {},
   "source": [
    "3. Reshape a 1D array of size 12 into a 3x4 matrix."
   ]
  },
  {
   "cell_type": "code",
   "execution_count": 14,
   "metadata": {},
   "outputs": [
    {
     "name": "stdout",
     "output_type": "stream",
     "text": [
      "Reshaped 3x4 matrix:\n",
      " [[ 0  1  2  3]\n",
      " [ 4  5  6  7]\n",
      " [ 8  9 10 11]]\n"
     ]
    }
   ],
   "source": [
    "array_reshaped = np.arange(12).reshape(3, 4)\n",
    "print(\"Reshaped 3x4 matrix:\\n\", array_reshaped)\n"
   ]
  },
  {
   "cell_type": "markdown",
   "metadata": {},
   "source": [
    "4. Slice a 2D array to extract:\n",
    "\n",
    "    - The first row.\n",
    "    - All rows, but only the second column."
   ]
  },
  {
   "cell_type": "code",
   "execution_count": 15,
   "metadata": {},
   "outputs": [
    {
     "name": "stdout",
     "output_type": "stream",
     "text": [
      "First row: [1 2 3]\n",
      "Second column: [2 5 8]\n"
     ]
    }
   ],
   "source": [
    "array_2d = np.array([[1, 2, 3], \n",
    "                      [4, 5, 6], \n",
    "                      [7, 8, 9]])\n",
    "\n",
    "# Extract the first row\n",
    "first_row = array_2d[0]\n",
    "print(\"First row:\", first_row)\n",
    "\n",
    "# Extract all rows, but only the second column\n",
    "second_column = array_2d[:, 1]\n",
    "print(\"Second column:\", second_column)\n",
    "\n"
   ]
  },
  {
   "cell_type": "markdown",
   "metadata": {},
   "source": [
    "# HAPPY LEARNING"
   ]
  }
 ],
 "metadata": {
  "kernelspec": {
   "display_name": "Python 3",
   "language": "python",
   "name": "python3"
  },
  "language_info": {
   "codemirror_mode": {
    "name": "ipython",
    "version": 3
   },
   "file_extension": ".py",
   "mimetype": "text/x-python",
   "name": "python",
   "nbconvert_exporter": "python",
   "pygments_lexer": "ipython3",
   "version": "3.12.2"
  }
 },
 "nbformat": 4,
 "nbformat_minor": 2
}
