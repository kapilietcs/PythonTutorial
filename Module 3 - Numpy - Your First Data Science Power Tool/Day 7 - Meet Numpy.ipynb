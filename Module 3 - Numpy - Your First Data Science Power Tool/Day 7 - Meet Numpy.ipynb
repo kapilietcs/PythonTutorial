{
 "cells": [
  {
   "cell_type": "markdown",
   "metadata": {},
   "source": [
    "![alt text](<../images/just enough.png>)\n",
    "# Just Enough Python for AI/Data Science\n",
    "## Module 3: Numpy- Your First Data Science Power Tool\n",
    ">This module will ensure you can wrangle numerical data efficiently before tackling larger datasets with pandas. It’s just enough to prep you for serious data crunching.\n",
    "### Day 7 - Meet Numpy: The Swiss Army Knife of Arrays\n",
    "----"
   ]
  },
  {
   "cell_type": "markdown",
   "metadata": {},
   "source": [
    "##### Overview:\n",
    "\n",
    "Numpy is one of the most popular libraries in Data Science. If Python is your toolbox, think of Numpy as your Swiss Army Knife—it helps you handle data more efficiently and lays the foundation for working with more complex data tools like Pandas and Scikit-Learn.\n",
    "\n",
    "Today we will understand:\n",
    "\n",
    "- Why Numpy is critical for data science.\n",
    "- How to create and manipulate **Numpy arrays**.\n",
    "- The basics of **array operations, indexing, reshaping, and slicing**."
   ]
  },
  {
   "cell_type": "markdown",
   "metadata": {},
   "source": [
    "#### 1. What Is Numpy and Why Do We Need It?\n",
    "**Why Not Just Use Python Lists?**\n",
    "Python lists are versatile, but they have limitations:\n",
    "\n",
    "- 1. **Inefficient Memory Use:** Lists store references to objects, wasting memory.\n",
    "- 2. **Slow for Numerical Operations:** Lists require looping through elements, while Numpy operates on vectors for faster computations.\n",
    "- 3. **No Advanced Mathematical Operations:** To perform calculations like matrix operations, you need additional code or libraries.\n",
    "\n",
    "**Numpy to the Rescue**\n",
    "Numpy (**Numerical Python**) is designed for **efficient numerical computing**. It brings:\n",
    "\n",
    "- 1. **Fast Operations:** Written in C, Numpy is much faster than lists for numerical operations.\n",
    "- 2. **Compact Storage:** Arrays are stored in fixed-size memory blocks, saving space.\n",
    "- 3. **Advanced Capabilities:** Built-in functions handle linear algebra, statistics, and data wrangling with ease.\n",
    "- 4. **Array Broadcasting:** Perform operations on entire arrays without writing loops.\n",
    "\n",
    "**Install Numpy**\n",
    "\n",
    "Before we begin, make sure Numpy is installed:"
   ]
  },
  {
   "cell_type": "code",
   "execution_count": 1,
   "metadata": {},
   "outputs": [],
   "source": [
    "# !pip3 install numpy\n"
   ]
  },
  {
   "cell_type": "markdown",
   "metadata": {},
   "source": [
    "#### 2. Making Your First Numpy Array\n",
    "A Numpy array is like a list, but faster, more compact, and designed explicitly for mathematical calculations.\n",
    "\n",
    "**Basic Array Creation**\n",
    "Import Numpy and create simple arrays."
   ]
  },
  {
   "cell_type": "code",
   "execution_count": 1,
   "metadata": {},
   "outputs": [],
   "source": [
    "import numpy as np"
   ]
  },
  {
   "cell_type": "code",
   "execution_count": 2,
   "metadata": {},
   "outputs": [
    {
     "name": "stdout",
     "output_type": "stream",
     "text": [
      "1D array: [1 2 3 4 5]\n",
      "2D array:\n",
      " [[1 2 3]\n",
      " [4 5 6]]\n"
     ]
    }
   ],
   "source": [
    "# Create a 1D array\n",
    "array_1d = np.array([1, 2, 3, 4, 5])\n",
    "print(\"1D array:\", array_1d)\n",
    "\n",
    "# Create a 2D array\n",
    "array_2d = np.array([[1, 2, 3], [4, 5, 6]])\n",
    "print(\"2D array:\\n\", array_2d)\n"
   ]
  },
  {
   "cell_type": "markdown",
   "metadata": {},
   "source": [
    "**Differences from Python Lists**"
   ]
  },
  {
   "cell_type": "code",
   "execution_count": 3,
   "metadata": {},
   "outputs": [
    {
     "name": "stdout",
     "output_type": "stream",
     "text": [
      "Python list + 2 (Error!): [3, 4, 5]\n",
      "Numpy array + 2: [3 4 5]\n"
     ]
    }
   ],
   "source": [
    "# Python list vs Numpy array\n",
    "python_list = [1, 2, 3]\n",
    "numpy_array = np.array([1, 2, 3])\n",
    "\n",
    "# Example: Add 2 to each element\n",
    "# print(\"Numpy array + 2:\", python_list + 2)\n",
    "print(\"Python list + 2 (Error!):\", [x + 2 for x in python_list])\n",
    "print(\"Numpy array + 2:\", numpy_array + 2)\n"
   ]
  },
  {
   "cell_type": "markdown",
   "metadata": {},
   "source": [
    "#### 3. Numpy Advantages: Array Operations\n",
    "**Arithmetic Operations**\n",
    "- Perform operations on entire arrays at once (element-wise operations)."
   ]
  },
  {
   "cell_type": "code",
   "execution_count": 4,
   "metadata": {},
   "outputs": [
    {
     "name": "stdout",
     "output_type": "stream",
     "text": [
      "Add 2: [3 4 5 6 7]\n",
      "Multiply by 3: [ 3  6  9 12 15]\n",
      "Square each element: [ 1  4  9 16 25]\n"
     ]
    }
   ],
   "source": [
    "array = np.array([1, 2, 3, 4, 5])\n",
    "\n",
    "# Element-wise operations\n",
    "print(\"Add 2:\", array + 2)\n",
    "print(\"Multiply by 3:\", array * 3)\n",
    "print(\"Square each element:\", array ** 2)\n"
   ]
  },
  {
   "cell_type": "markdown",
   "metadata": {},
   "source": [
    "**Array Comparisons**\n",
    "\n",
    "- Compare and filter elements easily."
   ]
  },
  {
   "cell_type": "code",
   "execution_count": 5,
   "metadata": {},
   "outputs": [
    {
     "name": "stdout",
     "output_type": "stream",
     "text": [
      "Array > 3: [False False False  True  True]\n",
      "Array == 3: [False False  True False False]\n"
     ]
    }
   ],
   "source": [
    "print(\"Array > 3:\", array > 3)\n",
    "print(\"Array == 3:\", array == 3)\n"
   ]
  },
  {
   "cell_type": "markdown",
   "metadata": {},
   "source": [
    "#### 4. Array Dimensions and Shapes\n",
    "- Understanding the shape of an array is critical when working with multi-dimensional data.\n",
    "- **Check Array Dimensions**"
   ]
  },
  {
   "cell_type": "code",
   "execution_count": 6,
   "metadata": {},
   "outputs": [
    {
     "name": "stdout",
     "output_type": "stream",
     "text": [
      "1D array shape: (5,)\n",
      "2D array shape: (2, 3)\n",
      "Number of dimensions (ndim): 2\n",
      "Number of elements (size): 6\n"
     ]
    }
   ],
   "source": [
    "array_1d = np.array([1, 2, 3, 4, 5])\n",
    "array_2d = np.array([[1, 2, 3], [4, 5, 6]])\n",
    "\n",
    "print(\"1D array shape:\", array_1d.shape)\n",
    "print(\"2D array shape:\", array_2d.shape)\n",
    "print(\"Number of dimensions (ndim):\", array_2d.ndim)\n",
    "print(\"Number of elements (size):\", array_2d.size)"
   ]
  },
  {
   "cell_type": "markdown",
   "metadata": {},
   "source": [
    "**Reshaping Arrays**\n",
    "- Reshape arrays to different dimensions using `.reshape()`."
   ]
  },
  {
   "cell_type": "code",
   "execution_count": 7,
   "metadata": {},
   "outputs": [
    {
     "name": "stdout",
     "output_type": "stream",
     "text": [
      "Reshaped to 2x3:\n",
      " [[1 2 3]\n",
      " [4 5 6]]\n",
      "Flattened to 1D: [1 2 3 4 5 6]\n"
     ]
    }
   ],
   "source": [
    "array = np.array([1, 2, 3, 4, 5, 6])\n",
    "\n",
    "# Reshape to 2x3\n",
    "reshaped = array.reshape(2, 3)\n",
    "print(\"Reshaped to 2x3:\\n\", reshaped)\n",
    "\n",
    "# Reshape back to 1D\n",
    "flattened = reshaped.ravel()\n",
    "print(\"Flattened to 1D:\", flattened)\n"
   ]
  },
  {
   "cell_type": "code",
   "execution_count": 8,
   "metadata": {},
   "outputs": [
    {
     "name": "stdout",
     "output_type": "stream",
     "text": [
      "3D array shape: (2, 2, 3)\n",
      "Number of dimensions: 3\n",
      "[[[ 1  2  3]\n",
      "  [ 4  5  6]]\n",
      "\n",
      " [[ 7  8  9]\n",
      "  [10 11 12]]]\n"
     ]
    }
   ],
   "source": [
    "array_3d = np.array([\n",
    "    [[1, 2, 3], [4, 5, 6]],\n",
    "    \n",
    "    [[7, 8, 9], [10, 11, 12]]\n",
    "])\n",
    "print(\"3D array shape:\", array_3d.shape)\n",
    "print(\"Number of dimensions:\", array_3d.ndim)\n",
    "print(array_3d)"
   ]
  },
  {
   "cell_type": "markdown",
   "metadata": {},
   "source": [
    "#### 5. Indexing and Slicing\n",
    "\n",
    "**Indexing**\n",
    "- Access elements using indices, similar to lists."
   ]
  },
  {
   "cell_type": "code",
   "execution_count": 9,
   "metadata": {},
   "outputs": [
    {
     "name": "stdout",
     "output_type": "stream",
     "text": [
      "First element: 10\n",
      "Last element: 50\n",
      "Element at [1, 2]: 6\n",
      "Row 1: [4 5 6]\n"
     ]
    }
   ],
   "source": [
    "array = np.array([10, 20, 30, 40, 50])\n",
    "\n",
    "# Access specific elements\n",
    "print(\"First element:\", array[0])\n",
    "print(\"Last element:\", array[-1])\n",
    "\n",
    "# Access elements in a 2D array\n",
    "array_2d = np.array([[1, 2, 3], [4, 5, 6]])\n",
    "print(\"Element at [1, 2]:\", array_2d[1, 2])  # Row 1, Column 2\n",
    "print(\"Row 1:\", array_2d[1])  # Row 1"
   ]
  },
  {
   "cell_type": "markdown",
   "metadata": {},
   "source": [
    "**Slicing**\n",
    "- Retrieve subsets of an array efficiently.\n",
    "\n"
   ]
  },
  {
   "cell_type": "code",
   "execution_count": 10,
   "metadata": {},
   "outputs": [
    {
     "name": "stdout",
     "output_type": "stream",
     "text": [
      "Elements 1st to 3rd: [10 20 30]\n",
      "First row: [1 2 3]\n",
      "First column: [1 4]\n"
     ]
    }
   ],
   "source": [
    "# Slicing in 1D array\n",
    "array = np.array([10, 20, 30, 40, 50])\n",
    "print(\"Elements 1st to 3rd:\", array[0:3])\n",
    "\n",
    "# Slicing in 2D array\n",
    "array_2d = np.array([[1, 2, 3], [4, 5, 6]])\n",
    "print(\"First row:\", array_2d[0, :])  # All columns of the first row\n",
    "print(\"First column:\", array_2d[:, 0])  # All rows of the first column\n"
   ]
  },
  {
   "cell_type": "markdown",
   "metadata": {},
   "source": [
    "**Fancy Indexing and Boolean Masks**"
   ]
  },
  {
   "cell_type": "code",
   "execution_count": 11,
   "metadata": {},
   "outputs": [
    {
     "name": "stdout",
     "output_type": "stream",
     "text": [
      "Select indices 1, 3, and 4: [20 40 50]\n",
      "Elements > 30: [40 50]\n"
     ]
    }
   ],
   "source": [
    "array = np.array([10, 20, 30, 40, 50])\n",
    "\n",
    "# Fancy indexing (using a list of indices)\n",
    "print(\"Select indices 1, 3, and 4:\", array[[1, 3, 4]])\n",
    "\n",
    "# Boolean mask\n",
    "print(\"Elements > 30:\", array[array > 30])  # Select elements greater than 30\n"
   ]
  },
  {
   "cell_type": "markdown",
   "metadata": {},
   "source": [
    "#### 6. Creating Arrays: Useful Numpy Functions\n",
    "- Numpy provides several methods to generate arrays with specific patterns or values.\n",
    "\n",
    "**Arrays of Zeros and Ones**\n",
    "- Used for initializing arrays."
   ]
  },
  {
   "cell_type": "code",
   "execution_count": 12,
   "metadata": {},
   "outputs": [
    {
     "name": "stdout",
     "output_type": "stream",
     "text": [
      "Zeros:\n",
      " [[0. 0. 0.]\n",
      " [0. 0. 0.]]\n",
      "Ones:\n",
      " [[1. 1.]\n",
      " [1. 1.]\n",
      " [1. 1.]]\n"
     ]
    }
   ],
   "source": [
    "\n",
    "# Array of zeros\n",
    "zeros = np.zeros((2, 3))\n",
    "print(\"Zeros:\\n\", zeros)\n",
    "\n",
    "# Array of ones\n",
    "ones = np.ones((3, 2))\n",
    "print(\"Ones:\\n\", ones)"
   ]
  },
  {
   "cell_type": "markdown",
   "metadata": {},
   "source": [
    "**Arrays with a Range of Numbers**\n",
    "- Generate a sequence of values."
   ]
  },
  {
   "cell_type": "code",
   "execution_count": 13,
   "metadata": {},
   "outputs": [
    {
     "name": "stdout",
     "output_type": "stream",
     "text": [
      "Range array: [0 2 4 6 8]\n",
      "Linspace array: [0.   0.25 0.5  0.75 1.  ]\n"
     ]
    }
   ],
   "source": [
    "# Similar to Python's range()\n",
    "range_array = np.arange(0, 10, 2)\n",
    "print(\"Range array:\", range_array)\n",
    "\n",
    "# Linearly spaced array\n",
    "linspace_array = np.linspace(0, 1, 5)  # 5 values between 0 and 1\n",
    "print(\"Linspace array:\", linspace_array)\n"
   ]
  },
  {
   "cell_type": "markdown",
   "metadata": {},
   "source": [
    "**Random Arrays**\n",
    "- Useful for simulations or initializing weights in deep learning."
   ]
  },
  {
   "cell_type": "code",
   "execution_count": 14,
   "metadata": {},
   "outputs": [
    {
     "name": "stdout",
     "output_type": "stream",
     "text": [
      "Random array:\n",
      " [[0.38007538 0.3326601 ]\n",
      " [0.4502289  0.3804497 ]\n",
      " [0.63897426 0.1518766 ]]\n",
      "Random integers:\n",
      " [[0 8]\n",
      " [1 2]]\n"
     ]
    }
   ],
   "source": [
    "# Random values between 0 and 1\n",
    "random_array = np.random.rand(3, 2)\n",
    "print(\"Random array:\\n\", random_array)\n",
    "\n",
    "# Random integers\n",
    "random_integers = np.random.randint(0, 10, (2, 2))  # Integers between 0 and 10\n",
    "print(\"Random integers:\\n\", random_integers)\n"
   ]
  },
  {
   "cell_type": "markdown",
   "metadata": {},
   "source": [
    "#### 7. Copying vs Viewing Arrays\n",
    "- Be careful when copying or slicing arrays. Numpy distinguishes between views (linked to the original data) and copies (independent)."
   ]
  },
  {
   "cell_type": "code",
   "execution_count": 15,
   "metadata": {},
   "outputs": [
    {
     "name": "stdout",
     "output_type": "stream",
     "text": [
      "view [2 3]\n",
      "Original array after view change: [ 1 99  3  4  5]\n",
      "copy [99  3]\n",
      "Original array after copy change: [ 1 99  3  4  5]\n",
      "Copy after change: [88  3]\n"
     ]
    }
   ],
   "source": [
    "array = np.array([1, 2, 3, 4, 5])\n",
    "\n",
    "# View (changes affect the original array)\n",
    "view = array[1:3]\n",
    "print(\"view\", view)\n",
    "view[0] = 99\n",
    "print(\"Original array after view change:\", array)\n",
    "\n",
    "# Copy (changes do NOT affect the original array)\n",
    "copy = array[1:3].copy()\n",
    "print(\"copy\", copy)\n",
    "copy[0] = 88\n",
    "print(\"Original array after copy change:\", array)\n",
    "print(\"Copy after change:\", copy)\n",
    "\n"
   ]
  },
  {
   "cell_type": "markdown",
   "metadata": {},
   "source": [
    "----\n",
    "#### Quick Exercises\n",
    "1. Create the following arrays using Numpy:\n",
    "\n",
    "    - A 1D array with values from 10 to 50.\n",
    "    - A 2D array of zeros with shape (4, 3).\n",
    "    - A random 2x2 matrix.\n",
    "\n",
    "2. Perform the following operations:\n",
    "\n",
    "    - Add 5 to every element of an array.\n",
    "    - Select all elements greater than 25 in an array.\n",
    "\n",
    "\n",
    "3. Reshape a 1D array of size 12 into a 3x4 matrix.\n",
    "\n",
    "4. Slice a 2D array to extract:\n",
    "\n",
    "    - The first row.\n",
    "    - All rows, but only the second column.\n",
    "\n",
    "\n",
    "**Please Note:** The solutions to above questions will be present at the end of next session's (Day 8- Basic Data Math with Numpy) Notebook.\n",
    "\n",
    "\n",
    "---- \n"
   ]
  },
  {
   "cell_type": "markdown",
   "metadata": {},
   "source": [
    "### Day 6 Exercise Solution"
   ]
  },
  {
   "cell_type": "markdown",
   "metadata": {},
   "source": [
    "1. Create a greeting function that takes a name and age and says:\n",
    "\n",
    "    - `\"Hello, [name]! You are [age] years old.\"`"
   ]
  },
  {
   "cell_type": "code",
   "execution_count": 16,
   "metadata": {},
   "outputs": [
    {
     "name": "stdout",
     "output_type": "stream",
     "text": [
      "Hello, Babu Rao! You are 48 years old.\n"
     ]
    }
   ],
   "source": [
    "def greet(name, age):\n",
    "    return f\"Hello, {name}! You are {age} years old.\"\n",
    "\n",
    "# Example usage\n",
    "print(greet(\"Babu Rao\", 48))\n"
   ]
  },
  {
   "cell_type": "markdown",
   "metadata": {},
   "source": [
    "2. Write a function to calculate the area of a rectangle with default parameters length=10 and width=5."
   ]
  },
  {
   "cell_type": "code",
   "execution_count": 17,
   "metadata": {},
   "outputs": [
    {
     "name": "stdout",
     "output_type": "stream",
     "text": [
      "50\n",
      "21\n"
     ]
    }
   ],
   "source": [
    "def rectangle_area(length=10, width=5):\n",
    "    return length * width\n",
    "\n",
    "# Example usage\n",
    "print(rectangle_area())        # Uses default values: 10 * 5 = 50\n",
    "print(rectangle_area(7, 3))    # Custom values: 7 * 3 = 21\n"
   ]
  },
  {
   "cell_type": "markdown",
   "metadata": {},
   "source": [
    "3. Create a function is_even() that takes a number and returns True if it’s even, and False otherwise."
   ]
  },
  {
   "cell_type": "code",
   "execution_count": 18,
   "metadata": {},
   "outputs": [
    {
     "name": "stdout",
     "output_type": "stream",
     "text": [
      "True\n",
      "False\n"
     ]
    }
   ],
   "source": [
    "def is_even(number):\n",
    "    return number % 2 == 0\n",
    "\n",
    "# Example usage\n",
    "print(is_even(10))  # True\n",
    "print(is_even(7))   # False\n"
   ]
  },
  {
   "cell_type": "markdown",
   "metadata": {},
   "source": [
    "4. Write a function process_list() that takes a list of numbers and:\n",
    "    - Removes duplicates,\n",
    "    - Sorts the list in ascending order, and\n",
    "    - Returns the cleaned list.\n",
    "    - Use a lambda function inside Python’s filter() to extract all even numbers from the list:\n",
    "        - `numbers = [3, 6, 8, 7, 5, 9, 2]`"
   ]
  },
  {
   "cell_type": "code",
   "execution_count": 22,
   "metadata": {},
   "outputs": [
    {
     "name": "stdout",
     "output_type": "stream",
     "text": [
      "Cleaned List: [2, 3, 5, 6, 7, 8, 9]\n",
      "Even Numbers: [2, 6, 8]\n"
     ]
    }
   ],
   "source": [
    "def process_list(numbers):\n",
    "    # Remove duplicates and sort\n",
    "    cleaned_list = sorted(set(numbers))\n",
    "\n",
    "    # Extract even numbers using filter + lambda\n",
    "    even_numbers = list(filter(lambda x: x % 2 == 0, cleaned_list))\n",
    "\n",
    "    return cleaned_list, even_numbers\n",
    "\n",
    "# Example usage\n",
    "numbers = [3, 6, 8, 7, 5, 9, 2]\n",
    "cleaned, evens = process_list(numbers)\n",
    "print(\"Cleaned List:\", cleaned)  # [2, 3, 5, 6, 7, 8, 9]\n",
    "print(\"Even Numbers:\", evens)    # [2, 6, 8]\n"
   ]
  },
  {
   "cell_type": "markdown",
   "metadata": {},
   "source": [
    "# HAPPY LEARNING"
   ]
  }
 ],
 "metadata": {
  "kernelspec": {
   "display_name": "Python 3",
   "language": "python",
   "name": "python3"
  },
  "language_info": {
   "codemirror_mode": {
    "name": "ipython",
    "version": 3
   },
   "file_extension": ".py",
   "mimetype": "text/x-python",
   "name": "python",
   "nbconvert_exporter": "python",
   "pygments_lexer": "ipython3",
   "version": "3.12.2"
  }
 },
 "nbformat": 4,
 "nbformat_minor": 2
}
