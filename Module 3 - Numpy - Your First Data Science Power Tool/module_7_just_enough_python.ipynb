{
 "cells": [
  {
   "cell_type": "markdown",
   "metadata": {},
   "source": [
    "# Just Enough Python for AI/Data Science\n",
    "#### Module 7"
   ]
  },
  {
   "cell_type": "markdown",
   "metadata": {},
   "source": [
    "**Introduction to Popular Data Science Libraries**\n",
    "___\n",
    "> In this module, you’ll get a sneak peek at the three “celebrity guests” of Python’s data science universe: NumPy for numeric computing, pandas for data wrangling, and matplotlib/seaborn for visualization. The idea is to show that with just the Python basics (plus these libraries), you can already do some powerful data tasks—without diving deep into actual ML modeling quite yet."
   ]
  },
  {
   "cell_type": "markdown",
   "metadata": {},
   "source": [
    "##### Overview:\n",
    "- This module serves as a crash course in the essential data science libraries: NumPy, pandas, and a sprinkle of matplotlib/seaborn for plotting.\n",
    "- By the end, you’ll know how to install them, do some basic manipulations, and create simple visuals. Think of it as a gateway into the magical world of data analysis."
   ]
  },
  {
   "cell_type": "markdown",
   "metadata": {},
   "source": [
    "**1. NumPy: Your High-Speed Number Cruncher**\n",
    "- NumPy arrays are like Python lists on steroids—faster operations and built for math.\n",
    "- Example:"
   ]
  },
  {
   "cell_type": "code",
   "execution_count": 1,
   "metadata": {},
   "outputs": [
    {
     "name": "stdout",
     "output_type": "stream",
     "text": [
      "[2 4 6 8]\n",
      "(4,)\n"
     ]
    }
   ],
   "source": [
    "import numpy as np\n",
    "\n",
    "my_array = np.array([1, 2, 3, 4])\n",
    "print(my_array * 2)  # [2, 4, 6, 8]\n",
    "print(my_array.shape)  # (4,)\n"
   ]
  },
  {
   "cell_type": "markdown",
   "metadata": {},
   "source": [
    "- Broadcasting, slicing, and various math functions are where NumPy really shines.\n",
    "- Example: If you have two arrays of the same shape, you can manipulate them element-wise easily."
   ]
  },
  {
   "cell_type": "markdown",
   "metadata": {},
   "source": [
    "**2. pandas: DataFrames for the Win**\n",
    "- pandas gives you the beloved DataFrame structure, which is basically a supercharged spreadsheet in code form.\n",
    "- A typical workflow:"
   ]
  },
  {
   "cell_type": "code",
   "execution_count": null,
   "metadata": {},
   "outputs": [],
   "source": [
    "import pandas as pd\n",
    "\n",
    "# Read data from a CSV\n",
    "df = pd.read_csv(\"sample_data.csv\")\n",
    "print(df.head())  # See first few rows\n",
    "\n",
    "# Basic info\n",
    "print(df.info())\n",
    "\n",
    "# Simple summary stats\n",
    "print(df.describe())"
   ]
  },
  {
   "cell_type": "markdown",
   "metadata": {},
   "source": [
    "- You can filter, group, sort, pivot, merge—it’s your Swiss Army Knife of Data.\n",
    "- Perfect for quick exploration and a must-have in data science and AI projects."
   ]
  },
  {
   "cell_type": "markdown",
   "metadata": {},
   "source": [
    "**3. matplotlib & seaborn: Drawing Pretty Graphs**\n",
    "- matplotlib is the fundamental plotting library—great for custom charts.\n",
    "- seaborn (built on matplotlib) provides prettier, more “statistically-minded” plots out of the box.\n",
    "- Example:"
   ]
  },
  {
   "cell_type": "code",
   "execution_count": null,
   "metadata": {},
   "outputs": [],
   "source": [
    "import matplotlib.pyplot as plt\n",
    "import seaborn as sns\n",
    "\n",
    "sns.set()  # Make seaborn your default style\n",
    "\n",
    "# Suppose 'df' from above has columns 'Age' and 'Salary'\n",
    "plt.scatter(df['Age'], df['Salary'])\n",
    "plt.title(\"Age vs Salary\")\n",
    "plt.xlabel(\"Age\")\n",
    "plt.ylabel(\"Salary\")\n",
    "plt.show()"
   ]
  },
  {
   "cell_type": "markdown",
   "metadata": {},
   "source": [
    "**A Fun Mini Project (Combining Everything)**\n",
    "- Load a CSV using pandas.\n",
    "- Get some basic stats (df.describe()).\n",
    "- Clean up any missing values (e.g., df.dropna()).\n",
    "- Convert a column into a NumPy array to do a quick math operation (like scaling).\n",
    "- Finally, plot a histogram of one numerical column or a bar chart of some category distribution.\n",
    "- Show that all this is possible with “just enough Python” plus these libraries.\n",
    "\n",
    "**Installation & Quick Tips**\n",
    "- Installation: pip install numpy pandas matplotlib seaborn (or use conda install if you’re in the Anaconda ecosystem).\n",
    "- Check versions if weird errors occur: sometimes an update on one library can cause a chain reaction.\n",
    "- Start simple: load a small CSV with around 100 rows, not a massive 10GB dataset."
   ]
  },
  {
   "cell_type": "markdown",
   "metadata": {},
   "source": []
  }
 ],
 "metadata": {
  "kernelspec": {
   "display_name": "Python 3",
   "language": "python",
   "name": "python3"
  },
  "language_info": {
   "codemirror_mode": {
    "name": "ipython",
    "version": 3
   },
   "file_extension": ".py",
   "mimetype": "text/x-python",
   "name": "python",
   "nbconvert_exporter": "python",
   "pygments_lexer": "ipython3",
   "version": "3.12.2"
  }
 },
 "nbformat": 4,
 "nbformat_minor": 2
}
