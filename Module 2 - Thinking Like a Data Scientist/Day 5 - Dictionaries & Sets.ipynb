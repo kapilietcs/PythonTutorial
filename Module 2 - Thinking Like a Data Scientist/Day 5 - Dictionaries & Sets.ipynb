{
 "cells": [
  {
   "cell_type": "markdown",
   "metadata": {},
   "source": [
    "## Module 2: Thinking Like a Data Scientist\n",
    "> This module helps you organize and work with data like a pro. You’ll master lists, tuples, dictionaries, and sets to store and retrieve data efficiently. Then, you’ll learn to write functions so you’re not rewriting the same code over and over—because real data scientists keep it clean and reusable!\n",
    "### Day 5 - Dictionaries & Sets: When Indexes Aren’t Enough!\n",
    "----"
   ]
  },
  {
   "cell_type": "markdown",
   "metadata": {},
   "source": [
    "##### Overview:\n",
    "\n",
    "You’re now officially best friends with lists and tuples, but sometimes a simple list isn’t enough. Imagine you’re working on a project and need to store information like this:\n",
    "\n",
    "- Name: \"Ada Lovelace\"\n",
    "- Field: \"Mathematics, Computer Science\"\n",
    "- Contributions: \"First Programmer\"\n",
    "\n",
    "Using a list to store this information feels a bit awkward, doesn’t it? How do you know which value is the \"name\" and which is the \"field\"? This is exactly where **dictionaries** come in—they organize data in a way that makes sense.\n",
    "\n",
    "And then there’s their quieter cousin, **sets**, which exist to keep things unique—a highly underrated trait when dealing with messy data.\n"
   ]
  },
  {
   "cell_type": "markdown",
   "metadata": {},
   "source": [
    "#### 1. What Are Dictionaries?\n",
    "\n",
    "A **dictionary** is all about creating key-value pairs. Think of it as a real-life dictionary where words are keys, and their definitions are values:\n",
    "\n",
    "- **Key**: Something unique, like \"Name.\"\n",
    "- **Value**: The data associated with that key, like \"Ada Lovelace.\"\n",
    "\n",
    "- Example usage in data science: storing student IDs (keys) mapped to names (values), or feature names (keys) mapped to data lists (values).\n"
   ]
  },
  {
   "cell_type": "markdown",
   "metadata": {},
   "source": [
    "**Creating Dictionaries**"
   ]
  },
  {
   "cell_type": "code",
   "execution_count": 1,
   "metadata": {},
   "outputs": [
    {
     "name": "stdout",
     "output_type": "stream",
     "text": [
      "{'Name': 'Ada Lovelace', 'Field': 'Mathematics, Computer Science', 'Contributions': 'First Programmer'}\n"
     ]
    }
   ],
   "source": [
    "# Example: A Dictionary of Ada Lovelace\n",
    "person_info = {\n",
    "    \"Name\": \"Ada Lovelace\",\n",
    "    \"Field\": \"Mathematics, Computer Science\",\n",
    "    \"Contributions\": \"First Programmer\"\n",
    "}\n",
    "\n",
    "print(person_info)\n"
   ]
  },
  {
   "cell_type": "markdown",
   "metadata": {},
   "source": [
    "**Accessing Values in a Dictionary**\n",
    "- Use a dictionary's key to get its value."
   ]
  },
  {
   "cell_type": "code",
   "execution_count": 2,
   "metadata": {},
   "outputs": [
    {
     "name": "stdout",
     "output_type": "stream",
     "text": [
      "Ada Lovelace\n",
      "Mathematics, Computer Science\n"
     ]
    }
   ],
   "source": [
    "# Access a value by its key\n",
    "print(person_info[\"Name\"])  # Outputs: Ada Lovelace\n",
    "print(person_info[\"Field\"])  # Outputs: Mathematics, Computer Science"
   ]
  },
  {
   "cell_type": "markdown",
   "metadata": {},
   "source": [
    "**Listing all the keys/values**"
   ]
  },
  {
   "cell_type": "code",
   "execution_count": 3,
   "metadata": {},
   "outputs": [
    {
     "name": "stdout",
     "output_type": "stream",
     "text": [
      "dict_keys(['Name', 'Field', 'Contributions'])\n"
     ]
    }
   ],
   "source": [
    "print(person_info.keys())"
   ]
  },
  {
   "cell_type": "code",
   "execution_count": 4,
   "metadata": {},
   "outputs": [
    {
     "name": "stdout",
     "output_type": "stream",
     "text": [
      "dict_values(['Ada Lovelace', 'Mathematics, Computer Science', 'First Programmer'])\n"
     ]
    }
   ],
   "source": [
    "print(person_info.values())"
   ]
  },
  {
   "cell_type": "markdown",
   "metadata": {},
   "source": [
    "#### 2: Adding, Updating, and Removing Key-Value Pairs\n",
    "\n",
    "Dictionaries are mutable—you can add, modify, and remove items."
   ]
  },
  {
   "cell_type": "markdown",
   "metadata": {},
   "source": [
    "**Adding a New Key-Value Pair**\n",
    "- Simply assign a value to a new key:"
   ]
  },
  {
   "cell_type": "code",
   "execution_count": 5,
   "metadata": {},
   "outputs": [
    {
     "name": "stdout",
     "output_type": "stream",
     "text": [
      "{'Name': 'Ada Lovelace', 'Field': 'Mathematics, Computer Science', 'Contributions': 'First Programmer', 'Born': 1815}\n"
     ]
    }
   ],
   "source": [
    "person_info[\"Born\"] = 1815\n",
    "print(person_info)\n"
   ]
  },
  {
   "cell_type": "markdown",
   "metadata": {},
   "source": [
    "**Updating an Existing Key’s Value**\n",
    "- Just reassign the value:"
   ]
  },
  {
   "cell_type": "code",
   "execution_count": 6,
   "metadata": {},
   "outputs": [
    {
     "name": "stdout",
     "output_type": "stream",
     "text": [
      "Mathematics & Computing\n"
     ]
    }
   ],
   "source": [
    "person_info[\"Field\"] = \"Mathematics & Computing\"\n",
    "print(person_info[\"Field\"]) \n"
   ]
  },
  {
   "cell_type": "code",
   "execution_count": 7,
   "metadata": {},
   "outputs": [
    {
     "name": "stdout",
     "output_type": "stream",
     "text": [
      "{'Name': 'Ada Lovelace', 'Field': 'Mathematics & Computing', 'Contributions': 'First Programmer', 'Born': 1815}\n"
     ]
    }
   ],
   "source": [
    "print(person_info)"
   ]
  },
  {
   "cell_type": "markdown",
   "metadata": {},
   "source": [
    "**Removing a Key-Value Pair**\n",
    "- Use the `del` keyword:"
   ]
  },
  {
   "cell_type": "code",
   "execution_count": 8,
   "metadata": {},
   "outputs": [
    {
     "name": "stdout",
     "output_type": "stream",
     "text": [
      "{'Name': 'Ada Lovelace', 'Field': 'Mathematics & Computing', 'Contributions': 'First Programmer'}\n"
     ]
    }
   ],
   "source": [
    "del person_info[\"Born\"]\n",
    "print(person_info)"
   ]
  },
  {
   "cell_type": "markdown",
   "metadata": {},
   "source": [
    "**Checking If a Key Exists**\n",
    "- Want to verify that a key exists before accessing it? Use the `in` keyword:"
   ]
  },
  {
   "cell_type": "code",
   "execution_count": 9,
   "metadata": {},
   "outputs": [
    {
     "name": "stdout",
     "output_type": "stream",
     "text": [
      "Yes, there's a Name key!\n"
     ]
    }
   ],
   "source": [
    "if \"Name\" in person_info:\n",
    "    print(\"Yes, there's a Name key!\")"
   ]
  },
  {
   "cell_type": "markdown",
   "metadata": {},
   "source": [
    "#### 3: Looping Through a Dictionary\n",
    "\n",
    "You’ll often need to loop through dictionaries to process the keys, values, or both.\n",
    "\n",
    "**Iterating Through Keys**"
   ]
  },
  {
   "cell_type": "code",
   "execution_count": 10,
   "metadata": {},
   "outputs": [
    {
     "name": "stdout",
     "output_type": "stream",
     "text": [
      "Name\n",
      "Field\n",
      "Contributions\n"
     ]
    }
   ],
   "source": [
    "for key in person_info: \n",
    "    print(key)"
   ]
  },
  {
   "cell_type": "markdown",
   "metadata": {},
   "source": [
    "**Iterating Through Values**"
   ]
  },
  {
   "cell_type": "code",
   "execution_count": 11,
   "metadata": {},
   "outputs": [
    {
     "name": "stdout",
     "output_type": "stream",
     "text": [
      "Ada Lovelace\n",
      "Mathematics & Computing\n",
      "First Programmer\n"
     ]
    }
   ],
   "source": [
    "for value in person_info.values():\n",
    "    print(value)\n"
   ]
  },
  {
   "cell_type": "markdown",
   "metadata": {},
   "source": [
    "**Iterating Through Keys and Values**"
   ]
  },
  {
   "cell_type": "code",
   "execution_count": 12,
   "metadata": {},
   "outputs": [
    {
     "name": "stdout",
     "output_type": "stream",
     "text": [
      "Name: Ada Lovelace\n",
      "Field: Mathematics & Computing\n",
      "Contributions: First Programmer\n"
     ]
    }
   ],
   "source": [
    "for key, value in person_info.items():\n",
    "    print(f\"{key}: {value}\")\n",
    "\n"
   ]
  },
  {
   "cell_type": "markdown",
   "metadata": {},
   "source": [
    "#### 4. What are Sets?\n",
    "\n",
    "A **set** is like a list but with two special properties:\n",
    "- **No Duplicate Entries:** Sets automatically remove duplicates for you.\n",
    "- **Unordered:** Sets don’t guarantee a specific order of elements.\n",
    "\n",
    "\n",
    "- Imagine you need to quickly clean up duplicate entries in a dataset column—sets are your new best friend!"
   ]
  },
  {
   "cell_type": "markdown",
   "metadata": {},
   "source": [
    "**Creating a Set**\n",
    "\n",
    "Sets are defined with curly braces `{}`, but unlike dictionaries, they contain individual elements (no key-value pairs)."
   ]
  },
  {
   "cell_type": "code",
   "execution_count": 13,
   "metadata": {},
   "outputs": [
    {
     "name": "stdout",
     "output_type": "stream",
     "text": [
      "{1, 2, 3, 4, 5}\n"
     ]
    }
   ],
   "source": [
    "unique_numbers = {1, 2, 3, 4, 4, 5}\n",
    "print(unique_numbers) \n",
    "\n"
   ]
  },
  {
   "cell_type": "markdown",
   "metadata": {},
   "source": [
    "**Adding Elements to a Set**\n",
    "\n",
    "- Use `.add()` to add an element:"
   ]
  },
  {
   "cell_type": "code",
   "execution_count": 14,
   "metadata": {},
   "outputs": [
    {
     "name": "stdout",
     "output_type": "stream",
     "text": [
      "{1, 2, 3, 4, 5, 7}\n"
     ]
    }
   ],
   "source": [
    "unique_numbers.add(7)\n",
    "print(unique_numbers) "
   ]
  },
  {
   "cell_type": "markdown",
   "metadata": {},
   "source": [
    "**Removing Elements**\n",
    "- Use `.remove(item)` to delete specific items\n"
   ]
  },
  {
   "cell_type": "code",
   "execution_count": 15,
   "metadata": {},
   "outputs": [
    {
     "name": "stdout",
     "output_type": "stream",
     "text": [
      "{1, 2, 3, 5, 7}\n"
     ]
    }
   ],
   "source": [
    "unique_numbers.remove(4)\n",
    "print(unique_numbers)  "
   ]
  },
  {
   "cell_type": "markdown",
   "metadata": {},
   "source": [
    "**Checking Membership**\n",
    "- Use the `in` keyword to check if an element exists"
   ]
  },
  {
   "cell_type": "code",
   "execution_count": 16,
   "metadata": {},
   "outputs": [
    {
     "name": "stdout",
     "output_type": "stream",
     "text": [
      "3 is in the set!\n"
     ]
    }
   ],
   "source": [
    "if 3 in unique_numbers:\n",
    "    print(\"3 is in the set!\")\n"
   ]
  },
  {
   "cell_type": "markdown",
   "metadata": {},
   "source": [
    "**Set Operations**\n",
    "- Sets excel at comparing data. You can find intersections, unions, and differences between two sets:"
   ]
  },
  {
   "cell_type": "code",
   "execution_count": 17,
   "metadata": {},
   "outputs": [
    {
     "name": "stdout",
     "output_type": "stream",
     "text": [
      "{1, 2, 3, 4, 5}\n",
      "{3}\n",
      "{1, 2}\n"
     ]
    }
   ],
   "source": [
    "set_a = {1, 2, 3}\n",
    "set_b = {3, 4, 5}\n",
    "\n",
    "# Union: Combine all elements from both sets (no duplicates)\n",
    "print(set_a | set_b)  \n",
    "\n",
    "# Intersection: Keep only elements found in BOTH sets\n",
    "print(set_a & set_b)  \n",
    "\n",
    "# Difference: Elements in set_a but not set_b\n",
    "print(set_a - set_b)  \n"
   ]
  },
  {
   "cell_type": "markdown",
   "metadata": {},
   "source": [
    "#### 5: Dictionaries vs. Sets in Data Science\n",
    "\n",
    "In Data Science workflows:\n",
    "\n",
    "- **Dictionaries** are great for mappings, such as column name descriptions or metadata (e.g., Feature: Description).\n",
    "- **Sets** are useful for deduplication and quick comparisons when you care only about unique values.\n",
    "\n",
    "For example:\n",
    "\n",
    "- **Dictionary use case:** Mapping features to their meanings"
   ]
  },
  {
   "cell_type": "code",
   "execution_count": 18,
   "metadata": {},
   "outputs": [
    {
     "name": "stdout",
     "output_type": "stream",
     "text": [
      "{'Age': 'The age of the customer in years', 'Income': 'Annual income of the customer in thousands', 'Churn': 'Whether the customer left the service'}\n"
     ]
    }
   ],
   "source": [
    "feature_descriptions = {\n",
    "    \"Age\": \"The age of the customer in years\",\n",
    "    \"Income\": \"Annual income of the customer in thousands\",\n",
    "    \"Churn\": \"Whether the customer left the service\",\n",
    "}\n",
    "print(feature_descriptions)"
   ]
  },
  {
   "cell_type": "markdown",
   "metadata": {},
   "source": [
    "- **Set use case:** Cleaning a list of cities"
   ]
  },
  {
   "cell_type": "code",
   "execution_count": 19,
   "metadata": {},
   "outputs": [
    {
     "name": "stdout",
     "output_type": "stream",
     "text": [
      "{'Paris', 'New York', 'Berlin'}\n"
     ]
    }
   ],
   "source": [
    "messy_cities = [\"New York\", \"Berlin\", \"New York\", \"Paris\", \"Berlin\"]\n",
    "unique_cities = set(messy_cities)\n",
    "print(unique_cities)  \n"
   ]
  },
  {
   "cell_type": "markdown",
   "metadata": {},
   "source": [
    "- Using a set to remove duplicates is a neat trick, but remember: sets don’t preserve the order of items.\n",
    "    - Sets are useful for removing duplicates from a list or other iterable since they automatically discard repeated entries. However, sets do not maintain any specific order of the items."
   ]
  },
  {
   "cell_type": "code",
   "execution_count": 20,
   "metadata": {},
   "outputs": [
    {
     "name": "stdout",
     "output_type": "stream",
     "text": [
      "Unique items: {1, 2, 3, 4}\n"
     ]
    }
   ],
   "source": [
    "my_list = [3, 1, 2, 3, 4, 2, 1]\n",
    "unique_items = set(my_list)\n",
    "print(\"Unique items:\", unique_items)  # Outputs in arbitrary order, like {1, 2, 3, 4}"
   ]
  },
  {
   "cell_type": "markdown",
   "metadata": {},
   "source": [
    "**Quick Tips: When to Use Dictionaries and Sets**\n",
    "- Dictionaries: Use when you need to associate one piece of data with another (key-value mapping).\n",
    "- Sets: Use when you need unique items or want to perform mathematical operations like union or intersection."
   ]
  },
  {
   "cell_type": "markdown",
   "metadata": {},
   "source": [
    "----\n",
    "#### Quick Exercises\n",
    "1. Create a dictionary to store some metadata about a dataset:\n",
    "    - Total rows, total columns, and the type of analysis done (e.g., regression or classification).\n",
    "    - Add a new key-value pair to store the dataset source (e.g., 'CSV file', 'database', or a URL).\n",
    "    - Update the analysis type to \"clustering.\"\n",
    "\n",
    "\n",
    "2. Use a set to remove duplicates from the following list:\n",
    "    - `sample_data = [1, 2, 3, 1, 4, 2, 5, 3]`\n",
    "\n",
    "3. Write a dictionary that maps some feature names to their descriptions (e.g., \"Age\" → \"Customer Age in Years\"). Loop through and print all the features with their descriptions.\n",
    "\n",
    "4. Create two sets of numbers (set_a = {10, 20, 30}, set_b = {20, 30, 40}), and find:\n",
    "\n",
    "    - Their union\n",
    "    - Their intersection\n",
    "    - The numbers in set_a but not set_b\n",
    "\n",
    "\n",
    "\n",
    "**Please Note:** The solutions to above questions will be present at the end of next session's (Day 6: Functions) Notebook.\n",
    "\n",
    "----"
   ]
  },
  {
   "cell_type": "markdown",
   "metadata": {},
   "source": [
    "### Day 4 Exercise Solution"
   ]
  },
  {
   "cell_type": "markdown",
   "metadata": {},
   "source": [
    "1. Create a list of your favorite data science buzzwords (like \"AI,\" \"Deep Learning,\" etc.).\n",
    "- Add one using .append().\n",
    "- Remove the second one.\n",
    "- Replace the third with another buzzword.\n"
   ]
  },
  {
   "cell_type": "code",
   "execution_count": 21,
   "metadata": {},
   "outputs": [
    {
     "name": "stdout",
     "output_type": "stream",
     "text": [
      "Buzzwords: ['AI', 'Deep Learning', 'Machine Learning', 'Big Data', 'AI']\n"
     ]
    }
   ],
   "source": [
    "# Create a list of your favorite data science buzzwords (like \"AI,\" \"Deep Learning,\" etc.)\n",
    "buzzwords = [\"AI\", \"Deep Learning\", \"Machine Learning\", \"Big Data\", \"AI\"]\n",
    "print(\"Buzzwords:\", buzzwords) \n"
   ]
  },
  {
   "cell_type": "code",
   "execution_count": 22,
   "metadata": {},
   "outputs": [
    {
     "name": "stdout",
     "output_type": "stream",
     "text": [
      "After append: ['AI', 'Deep Learning', 'Machine Learning', 'Big Data', 'AI', 'Neural Networks']\n"
     ]
    }
   ],
   "source": [
    "# Add one using .append().\n",
    "buzzwords.append(\"Neural Networks\")\n",
    "print(\"After append:\", buzzwords)  "
   ]
  },
  {
   "cell_type": "code",
   "execution_count": 23,
   "metadata": {},
   "outputs": [
    {
     "name": "stdout",
     "output_type": "stream",
     "text": [
      "After remove: ['AI', 'Machine Learning', 'Big Data', 'AI', 'Neural Networks']\n"
     ]
    }
   ],
   "source": [
    "# Remove the second one.\n",
    "buzzwords.remove(\"Deep Learning\")\n",
    "print(\"After remove:\", buzzwords)"
   ]
  },
  {
   "cell_type": "code",
   "execution_count": 24,
   "metadata": {},
   "outputs": [
    {
     "name": "stdout",
     "output_type": "stream",
     "text": [
      "After replace: ['AI', 'Machine Learning', 'Data Mining', 'AI', 'Neural Networks']\n"
     ]
    }
   ],
   "source": [
    "# Replace the third with another buzzword.\n",
    "buzzwords[2] = \"Data Mining\"\n",
    "print(\"After replace:\", buzzwords)"
   ]
  },
  {
   "cell_type": "markdown",
   "metadata": {},
   "source": [
    "2. If fruit is a list of ['apple', 'banana', 'dates', 'cherry', 'dragonfruit'], what is the difference between the below 2 statements\n",
    "\n",
    "    `del fruits[2]`\n",
    "\n",
    "    `fruits.pop(2)`"
   ]
  },
  {
   "cell_type": "markdown",
   "metadata": {},
   "source": [
    "Both `del fruits[2]` and `fruits.pop(2)` remove the element at index 2 ('dates') from the list, but there’s a key difference in how they behave:\n",
    "\n",
    "\n",
    "1️. del fruits[2]\n",
    "- Removes the element at index 2 without returning it.\n",
    "\n",
    "- The item is deleted permanently, and you cannot retrieve its value.\n"
   ]
  },
  {
   "cell_type": "code",
   "execution_count": 25,
   "metadata": {},
   "outputs": [
    {
     "name": "stdout",
     "output_type": "stream",
     "text": [
      "['apple', 'banana', 'cherry', 'dragonfruit']\n"
     ]
    }
   ],
   "source": [
    "fruits = ['apple', 'banana', 'dates', 'cherry', 'dragonfruit']\n",
    "del fruits[2]  # Removes 'dates'\n",
    "print(fruits)  # Output: ['apple', 'banana', 'cherry', 'dragonfruit']\n"
   ]
  },
  {
   "cell_type": "code",
   "execution_count": 26,
   "metadata": {},
   "outputs": [],
   "source": [
    "# removed_item = del fruits[2]  # SyntaxError: invalid syntax"
   ]
  },
  {
   "cell_type": "markdown",
   "metadata": {},
   "source": [
    "2️. fruits.pop(2)\n",
    "- Removes the element at index 2 and returns it.\n",
    "\n",
    "- You can store the removed value for later use."
   ]
  },
  {
   "cell_type": "code",
   "execution_count": 27,
   "metadata": {},
   "outputs": [
    {
     "name": "stdout",
     "output_type": "stream",
     "text": [
      "['apple', 'banana', 'cherry', 'dragonfruit']\n",
      "dates\n"
     ]
    }
   ],
   "source": [
    "fruits = ['apple', 'banana', 'dates', 'cherry', 'dragonfruit']\n",
    "removed_item = fruits.pop(2)  # Removes 'dates' and stores it\n",
    "print(fruits)  # Output: ['apple', 'banana', 'cherry', 'dragonfruit']\n",
    "print(removed_item)  # Output: 'dates'\n"
   ]
  },
  {
   "cell_type": "markdown",
   "metadata": {},
   "source": [
    "3. Write a program to print only the even numbers from this list:\n",
    "- `numbers = [11, 22, 33, 44, 55, 66, 77, 88]`"
   ]
  },
  {
   "cell_type": "markdown",
   "metadata": {},
   "source": [
    "2.  Loop through a list of random numbers and print only the even ones."
   ]
  },
  {
   "cell_type": "code",
   "execution_count": 28,
   "metadata": {},
   "outputs": [
    {
     "name": "stdout",
     "output_type": "stream",
     "text": [
      "22\n",
      "44\n",
      "66\n",
      "88\n"
     ]
    }
   ],
   "source": [
    "# Write a program to print only the even numbers from this list: 'numbers = [11, 22, 33, 44, 55, 66, 77, 88]'\n",
    "numbers = [11, 22, 33, 44, 55, 66, 77, 88]\n",
    "\n",
    "# Loop through the list and print only even numbers\n",
    "for num in numbers:\n",
    "    if num % 2 == 0:  # Check if the number is even\n",
    "        print(num)\n",
    "\n",
    "\n"
   ]
  },
  {
   "cell_type": "markdown",
   "metadata": {},
   "source": [
    "4. Create a tuple of three immutable constants (e.g., Pi, e, and the speed of light).\n",
    "\n",
    "- Try accessing each item.\n",
    "- Then try to change one. (Spoiler: Python won't let you!)"
   ]
  },
  {
   "cell_type": "code",
   "execution_count": 29,
   "metadata": {},
   "outputs": [],
   "source": [
    "# Tuple of three immutable constants\n",
    "constants = (3.14159, 2.71828, 299792458)  # (Pi, e, speed of light in m/s)"
   ]
  },
  {
   "cell_type": "code",
   "execution_count": 30,
   "metadata": {},
   "outputs": [
    {
     "name": "stdout",
     "output_type": "stream",
     "text": [
      "Pi: 3.14159\n",
      "Euler's number (e): 2.71828\n",
      "Speed of light (m/s): 299792458\n"
     ]
    }
   ],
   "source": [
    "print(\"Pi:\", constants[0])\n",
    "print(\"Euler's number (e):\", constants[1])\n",
    "print(\"Speed of light (m/s):\", constants[2])"
   ]
  },
  {
   "cell_type": "code",
   "execution_count": 31,
   "metadata": {},
   "outputs": [
    {
     "ename": "TypeError",
     "evalue": "'tuple' object does not support item assignment",
     "output_type": "error",
     "traceback": [
      "\u001b[1;31m---------------------------------------------------------------------------\u001b[0m",
      "\u001b[1;31mTypeError\u001b[0m                                 Traceback (most recent call last)",
      "Cell \u001b[1;32mIn[31], line 1\u001b[0m\n\u001b[1;32m----> 1\u001b[0m \u001b[43mconstants\u001b[49m\u001b[43m[\u001b[49m\u001b[38;5;241;43m0\u001b[39;49m\u001b[43m]\u001b[49m \u001b[38;5;241m=\u001b[39m \u001b[38;5;241m3.14\u001b[39m  \u001b[38;5;66;03m# TypeError: 'tuple' object does not support item assignment\u001b[39;00m\n",
      "\u001b[1;31mTypeError\u001b[0m: 'tuple' object does not support item assignment"
     ]
    }
   ],
   "source": [
    "constants[0] = 3.14  # TypeError: 'tuple' object does not support item assignment"
   ]
  },
  {
   "cell_type": "markdown",
   "metadata": {},
   "source": [
    "5. Create a list named features, `features = [\"age\", \"income\", \"education\", \"gender\", \"city\"]`. Use slicing to grab:\n",
    "- The first three words from this list.\n",
    "- The last two words from this list."
   ]
  },
  {
   "cell_type": "code",
   "execution_count": 32,
   "metadata": {},
   "outputs": [
    {
     "name": "stdout",
     "output_type": "stream",
     "text": [
      "Features: ['age', 'income', 'education', 'gender', 'city']\n"
     ]
    }
   ],
   "source": [
    "features = [\"age\", \"income\", \"education\", \"gender\", \"city\"]\n",
    "print(\"Features:\", features)"
   ]
  },
  {
   "cell_type": "code",
   "execution_count": 33,
   "metadata": {},
   "outputs": [
    {
     "name": "stdout",
     "output_type": "stream",
     "text": [
      "First three words: ['age', 'income', 'education']\n",
      "Last two words: ['gender', 'city']\n"
     ]
    }
   ],
   "source": [
    "# First three words\n",
    "first_three = features[:3]  # Slicing from start to index 3 (not included)\n",
    "\n",
    "# Last two words\n",
    "last_two = features[-2:]  # Slicing from the second last item to the end\n",
    "\n",
    "# Print results\n",
    "print(\"First three words:\", first_three)\n",
    "print(\"Last two words:\", last_two)"
   ]
  },
  {
   "cell_type": "markdown",
   "metadata": {},
   "source": [
    "# HAPPY LEARNING"
   ]
  }
 ],
 "metadata": {
  "kernelspec": {
   "display_name": "Python 3",
   "language": "python",
   "name": "python3"
  },
  "language_info": {
   "codemirror_mode": {
    "name": "ipython",
    "version": 3
   },
   "file_extension": ".py",
   "mimetype": "text/x-python",
   "name": "python",
   "nbconvert_exporter": "python",
   "pygments_lexer": "ipython3",
   "version": "3.12.2"
  }
 },
 "nbformat": 4,
 "nbformat_minor": 2
}
