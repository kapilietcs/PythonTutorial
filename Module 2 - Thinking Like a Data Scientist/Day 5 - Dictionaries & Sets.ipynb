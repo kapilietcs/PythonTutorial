{
 "cells": [
  {
   "cell_type": "markdown",
   "metadata": {},
   "source": [
    "![alt text](<../images/just enough.png>)"
   ]
  },
  {
   "cell_type": "markdown",
   "metadata": {},
   "source": [
    "# Just Enough Python for AI/Data Science\n",
    "## Module 2: Thinking Like a Data Scientist\n",
    "> This module helps you organize and work with data like a pro. You’ll master lists, tuples, dictionaries, and sets to store and retrieve data efficiently. Then, you’ll learn to write functions so you’re not rewriting the same code over and over—because real data scientists keep it clean and reusable!\n",
    "### Day 5 - Dictionaries & Sets: When Indexes Aren’t Enough!\n",
    "----"
   ]
  },
  {
   "cell_type": "markdown",
   "metadata": {},
   "source": [
    "##### Overview:\n",
    "\n",
    "You’re now officially best friends with lists and tuples, but sometimes a simple list isn’t enough. Imagine you’re working on a project and need to store information like this:\n",
    "\n",
    "- Name: \"Ada Lovelace\"\n",
    "- Field: \"Mathematics, Computer Science\"\n",
    "- Contributions: \"First Programmer\"\n",
    "\n",
    "Using a list to store this information feels a bit awkward, doesn’t it? How do you know which value is the \"name\" and which is the \"field\"? This is exactly where **dictionaries** come in—they organize data in a way that makes sense.\n",
    "\n",
    "And then there’s their quieter cousin, **sets**, which exist to keep things unique—a highly underrated trait when dealing with messy data.\n"
   ]
  },
  {
   "cell_type": "markdown",
   "metadata": {},
   "source": [
    "#### 1.  What Are Dictionaries?\n",
    "\n",
    "A **dictionary** is all about creating key-value pairs. Think of it as a real-life dictionary where words are keys, and their definitions are values:\n",
    "\n",
    "- **Key**: Something unique, like \"Name.\"\n",
    "- **Value**: The data associated with that key, like \"Ada Lovelace.\"\n",
    "\n",
    "- Example usage in data science: storing student IDs (keys) mapped to names (values), or feature names (keys) mapped to data lists (values).\n"
   ]
  },
  {
   "cell_type": "markdown",
   "metadata": {},
   "source": [
    "**Creating Dictionaries**"
   ]
  },
  {
   "cell_type": "code",
   "execution_count": 1,
   "metadata": {},
   "outputs": [
    {
     "name": "stdout",
     "output_type": "stream",
     "text": [
      "{'Name': 'Ada Lovelace', 'Field': 'Mathematics, Computer Science', 'Contributions': 'First Programmer'}\n"
     ]
    }
   ],
   "source": [
    "# Example: A Dictionary of Ada Lovelace\n",
    "person_info = {\n",
    "    \"Name\": \"Ada Lovelace\",\n",
    "    \"Field\": \"Mathematics, Computer Science\",\n",
    "    \"Contributions\": \"First Programmer\"\n",
    "}\n",
    "\n",
    "print(person_info)\n"
   ]
  },
  {
   "cell_type": "markdown",
   "metadata": {},
   "source": [
    "**Accessing Values in a Dictionary**\n",
    "- Use a dictionary's key to get its value."
   ]
  },
  {
   "cell_type": "code",
   "execution_count": 2,
   "metadata": {},
   "outputs": [
    {
     "name": "stdout",
     "output_type": "stream",
     "text": [
      "Ada Lovelace\n",
      "Mathematics, Computer Science\n"
     ]
    }
   ],
   "source": [
    "# Access a value by its key\n",
    "print(person_info[\"Name\"])  # Outputs: Ada Lovelace\n",
    "print(person_info[\"Field\"])  # Outputs: Mathematics, Computer Science"
   ]
  },
  {
   "cell_type": "markdown",
   "metadata": {},
   "source": [
    "**Listing all the keys/values**"
   ]
  },
  {
   "cell_type": "code",
   "execution_count": 10,
   "metadata": {},
   "outputs": [
    {
     "name": "stdout",
     "output_type": "stream",
     "text": [
      "dict_keys(['Name', 'Field', 'Contributions'])\n"
     ]
    }
   ],
   "source": [
    "print(person_info.keys())"
   ]
  },
  {
   "cell_type": "code",
   "execution_count": 11,
   "metadata": {},
   "outputs": [
    {
     "name": "stdout",
     "output_type": "stream",
     "text": [
      "dict_values(['Ada Lovelace', 'Mathematics & Computing', 'First Programmer'])\n"
     ]
    }
   ],
   "source": [
    "print(person_info.values())"
   ]
  },
  {
   "cell_type": "markdown",
   "metadata": {},
   "source": [
    "#### 2: Adding, Updating, and Removing Key-Value Pairs\n",
    "\n",
    "Dictionaries are mutable—you can add, modify, and remove items."
   ]
  },
  {
   "cell_type": "markdown",
   "metadata": {},
   "source": [
    "**Adding a New Key-Value Pair**\n",
    "- Simply assign a value to a new key:"
   ]
  },
  {
   "cell_type": "code",
   "execution_count": 3,
   "metadata": {},
   "outputs": [
    {
     "name": "stdout",
     "output_type": "stream",
     "text": [
      "{'Name': 'Ada Lovelace', 'Field': 'Mathematics, Computer Science', 'Contributions': 'First Programmer', 'Born': 1815}\n"
     ]
    }
   ],
   "source": [
    "person_info[\"Born\"] = 1815\n",
    "print(person_info)\n"
   ]
  },
  {
   "cell_type": "markdown",
   "metadata": {},
   "source": [
    "**Updating an Existing Key’s Value**\n",
    "- Just reassign the value:"
   ]
  },
  {
   "cell_type": "code",
   "execution_count": 4,
   "metadata": {},
   "outputs": [
    {
     "name": "stdout",
     "output_type": "stream",
     "text": [
      "Mathematics & Computing\n"
     ]
    }
   ],
   "source": [
    "person_info[\"Field\"] = \"Mathematics & Computing\"\n",
    "print(person_info[\"Field\"]) \n"
   ]
  },
  {
   "cell_type": "markdown",
   "metadata": {},
   "source": [
    "**Removing a Key-Value Pair**\n",
    "- Use the `del` keyword:"
   ]
  },
  {
   "cell_type": "code",
   "execution_count": 5,
   "metadata": {},
   "outputs": [
    {
     "name": "stdout",
     "output_type": "stream",
     "text": [
      "{'Name': 'Ada Lovelace', 'Field': 'Mathematics & Computing', 'Contributions': 'First Programmer'}\n"
     ]
    }
   ],
   "source": [
    "del person_info[\"Born\"]\n",
    "print(person_info)"
   ]
  },
  {
   "cell_type": "markdown",
   "metadata": {},
   "source": [
    "**Checking If a Key Exists**\n",
    "- Want to verify that a key exists before accessing it? Use the `in` keyword:"
   ]
  },
  {
   "cell_type": "code",
   "execution_count": 6,
   "metadata": {},
   "outputs": [
    {
     "name": "stdout",
     "output_type": "stream",
     "text": [
      "Yes, there's a Name key!\n"
     ]
    }
   ],
   "source": [
    "if \"Name\" in person_info:\n",
    "    print(\"Yes, there's a Name key!\")"
   ]
  },
  {
   "cell_type": "markdown",
   "metadata": {},
   "source": [
    "#### 3: Looping Through a Dictionary\n",
    "\n",
    "You’ll often need to loop through dictionaries to process the keys, values, or both.\n",
    "\n",
    "**Iterating Through Keys**"
   ]
  },
  {
   "cell_type": "code",
   "execution_count": 7,
   "metadata": {},
   "outputs": [
    {
     "name": "stdout",
     "output_type": "stream",
     "text": [
      "Name\n",
      "Field\n",
      "Contributions\n"
     ]
    }
   ],
   "source": [
    "for key in person_info:\n",
    "    print(key)"
   ]
  },
  {
   "cell_type": "markdown",
   "metadata": {},
   "source": [
    "**Iterating Through Values**"
   ]
  },
  {
   "cell_type": "code",
   "execution_count": 8,
   "metadata": {},
   "outputs": [
    {
     "name": "stdout",
     "output_type": "stream",
     "text": [
      "Ada Lovelace\n",
      "Mathematics & Computing\n",
      "First Programmer\n"
     ]
    }
   ],
   "source": [
    "for value in person_info.values():\n",
    "    print(value)\n"
   ]
  },
  {
   "cell_type": "markdown",
   "metadata": {},
   "source": [
    "**Iterating Through Keys and Values**"
   ]
  },
  {
   "cell_type": "code",
   "execution_count": 9,
   "metadata": {},
   "outputs": [
    {
     "name": "stdout",
     "output_type": "stream",
     "text": [
      "Name: Ada Lovelace\n",
      "Field: Mathematics & Computing\n",
      "Contributions: First Programmer\n"
     ]
    }
   ],
   "source": [
    "for key, value in person_info.items():\n",
    "    print(f\"{key}: {value}\")\n",
    "\n"
   ]
  },
  {
   "cell_type": "markdown",
   "metadata": {},
   "source": [
    "#### 4. What are Sets?\n",
    "\n",
    "A **set** is like a list but with two special properties:\n",
    "- **No Duplicate Entries:** Sets automatically remove duplicates for you.\n",
    "- **Unordered:** Sets don’t guarantee a specific order of elements.\n",
    "\n",
    "\n",
    "- Imagine you need to quickly clean up duplicate entries in a dataset column—sets are your new best friend!"
   ]
  },
  {
   "cell_type": "markdown",
   "metadata": {},
   "source": [
    "**Creating a Set**\n",
    "\n",
    "Sets are defined with curly braces `{}`, but unlike dictionaries, they contain individual elements (no key-value pairs)."
   ]
  },
  {
   "cell_type": "code",
   "execution_count": 12,
   "metadata": {},
   "outputs": [
    {
     "name": "stdout",
     "output_type": "stream",
     "text": [
      "{1, 2, 3, 4, 5}\n"
     ]
    }
   ],
   "source": [
    "unique_numbers = {1, 2, 3, 4, 4, 5}\n",
    "print(unique_numbers) \n",
    "\n"
   ]
  },
  {
   "cell_type": "markdown",
   "metadata": {},
   "source": [
    "**Adding Elements to a Set**\n",
    "\n",
    "- Use `.add()` to add an element:"
   ]
  },
  {
   "cell_type": "code",
   "execution_count": 13,
   "metadata": {},
   "outputs": [
    {
     "name": "stdout",
     "output_type": "stream",
     "text": [
      "{1, 2, 3, 4, 5, 6}\n"
     ]
    }
   ],
   "source": [
    "unique_numbers.add(6)\n",
    "print(unique_numbers) "
   ]
  },
  {
   "cell_type": "markdown",
   "metadata": {},
   "source": [
    "**Removing Elements**\n",
    "- Use `.remove(item)` to delete specific items\n"
   ]
  },
  {
   "cell_type": "code",
   "execution_count": 14,
   "metadata": {},
   "outputs": [
    {
     "name": "stdout",
     "output_type": "stream",
     "text": [
      "{1, 2, 3, 5, 6}\n"
     ]
    }
   ],
   "source": [
    "unique_numbers.remove(4)\n",
    "print(unique_numbers)  "
   ]
  },
  {
   "cell_type": "markdown",
   "metadata": {},
   "source": [
    "**Checking Membership**\n",
    "- Use the `in` keyword to check if an element exists"
   ]
  },
  {
   "cell_type": "code",
   "execution_count": 15,
   "metadata": {},
   "outputs": [
    {
     "name": "stdout",
     "output_type": "stream",
     "text": [
      "3 is in the set!\n"
     ]
    }
   ],
   "source": [
    "if 3 in unique_numbers:\n",
    "    print(\"3 is in the set!\")\n"
   ]
  },
  {
   "cell_type": "markdown",
   "metadata": {},
   "source": [
    "**Set Operations**\n",
    "- Sets excel at comparing data. You can find intersections, unions, and differences between two sets:"
   ]
  },
  {
   "cell_type": "code",
   "execution_count": 16,
   "metadata": {},
   "outputs": [
    {
     "name": "stdout",
     "output_type": "stream",
     "text": [
      "{1, 2, 3, 4, 5}\n",
      "{3}\n",
      "{1, 2}\n"
     ]
    }
   ],
   "source": [
    "set_a = {1, 2, 3}\n",
    "set_b = {3, 4, 5}\n",
    "\n",
    "# Union: Combine all elements from both sets (no duplicates)\n",
    "print(set_a | set_b)  \n",
    "\n",
    "# Intersection: Keep only elements found in BOTH sets\n",
    "print(set_a & set_b)  \n",
    "\n",
    "# Difference: Elements in set_a but not set_b\n",
    "print(set_a - set_b)  \n"
   ]
  },
  {
   "cell_type": "markdown",
   "metadata": {},
   "source": [
    "## 5: Dictionaries vs. Sets in Data Science\n",
    "\n",
    "In Data Science workflows:\n",
    "\n",
    "- **Dictionaries** are great for mappings, such as column name descriptions or metadata (e.g., Feature: Description).\n",
    "- **Sets** are useful for deduplication and quick comparisons when you care only about unique values.\n",
    "For example:\n",
    "\n",
    "- **Dictionary use case:** Mapping features to their meanings"
   ]
  },
  {
   "cell_type": "code",
   "execution_count": 17,
   "metadata": {},
   "outputs": [],
   "source": [
    "feature_descriptions = {\n",
    "    \"Age\": \"The age of the customer in years\",\n",
    "    \"Income\": \"Annual income of the customer in thousands\",\n",
    "    \"Churn\": \"Whether the customer left the service\",\n",
    "}\n"
   ]
  },
  {
   "cell_type": "markdown",
   "metadata": {},
   "source": [
    "- **Set use case:** Cleaning a list of cities"
   ]
  },
  {
   "cell_type": "code",
   "execution_count": null,
   "metadata": {},
   "outputs": [],
   "source": [
    "messy_cities = [\"New York\", \"Berlin\", \"New York\", \"Paris\", \"Berlin\"]\n",
    "unique_cities = set(messy_cities)\n",
    "print(unique_cities)  \n"
   ]
  },
  {
   "cell_type": "markdown",
   "metadata": {},
   "source": [
    "- Using a set to remove duplicates is a neat trick, but remember: sets don’t preserve the order of items.\n",
    "    - Sets are useful for removing duplicates from a list or other iterable since they automatically discard repeated entries. However, sets do not maintain any specific order of the items."
   ]
  },
  {
   "cell_type": "code",
   "execution_count": 18,
   "metadata": {},
   "outputs": [
    {
     "name": "stdout",
     "output_type": "stream",
     "text": [
      "Unique items: {1, 2, 3, 4}\n"
     ]
    }
   ],
   "source": [
    "my_list = [3, 1, 2, 3, 4, 2, 1]\n",
    "unique_items = set(my_list)\n",
    "print(\"Unique items:\", unique_items)  # Outputs in arbitrary order, like {1, 2, 3, 4}"
   ]
  },
  {
   "cell_type": "markdown",
   "metadata": {},
   "source": [
    "**Quick Tips: When to Use Dictionaries and Sets**\n",
    "- Dictionaries: Use when you need to associate one piece of data with another (key-value mapping).\n",
    "- Sets: Use when you need unique items or want to perform mathematical operations like union or intersection."
   ]
  },
  {
   "cell_type": "markdown",
   "metadata": {},
   "source": [
    "----\n",
    "#### Quick Exercises\n",
    "1. Create a dictionary to store some metadata about a dataset:\n",
    "- Total rows, total columns, and the type of analysis done (e.g., regression or classification).\n",
    "- Add a new key to include the dataset source.\n",
    "- Update the analysis type to \"clustering.\"\n",
    "- Use a set to remove duplicates from the following list:\n",
    "\n",
    "2. Use a set to remove duplicates from the following list:\n",
    "- `sample_data = [1, 2, 3, 1, 4, 2, 5, 3]`\n",
    "\n",
    "3. Write a dictionary that maps some feature names to their descriptions (e.g., \"Age\" → \"Customer Age in Years\"). Loop through and print all the features with their descriptions.\n",
    "\n",
    "4. Create two sets of numbers (set_a = {10, 20, 30}, set_b = {20, 30, 40}), and find:\n",
    "\n",
    "- Their union\n",
    "- Their intersection\n",
    "- The numbers in set_a but not set_b\n",
    "\n",
    "\n",
    "\n",
    "**Please Note:** The solutions to above questions will be present at the end of next module's (Module 6:) Notebook.\n",
    "\n",
    "----"
   ]
  },
  {
   "cell_type": "markdown",
   "metadata": {},
   "source": [
    "### Module 2 Exercise Solution"
   ]
  },
  {
   "cell_type": "markdown",
   "metadata": {},
   "source": [
    "1.  Write a small program that uses conditionals to check if a user’s input age is old enough to vote (voting age = 18 years)."
   ]
  },
  {
   "cell_type": "code",
   "execution_count": 3,
   "metadata": {},
   "outputs": [
    {
     "name": "stdout",
     "output_type": "stream",
     "text": [
      "You are old enough to vote!\n"
     ]
    }
   ],
   "source": [
    "# Write a small program that uses conditionals to check if a user’s input age is old enough to vote (voting age = 18 years).\n",
    "\n",
    "age = int(input(\"Enter your age: \"))\n",
    "# age = 35\n",
    "\n",
    "if age >= 18:\n",
    "    print(\"You are old enough to vote!\")\n",
    "else:\n",
    "    print(\"You are not old enough to vote!\")\n"
   ]
  },
  {
   "cell_type": "markdown",
   "metadata": {},
   "source": [
    "2.  Loop through a list of random numbers and print only the even ones."
   ]
  },
  {
   "cell_type": "code",
   "execution_count": 1,
   "metadata": {},
   "outputs": [
    {
     "name": "stdout",
     "output_type": "stream",
     "text": [
      "6\n",
      "8\n",
      "2\n",
      "4\n"
     ]
    }
   ],
   "source": [
    "# Loop through a list of random numbers and print only the even ones.\n",
    "random_numbers = [3, 1, 6, 7, 8, 2, 4, 5]\n",
    "\n",
    "for number in random_numbers:\n",
    "    if number % 2 == 0:\n",
    "        print(number)\n",
    "\n"
   ]
  },
  {
   "cell_type": "markdown",
   "metadata": {},
   "source": [
    "3.  Create a while loop that prints numbers from 1 to 10, make sure you do not enter an infinte loop."
   ]
  },
  {
   "cell_type": "code",
   "execution_count": 5,
   "metadata": {},
   "outputs": [
    {
     "name": "stdout",
     "output_type": "stream",
     "text": [
      "1\n",
      "2\n",
      "3\n",
      "4\n",
      "5\n",
      "6\n",
      "7\n",
      "8\n",
      "9\n",
      "10\n"
     ]
    }
   ],
   "source": [
    "# Create a while loop that prints numbers from 1 to 10\n",
    "i = 1\n",
    "while i <= 10:\n",
    "    print(i)\n",
    "    i += 1\n"
   ]
  },
  {
   "cell_type": "markdown",
   "metadata": {},
   "source": [
    "4.  Loop through this list of strings and print only the strings longer than 5 characters: \n",
    "     words = [\"Python\", \"AI\", \"Machine\", \"Science\", \"Wow\"]"
   ]
  },
  {
   "cell_type": "code",
   "execution_count": 6,
   "metadata": {},
   "outputs": [
    {
     "name": "stdout",
     "output_type": "stream",
     "text": [
      "Python\n",
      "Machine\n",
      "Science\n"
     ]
    }
   ],
   "source": [
    "#Loop through this list of strings and print only the strings longer than 5 characters: words = [\"Python\", \"AI\", \"Machine\", \"Science\", \"Wow\"]\n",
    "\n",
    "words = [\"Python\", \"AI\", \"Machine\", \"Science\", \"Wow\"]\n",
    "for word in words:\n",
    "    if len(word) > 5:\n",
    "        print(word)\n",
    "        "
   ]
  },
  {
   "cell_type": "markdown",
   "metadata": {},
   "source": [
    "# HAPPY LEARNING"
   ]
  }
 ],
 "metadata": {
  "kernelspec": {
   "display_name": "Python 3",
   "language": "python",
   "name": "python3"
  },
  "language_info": {
   "codemirror_mode": {
    "name": "ipython",
    "version": 3
   },
   "file_extension": ".py",
   "mimetype": "text/x-python",
   "name": "python",
   "nbconvert_exporter": "python",
   "pygments_lexer": "ipython3",
   "version": "3.12.2"
  }
 },
 "nbformat": 4,
 "nbformat_minor": 2
}
