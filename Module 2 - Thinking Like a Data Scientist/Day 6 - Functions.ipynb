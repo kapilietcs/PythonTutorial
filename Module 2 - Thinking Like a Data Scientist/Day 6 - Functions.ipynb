{
 "cells": [
  {
   "cell_type": "markdown",
   "metadata": {},
   "source": [
    "![alt text](<../images/just enough.png>)"
   ]
  },
  {
   "cell_type": "markdown",
   "metadata": {},
   "source": [
    "# Just Enough Python for AI/Data Science\n",
    "## Module 2: Thinking Like a Data Scientist\n",
    "> This module helps you organize and work with data like a pro. You’ll master lists, tuples, dictionaries, and sets to store and retrieve data efficiently. Then, you’ll learn to write functions so you’re not rewriting the same code over and over—because real data scientists keep it clean and reusable!\n",
    "### Day 6 - Functions: Don’t Repeat Yourself \n",
    "----"
   ]
  },
  {
   "cell_type": "markdown",
   "metadata": {},
   "source": [
    "##### Overview:\n",
    "\n",
    "- Functions are the lifeblood of clean, reusable code. \n",
    "- Cover how to make functions, pass arguments, return values, and use them to analyze data. \n",
    "- Bonus: introduce lambda functions to foreshadow what’s ahead."
   ]
  },
  {
   "cell_type": "markdown",
   "metadata": {},
   "source": [
    "#### What Are Functions and Why Do We Love Them?\n",
    "Do you ever feel like you’re typing the same thing over and over? \n",
    "(Tedious, right?) \n",
    "\n",
    "Imagine you’re writing dozens of preprocessing steps for multiple datasets—it’s easier to just create **one function** to do the repetitive work. That’s where functions come swooping in to save your sanity.\n",
    "\n",
    "Functions are **blocks of reusable code** that let you accomplish a task without rewriting it every time. They take input (if needed), do something with it, and often return a result. Think of them as mini-programs inside your program."
   ]
  },
  {
   "cell_type": "markdown",
   "metadata": {},
   "source": [
    "**1.  Anatomy of a Python Function**\n",
    "- Let’s break down how to create your first function. "
   ]
  },
  {
   "cell_type": "code",
   "execution_count": 1,
   "metadata": {},
   "outputs": [],
   "source": [
    "def function_name(parameters):\n",
    "    # Code block\n",
    "    return value  # (Optional) Give something back\n"
   ]
  },
  {
   "cell_type": "markdown",
   "metadata": {},
   "source": [
    "- `def`: The keyword to define a function.\n",
    "- `function_name`: Be descriptive! Name your function based on what it does.\n",
    "- `parameters`: Inputs for the function (optional).\n",
    "- `return`: Outputs from the function, which you can store or print (also optional).\n",
    "\n",
    "**Example: Your First Function**"
   ]
  },
  {
   "cell_type": "code",
   "execution_count": 2,
   "metadata": {},
   "outputs": [],
   "source": [
    "def greet(name):\n",
    "    print(f\"Hello, {name}!\")\n"
   ]
  },
  {
   "cell_type": "markdown",
   "metadata": {},
   "source": [
    "Now, use the function by calling it:"
   ]
  },
  {
   "cell_type": "code",
   "execution_count": 3,
   "metadata": {},
   "outputs": [
    {
     "name": "stdout",
     "output_type": "stream",
     "text": [
      "Hello, Ada!\n",
      "Hello, Alan!\n"
     ]
    }
   ],
   "source": [
    "greet(\"Ada\")   # Outputs: Hello, Ada!\n",
    "greet(\"Alan\")  # Outputs: Hello, Alan!|}\n",
    "\n"
   ]
  },
  {
   "cell_type": "markdown",
   "metadata": {},
   "source": [
    "#### 2: Parameters and Arguments\n",
    "\n",
    "**Parameters**\n",
    "\n",
    "Functions can have **parameters**, which are placeholders for input values. You define them inside the parentheses.\n",
    "\n",
    "**Arguments**\n",
    "\n",
    "When calling the function, you provide **arguments**, which replace the parameters with actual values.\n",
    "\n",
    "Let’s expand the greeting function to accept more info using parameters:"
   ]
  },
  {
   "cell_type": "code",
   "execution_count": 4,
   "metadata": {},
   "outputs": [],
   "source": [
    "def greet(name, mood):\n",
    "    print(f\"Hello, {name}! You seem {mood} today.\")\n"
   ]
  },
  {
   "cell_type": "code",
   "execution_count": 5,
   "metadata": {},
   "outputs": [
    {
     "name": "stdout",
     "output_type": "stream",
     "text": [
      "Hello, Ada! You seem brilliant today.\n",
      "Hello, Alan! You seem curious today.\n"
     ]
    }
   ],
   "source": [
    "greet(\"Ada\", \"brilliant\")  # Outputs: Hello, Ada! You seem brilliant today.\n",
    "greet(\"Alan\", \"curious\")   # Outputs: Hello, Alan! You seem curious today.\n"
   ]
  },
  {
   "cell_type": "markdown",
   "metadata": {},
   "source": [
    "#### 3: Returning Values\n",
    "\n",
    "Functions don’t always just print stuff—they can also give you results back using `return`. This is essential for Data Science tasks where you might compute something like averages or predictions.\n",
    "\n",
    "- Example"
   ]
  },
  {
   "cell_type": "code",
   "execution_count": 6,
   "metadata": {},
   "outputs": [],
   "source": [
    "def add(x, y):\n",
    "    return x + y\n"
   ]
  },
  {
   "cell_type": "code",
   "execution_count": 7,
   "metadata": {},
   "outputs": [
    {
     "name": "stdout",
     "output_type": "stream",
     "text": [
      "15\n"
     ]
    }
   ],
   "source": [
    "result = add(10, 5)\n",
    "print(result)  # Outputs: 15"
   ]
  },
  {
   "cell_type": "markdown",
   "metadata": {},
   "source": [
    "Now you can reuse the `add()` function for any numbers—much better than rewriting the same code!"
   ]
  },
  {
   "cell_type": "markdown",
   "metadata": {},
   "source": [
    "#### 4: Default Parameters\n",
    "- Sometimes you want to provide a **default** value in case an argument isn’t passed. Python's got you covered:\n",
    "- Example"
   ]
  },
  {
   "cell_type": "code",
   "execution_count": 8,
   "metadata": {},
   "outputs": [],
   "source": [
    "def greet(name, mood=\"great\"):\n",
    "    print(f\"Hello, {name}! You seem {mood} today.\")\n"
   ]
  },
  {
   "cell_type": "code",
   "execution_count": 9,
   "metadata": {},
   "outputs": [
    {
     "name": "stdout",
     "output_type": "stream",
     "text": [
      "Hello, Ada! You seem great today.\n",
      "Hello, Alan! You seem excited today.\n"
     ]
    }
   ],
   "source": [
    "greet(\"Ada\")        # Outputs: Hello, Ada! You seem great today.\n",
    "greet(\"Alan\", \"excited\")  # Outputs: Hello, Alan! You seem excited today.\n"
   ]
  },
  {
   "cell_type": "markdown",
   "metadata": {},
   "source": [
    "Default parameters make functions flexible and user-friendly."
   ]
  },
  {
   "cell_type": "markdown",
   "metadata": {},
   "source": [
    "#### 5: Variable Scope (Where Do Variables Live?)\n",
    "\n",
    "- Variables inside a function are **local**, meaning they can’t be accessed outside. But variables defined globally can be accessed within a function."
   ]
  },
  {
   "cell_type": "code",
   "execution_count": 10,
   "metadata": {},
   "outputs": [
    {
     "name": "stdout",
     "output_type": "stream",
     "text": [
      "180\n"
     ]
    }
   ],
   "source": [
    "global_number = 5\n",
    "\n",
    "def multiply_numbers(x):\n",
    "    y = 12\n",
    "    return x * y * global_number\n",
    "\n",
    "result = multiply_numbers(3)\n",
    "print(result)  # Outputs 180\n",
    "\n",
    "# Attempting to access a local variable outside the function \n",
    "# print(y)\n"
   ]
  },
  {
   "cell_type": "code",
   "execution_count": 11,
   "metadata": {},
   "outputs": [
    {
     "name": "stdout",
     "output_type": "stream",
     "text": [
      "1\n",
      "1\n"
     ]
    }
   ],
   "source": [
    "# Modifying a global variable from within a function\n",
    "counter = 0\n",
    "\n",
    "def increment_counter():\n",
    "    global counter\n",
    "    counter += 1\n",
    "    print(counter)  # Outputs 4\n",
    "\n",
    "increment_counter()\n",
    "print(counter)  # Outputs 1\n"
   ]
  },
  {
   "cell_type": "markdown",
   "metadata": {},
   "source": [
    "- Access: You can read global variables inside a function without declaring them as global.\n",
    "- Modification: To modify a global variable inside a function, you must explicitly declare it as global using the global keyword. Otherwise, Python will attempt to treat any assignment to that variable as the creation of a new local variable, leading to potential errors or unexpected behavior\n"
   ]
  },
  {
   "cell_type": "markdown",
   "metadata": {},
   "source": [
    "#### 6: Anonymous Functions (a.k.a. Lambdas)\n",
    "- **Lambdas** are one-liner functions that are quick and disposable. You can use them when you don’t need a full-blown function definition.\n",
    "- Example: Lambda for Squaring a Number"
   ]
  },
  {
   "cell_type": "code",
   "execution_count": 12,
   "metadata": {},
   "outputs": [
    {
     "name": "stdout",
     "output_type": "stream",
     "text": [
      "25\n"
     ]
    }
   ],
   "source": [
    "square = lambda x: x**2\n",
    "print(square(5))  # Outputs: 25\n"
   ]
  },
  {
   "cell_type": "code",
   "execution_count": 13,
   "metadata": {},
   "outputs": [
    {
     "name": "stdout",
     "output_type": "stream",
     "text": [
      "[1, 4, 9, 16]\n",
      "<map object at 0x00000227043EC5B0>\n"
     ]
    }
   ],
   "source": [
    "numbers = [1, 2, 3, 4]\n",
    "squared = map(lambda x: x**2, numbers)\n",
    "print(list(squared))  # Outputs: [1, 4, 9, 16]\n",
    "print(squared)  # Outputs: <map object at 0x...>\n"
   ]
  },
  {
   "cell_type": "markdown",
   "metadata": {},
   "source": [
    "![alt text](../images/fig1_lambda-expression.jpg)\n",
    "\n",
    "Lambdas are perfect for short, one-off operations but stick to `def` for more complex tasks"
   ]
  },
  {
   "cell_type": "markdown",
   "metadata": {},
   "source": [
    "#### 🚀 Quick Summary:\n",
    "\n",
    "| **Lambda Syntax**               | **Equivalent `def` Function**            |\n",
    "|----------------------------------|-----------------------------------------|\n",
    "| `lambda x: x + 10`               | `def add_ten(x): return x + 10`        |\n",
    "| `lambda a, b: a * b`             | `def multiply(a, b): return a * b`     |\n",
    "| `lambda x: x % 2 == 0`           | `def is_even(x): return x % 2 == 0`    |\n",
    "\n",
    "- Lambda functions are powerful for concise operations, perfect for short, one-off operations but stick to `def` for more complex tasks. Readability should always come first!** 🚀\n"
   ]
  },
  {
   "cell_type": "markdown",
   "metadata": {},
   "source": [
    "#### 7: Best Practices for Functions\n",
    "- **Keep Functions Short and Sweet:** Each function should do one thing (avoid multitasking!).\n",
    "- **Name Functions Clearly:** Use names that explain what the function does—your future self will thank you.\n",
    "    - `def calculate_mean()`✅ \n",
    "    - `def do_stuff()`❌ \n",
    "- **Comment Your Code:** Add comments to explain what the function does or any tricky parts.\n",
    "- **Test Before Using:** Test your function with different inputs to make sure it behaves as expected."
   ]
  },
  {
   "cell_type": "markdown",
   "metadata": {},
   "source": [
    "#### 8. Why Functions Matter\n",
    "- They reduce code repetition. Instead of copy-pasting the same snippet 10 times, define it once and call it 10 times.\n",
    "- They make your code easier to read, understand, and debug.\n",
    "- They pave the way for modular code—especially useful in bigger Data Science or AI projects where you might have data cleaning steps, feature engineering, model training, etc."
   ]
  },
  {
   "cell_type": "markdown",
   "metadata": {},
   "source": [
    "#### Quick Exercises \n",
    "1. Create a greeting function that takes a name and age and says:\n",
    "\n",
    "    - `\"Hello, [name]! You are [age] years old.\"`\n",
    "\n",
    "2. Write a function to calculate the area of a rectangle with default parameters length=10 and width=5.\n",
    "\n",
    "3. Create a function is_even() that takes a number and returns True if it’s even, and False otherwise.\n",
    "\n",
    "4. Write a function process_list() that takes a list of numbers and:\n",
    "    - Removes duplicates,\n",
    "    - Sorts the list in ascending order, and\n",
    "    - Returns the cleaned list.\n",
    "    - Use a lambda function inside Python’s filter() to extract all even numbers from the list:\n",
    "        - `numbers = [3, 6, 8, 7, 5, 9, 2]`\n",
    "\n",
    "**Please Note:** The solutions to above questions will be present at the end of next session's (Day 7: Meet Numpy) Notebook.\n",
    "\n",
    "---"
   ]
  },
  {
   "cell_type": "markdown",
   "metadata": {},
   "source": [
    "### Day 5 Exercise Solution"
   ]
  },
  {
   "cell_type": "markdown",
   "metadata": {},
   "source": [
    "1. Create a dictionary to store some metadata about a dataset:\n",
    "    - Total rows, total columns, and the type of analysis done (e.g., regression or classification).\n",
    "    - Add a new key-value pair to store the dataset source (e.g., 'CSV file', 'database', or a URL).\n",
    "    - Update the analysis type to \"clustering.\"\n"
   ]
  },
  {
   "cell_type": "code",
   "execution_count": 14,
   "metadata": {},
   "outputs": [
    {
     "name": "stdout",
     "output_type": "stream",
     "text": [
      "{'total_rows': 10000, 'total_columns': 12, 'analysis_type': 'regression'}\n"
     ]
    }
   ],
   "source": [
    "# Step 1: Create a dictionary with a sample dataset metadata\n",
    "dataset_metadata = {\n",
    "    \"total_rows\": 10000,\n",
    "    \"total_columns\": 12,\n",
    "    \"analysis_type\": \"regression\"\n",
    "}\n",
    "\n",
    "print(dataset_metadata)"
   ]
  },
  {
   "cell_type": "code",
   "execution_count": 15,
   "metadata": {},
   "outputs": [
    {
     "name": "stdout",
     "output_type": "stream",
     "text": [
      "{'total_rows': 10000, 'total_columns': 12, 'analysis_type': 'regression', 'source': 'CSV file'}\n"
     ]
    }
   ],
   "source": [
    "# Step 2: Add a new key for dataset source\n",
    "dataset_metadata[\"source\"] = \"CSV file\"\n",
    "print(dataset_metadata)"
   ]
  },
  {
   "cell_type": "code",
   "execution_count": 16,
   "metadata": {},
   "outputs": [
    {
     "name": "stdout",
     "output_type": "stream",
     "text": [
      "{'total_rows': 10000, 'total_columns': 12, 'analysis_type': 'clustering', 'source': 'CSV file'}\n"
     ]
    }
   ],
   "source": [
    "# Step 3: Update the analysis type to 'clustering'\n",
    "dataset_metadata[\"analysis_type\"] = \"clustering\"\n",
    "\n",
    "print(dataset_metadata)"
   ]
  },
  {
   "cell_type": "markdown",
   "metadata": {},
   "source": [
    "2. Use a set to remove duplicates from the following list:\n",
    "    - `sample_data = [1, 2, 3, 1, 4, 2, 5, 3]`\n"
   ]
  },
  {
   "cell_type": "code",
   "execution_count": 17,
   "metadata": {},
   "outputs": [
    {
     "name": "stdout",
     "output_type": "stream",
     "text": [
      "[1, 2, 3, 1, 4, 2, 5, 3]\n",
      "{1, 2, 3, 4, 5}\n"
     ]
    }
   ],
   "source": [
    "\n",
    "# Given list with duplicates\n",
    "sample_data = [1, 2, 3, 1, 4, 2, 5, 3]\n",
    "\n",
    "# Convert list to set to remove duplicates\n",
    "unique_data = set(sample_data)\n",
    "\n",
    "print(sample_data)  # Original list with duplicates\n",
    "print(unique_data)  # Set with unique values\n",
    "\n"
   ]
  },
  {
   "cell_type": "markdown",
   "metadata": {},
   "source": [
    "3. Write a dictionary that maps some feature names to their descriptions (e.g., \"Age\" → \"Customer Age in Years\"). Loop through and print all the features with their descriptions."
   ]
  },
  {
   "cell_type": "code",
   "execution_count": 18,
   "metadata": {},
   "outputs": [
    {
     "name": "stdout",
     "output_type": "stream",
     "text": [
      "{'Age': 'Customer Age in Years', 'Income': 'Monthly Income in USD', 'Education': 'Highest Degree Achieved', 'Gender': \"Customer's Gender\", 'City': 'City of Residence'}\n"
     ]
    }
   ],
   "source": [
    "# Step 1: Create a dictionary mapping feature names to their descriptions\n",
    "feature_descriptions = {\n",
    "    \"Age\": \"Customer Age in Years\",\n",
    "    \"Income\": \"Monthly Income in USD\",\n",
    "    \"Education\": \"Highest Degree Achieved\",\n",
    "    \"Gender\": \"Customer's Gender\",\n",
    "    \"City\": \"City of Residence\"\n",
    "}\n",
    "\n",
    "print(feature_descriptions)"
   ]
  },
  {
   "cell_type": "code",
   "execution_count": 19,
   "metadata": {},
   "outputs": [
    {
     "name": "stdout",
     "output_type": "stream",
     "text": [
      "Age: Customer Age in Years\n",
      "Income: Monthly Income in USD\n",
      "Education: Highest Degree Achieved\n",
      "Gender: Customer's Gender\n",
      "City: City of Residence\n"
     ]
    }
   ],
   "source": [
    "# Step 2: Loop through the dictionary and print each feature with its description\n",
    "for feature, description in feature_descriptions.items():\n",
    "    print(f\"{feature}: {description}\")"
   ]
  },
  {
   "cell_type": "markdown",
   "metadata": {},
   "source": [
    "4. Create two sets of numbers (set_a = {10, 20, 30}, set_b = {20, 30, 40}), and find:\n",
    "\n",
    "    - Their union\n",
    "    - Their intersection\n",
    "    - The numbers in set_a but not set_b"
   ]
  },
  {
   "cell_type": "code",
   "execution_count": 20,
   "metadata": {},
   "outputs": [
    {
     "name": "stdout",
     "output_type": "stream",
     "text": [
      "Union: {20, 40, 10, 30}\n",
      "Intersection: {20, 30}\n",
      "Difference (set_a - set_b): {10}\n"
     ]
    }
   ],
   "source": [
    "# Define the two sets\n",
    "set_a = {10, 20, 30}\n",
    "set_b = {20, 30, 40}\n",
    "\n",
    "# Union: All unique elements from both sets\n",
    "union_set = set_a | set_b  # or set_a.union(set_b)\n",
    "\n",
    "\n",
    "# Intersection: Common elements in both sets\n",
    "intersection_set = set_a & set_b  # or set_a.intersection(set_b)\n",
    "\n",
    "\n",
    "# Difference: Elements in set_a but not in set_b\n",
    "difference_set = set_a - set_b  # or set_a.difference(set_b)\n",
    "\n",
    "\n",
    "\n",
    "# Print results\n",
    "print(\"Union:\", union_set)\n",
    "print(\"Intersection:\", intersection_set)\n",
    "print(\"Difference (set_a - set_b):\", difference_set)"
   ]
  },
  {
   "cell_type": "markdown",
   "metadata": {},
   "source": [
    "# HAPPY LEARNING"
   ]
  }
 ],
 "metadata": {
  "kernelspec": {
   "display_name": "Python 3",
   "language": "python",
   "name": "python3"
  },
  "language_info": {
   "codemirror_mode": {
    "name": "ipython",
    "version": 3
   },
   "file_extension": ".py",
   "mimetype": "text/x-python",
   "name": "python",
   "nbconvert_exporter": "python",
   "pygments_lexer": "ipython3",
   "version": "3.12.2"
  }
 },
 "nbformat": 4,
 "nbformat_minor": 2
}
