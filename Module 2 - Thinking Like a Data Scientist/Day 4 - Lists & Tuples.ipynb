{
 "cells": [
  {
   "cell_type": "markdown",
   "metadata": {},
   "source": [
    "## Module 2: Thinking Like a Data Scientist\n",
    "> This module helps you organize and work with data like a pro. You’ll master lists, tuples, dictionaries, and sets to store and retrieve data efficiently. Then, you’ll learn to write functions so you’re not rewriting the same code over and over—because real data scientists keep it clean and reusable!\n",
    "### Day 4 - Lists & Tuples: Organizing Your Data Like a Pro\n",
    "----"
   ]
  },
  {
   "cell_type": "markdown",
   "metadata": {},
   "source": [
    "##### Overview:\n",
    "- Python’s built-in data structures are the flexible containers you’ll rely on to store and manipulate data.\n",
    "- Each has its own quirks: **lists** can grow or shrink at will, **tuples** are unchangeable, **dictionaries** revolve around key-value pairs, and **sets** are about uniqueness.\n",
    "- Learning how and when to use them will give you a big head start in data manipulation."
   ]
  },
  {
   "cell_type": "markdown",
   "metadata": {},
   "source": [
    "#### 1. Lists: The Everyday Swiss Army Knife\n",
    "- Lists are mutable (changeable) sequences that can hold multiple items, different types of items, including other lists.\n",
    "- Common operations:\n",
    "    - Access elements via indexing (e.g., `my_list[0]`)\n",
    "    - Add items with `append()` or `extend()`\n",
    "    - Remove items with `remove()` or `pop()`\n",
    "- Example:"
   ]
  },
  {
   "cell_type": "markdown",
   "metadata": {},
   "source": [
    "**Creating Lists**\n",
    "- Lists are denoted by **square brackets**, [], and commas separate the items:"
   ]
  },
  {
   "cell_type": "code",
   "execution_count": 1,
   "metadata": {},
   "outputs": [],
   "source": [
    "# Example: A list of fruits\n",
    "fruits = [\"apple\", \"banana\", \"cherry\"]\n",
    "\n",
    "# A list of numbers\n",
    "numbers = [1, 2, 3, 4, 5]\n",
    "\n",
    "# A mixed list\n",
    "mixed = [42, \"AI\", True]"
   ]
  },
  {
   "cell_type": "markdown",
   "metadata": {},
   "source": [
    "**Accessing List Items (Indexing)**\n",
    "- Python uses zero-based indexing, which means the first item is at index 0"
   ]
  },
  {
   "cell_type": "code",
   "execution_count": 2,
   "metadata": {},
   "outputs": [
    {
     "name": "stdout",
     "output_type": "stream",
     "text": [
      "banana\n",
      "chikoo\n",
      "cherry\n",
      "cherry\n"
     ]
    }
   ],
   "source": [
    "# Accessing elements of a list\n",
    "fruits = [\"apple\", \"banana\", \"chikoo\", \"cherry\"]\n",
    "print(fruits[1]) # .\n",
    "print(fruits[2])\n",
    "print(fruits[3])\n",
    "print(fruits[-1]) # Negative indices can be used to access elements from the end of the list.\n"
   ]
  },
  {
   "cell_type": "markdown",
   "metadata": {},
   "source": [
    "**Adding Items:**\n",
    "- Use method `.append(item)` to add items to the end of a list."
   ]
  },
  {
   "cell_type": "code",
   "execution_count": 3,
   "metadata": {},
   "outputs": [
    {
     "name": "stdout",
     "output_type": "stream",
     "text": [
      "['apple', 'banana', 'chikoo', 'cherry', 'dragonfruit']\n"
     ]
    }
   ],
   "source": [
    "# Adding elements to the end a list\n",
    "fruits.append(\"dragonfruit\")\n",
    "\n",
    "print(fruits)  "
   ]
  },
  {
   "cell_type": "code",
   "execution_count": 4,
   "metadata": {},
   "outputs": [
    {
     "name": "stdout",
     "output_type": "stream",
     "text": [
      "['apple', 'banana', 'chikoo', 'cherry', 'dragonfruit', 'kiwi', 'mango']\n"
     ]
    }
   ],
   "source": [
    "# Adding multiple elements to the end of a list\n",
    "fruits.extend([\"kiwi\", \"mango\"])\n",
    "print(fruits) # ['apple', 'banana', 'chikoo', 'cherry', 'dragonfruit', 'kiwi', 'mango'] \n"
   ]
  },
  {
   "cell_type": "code",
   "execution_count": 5,
   "metadata": {},
   "outputs": [
    {
     "name": "stdout",
     "output_type": "stream",
     "text": [
      "['apple', 'banana', 'chikoo', 'cherry', 'dragonfruit', 'kiwi', 'mango', ['grapes', 'strawberry']]\n"
     ]
    }
   ],
   "source": [
    "fruits.append([\"grapes\", \"strawberry\"])\n",
    "print(fruits) "
   ]
  },
  {
   "cell_type": "markdown",
   "metadata": {},
   "source": [
    "*To Note:* \n",
    "\n",
    "- `append()` adds a **single element** to the end of the list.\n",
    "- If you pass a list, it will be added as a **single element (a nested list)**.\n",
    "\n",
    "- `extend()` adds **each element** of an iterable (like a list) to the list individually.\n",
    "- Does **not** create a nested list.\n",
    "\n",
    "Key Differences Between `append()` and `extend()`\n",
    "| Feature    | `append()` | `extend()` |\n",
    "|------------|-----------|------------|\n",
    "| Input      | Single element or a list | Iterable (list, tuple, etc.) |\n",
    "| Effect     | Adds the input as a single element | Adds elements of the iterable one by one |\n",
    "| Nested List | Yes, if a list is passed | No, elements are added separately |\n"
   ]
  },
  {
   "cell_type": "markdown",
   "metadata": {},
   "source": [
    "- Insert at a specific position with `.insert(index, item)`."
   ]
  },
  {
   "cell_type": "code",
   "execution_count": 6,
   "metadata": {},
   "outputs": [
    {
     "name": "stdout",
     "output_type": "stream",
     "text": [
      "['apple', 'banana', 'dates', 'chikoo', 'cherry', 'dragonfruit', 'kiwi', 'mango', ['grapes', 'strawberry']]\n"
     ]
    }
   ],
   "source": [
    "#Adding elements to a specific position in a list\n",
    "fruits.insert(2, \"dates\")\n",
    "print(fruits)"
   ]
  },
  {
   "cell_type": "markdown",
   "metadata": {},
   "source": [
    "**Removing Items:**\n",
    "- Use `.remove(item)` to remove a specific item:"
   ]
  },
  {
   "cell_type": "code",
   "execution_count": 7,
   "metadata": {},
   "outputs": [
    {
     "name": "stdout",
     "output_type": "stream",
     "text": [
      "['apple', 'banana', 'dates', 'cherry', 'dragonfruit', 'kiwi', 'mango', ['grapes', 'strawberry']]\n"
     ]
    }
   ],
   "source": [
    "# Removing elements from a list\n",
    "fruits.remove(\"chikoo\")\n",
    "print(fruits)"
   ]
  },
  {
   "cell_type": "code",
   "execution_count": 8,
   "metadata": {},
   "outputs": [
    {
     "name": "stdout",
     "output_type": "stream",
     "text": [
      "['apple', 'banana', 'dates', 'dragonfruit', 'kiwi', 'mango', ['grapes', 'strawberry']]\n"
     ]
    }
   ],
   "source": [
    "# Removing elements by indeex using del keyword\n",
    "del fruits[3]\n",
    "print(fruits) "
   ]
  },
  {
   "cell_type": "markdown",
   "metadata": {},
   "source": [
    "- Use `.pop()` to remove the last item (and return it):"
   ]
  },
  {
   "cell_type": "code",
   "execution_count": 9,
   "metadata": {},
   "outputs": [
    {
     "name": "stdout",
     "output_type": "stream",
     "text": [
      "['apple', 'banana', 'dragonfruit', 'kiwi', 'mango', ['grapes', 'strawberry']]\n",
      "dates\n"
     ]
    }
   ],
   "source": [
    "# Removing elements from a specific position in a list\n",
    "my_fruit = fruits.pop(2)\n",
    "print(fruits)\n",
    "print(my_fruit)"
   ]
  },
  {
   "cell_type": "code",
   "execution_count": 10,
   "metadata": {},
   "outputs": [
    {
     "name": "stdout",
     "output_type": "stream",
     "text": [
      "strawberry\n"
     ]
    }
   ],
   "source": [
    "# Accessing elements of a nested list\n",
    "print(fruits[5][1])"
   ]
  },
  {
   "cell_type": "markdown",
   "metadata": {},
   "source": [
    "**Replacing Items:**\n",
    "- Use simple assignment to replace items:"
   ]
  },
  {
   "cell_type": "code",
   "execution_count": 11,
   "metadata": {},
   "outputs": [
    {
     "name": "stdout",
     "output_type": "stream",
     "text": [
      "['apple', 'pineapple', 'dragonfruit', 'kiwi', 'mango', ['grapes', 'strawberry']]\n"
     ]
    }
   ],
   "source": [
    "fruits[1] = \"pineapple\"\n",
    "print(fruits)  \n"
   ]
  },
  {
   "cell_type": "markdown",
   "metadata": {},
   "source": [
    "**Looping Through a List**\n",
    "- Lists are often paired with loops—because why access items manually when you can let Python do the heavy lifting?"
   ]
  },
  {
   "cell_type": "code",
   "execution_count": 12,
   "metadata": {},
   "outputs": [
    {
     "name": "stdout",
     "output_type": "stream",
     "text": [
      "I love apple!\n",
      "I love pineapple!\n",
      "I love dragonfruit!\n",
      "I love kiwi!\n",
      "I love mango!\n",
      "I love ['grapes', 'strawberry']!\n"
     ]
    }
   ],
   "source": [
    "for fruit in fruits:\n",
    "    print(f\"I love {fruit}!\")\n"
   ]
  },
  {
   "cell_type": "markdown",
   "metadata": {},
   "source": [
    "**Slicing Lists**\n",
    "- Slicing is how you extract portions of a list. The syntax is `list[start:end]`, where start is inclusive and end is exclusive."
   ]
  },
  {
   "cell_type": "code",
   "execution_count": 13,
   "metadata": {},
   "outputs": [
    {
     "name": "stdout",
     "output_type": "stream",
     "text": [
      "[20, 30]\n",
      "[10, 20, 30]\n",
      "[30, 40, 50]\n",
      "[40, 50]\n",
      "[10, 20, 30]\n",
      "[10, 20, 30, 40, 50]\n",
      "[10, 30, 50]\n",
      "[50, 40, 30, 20, 10]\n"
     ]
    }
   ],
   "source": [
    "numbers = [10, 20, 30, 40, 50]\n",
    "\n",
    "print(numbers[1:3])  # Outputs: [20, 30] (from index 1 to 2)\n",
    "print(numbers[:3])   # Outputs: [10, 20, 30] (start from the beginning)\n",
    "print(numbers[2:])   # Outputs: [30, 40, 50] (go till the end)\n",
    "print(numbers[-2:])  # Outputs: [40, 50] (last 2 items)\n",
    "print(numbers[:-2])  # Outputs: [10, 20, 30] (everything except last 2 items)\n",
    "print(numbers[:])    # Outputs: [10, 20, 30, 40, 50] (full list)\n",
    "print(numbers[::2])  # Outputs: [10, 30, 50] (every 2nd item)\n",
    "print(numbers[::-1]) # Outputs: [50, 40, 30, 20, 10] (reverse the list)\n"
   ]
  },
  {
   "cell_type": "markdown",
   "metadata": {},
   "source": [
    "#### 2. Tuples: Unalterable, But Still Useful\n",
    "- Tuples look like lists, except they’re enclosed in parentheses and are immutable.\n",
    "- Great for “fixed” collections where the order matters, but the content shouldn’t change.\n",
    "- Example:\n"
   ]
  },
  {
   "cell_type": "code",
   "execution_count": 14,
   "metadata": {},
   "outputs": [
    {
     "name": "stdout",
     "output_type": "stream",
     "text": [
      "10.0\n"
     ]
    }
   ],
   "source": [
    "coordinates = (10.0, 20.5)\n",
    "# coordinates[0] = 11.0  # This would cause an error: 'tuple' object does not support item assignment\n",
    "print(coordinates[0])"
   ]
  },
  {
   "cell_type": "markdown",
   "metadata": {},
   "source": [
    "**Why Use Tuples?**\n",
    "- They’re faster than lists.\n",
    "- They’re great for write-protected data (e.g., settings or constants).\n",
    "- Tuples come in handy when you need an “unchangeable” sequence—like coordinates or config values that shouldn’t be accidentally edited.\n",
    "    - Tuples are immutable, meaning once they are created, they cannot be modified. This is useful for storing data that should not change throughout the program, such as configuration values or fixed sets of data."
   ]
  },
  {
   "cell_type": "code",
   "execution_count": 15,
   "metadata": {},
   "outputs": [
    {
     "name": "stdout",
     "output_type": "stream",
     "text": [
      "Server: localhost\n",
      "Port: 8080\n"
     ]
    }
   ],
   "source": [
    "# Using tuple for configuration settings\n",
    "config_settings = ('localhost', 8080)\n",
    "print(\"Server:\", config_settings[0])\n",
    "print(\"Port:\", config_settings[1])"
   ]
  },
  {
   "cell_type": "markdown",
   "metadata": {},
   "source": [
    "----\n",
    "#### Quick Exercises\n",
    "1. Create a list of your favorite data science buzzwords (like \"AI,\" \"Deep Learning,\" etc.).\n",
    "- Add one using .append().\n",
    "- Remove the second one.\n",
    "- Replace the third with another buzzword.\n",
    "\n",
    "2. If fruit is a list of ['apple', 'banana', 'dates', 'cherry', 'dragonfruit'], what is the difference between the below 2 statements\n",
    "\n",
    "    `del fruits[2]`\n",
    "\n",
    "    `fruits.pop(2)`\n",
    "\n",
    "3. Write a program to print only the even numbers from this list:\n",
    "- 'numbers = [11, 22, 33, 44, 55, 66, 77, 88]'\n",
    "\n",
    "4. Create a tuple of three immutable constants (e.g., Pi, e, and the speed of light).\n",
    "\n",
    "- Try accessing each item.\n",
    "- Then try to change one. (Spoiler: Python won't let you!)\n",
    "\n",
    "\n",
    "5. Create a list named features, `features = [\"age\", \"income\", \"education\", \"gender\", \"city\"]`. Use slicing to grab:\n",
    "- The first three words from this list.\n",
    "- The last two words from this list.\n",
    "\n",
    "\n",
    "\n",
    "\n",
    "**Please Note:** The solutions to above questions will be present at the end of next session's (Day 5: Dictionaries & Sets) Notebook.\n",
    "\n",
    "----"
   ]
  },
  {
   "cell_type": "markdown",
   "metadata": {},
   "source": [
    "### Day 3 Exercise Solution"
   ]
  },
  {
   "cell_type": "markdown",
   "metadata": {},
   "source": [
    "1.  Write a small program that uses conditionals to check if a user’s input age is old enough to vote (voting age = 18 years)."
   ]
  },
  {
   "cell_type": "code",
   "execution_count": 17,
   "metadata": {},
   "outputs": [
    {
     "name": "stdout",
     "output_type": "stream",
     "text": [
      "You are old enough to vote!\n"
     ]
    }
   ],
   "source": [
    "# Write a small program that uses conditionals to check if a user’s input age is old enough to vote (voting age = 18 years).\n",
    "\n",
    "age = int(input(\"Enter your age: \"))\n",
    "# age = 35\n",
    "\n",
    "if age >= 18:\n",
    "    print(\"You are old enough to vote!\")\n",
    "else:\n",
    "    print(\"You are not old enough to vote!\")\n"
   ]
  },
  {
   "cell_type": "markdown",
   "metadata": {},
   "source": [
    "2.  Loop through a list of random numbers and print only the even ones."
   ]
  },
  {
   "cell_type": "code",
   "execution_count": 18,
   "metadata": {},
   "outputs": [
    {
     "name": "stdout",
     "output_type": "stream",
     "text": [
      "6\n",
      "8\n",
      "2\n",
      "4\n"
     ]
    }
   ],
   "source": [
    "# Loop through a list of random numbers and print only the even ones.\n",
    "random_numbers = [3, 1, 6, 7, 8, 2, 4, 5]\n",
    "\n",
    "for number in random_numbers:\n",
    "    if number % 2 == 0:\n",
    "        print(number)\n",
    "\n"
   ]
  },
  {
   "cell_type": "markdown",
   "metadata": {},
   "source": [
    "3.  Create a while loop that prints numbers from 1 to 10, make sure you do not enter an infinte loop."
   ]
  },
  {
   "cell_type": "code",
   "execution_count": 19,
   "metadata": {},
   "outputs": [
    {
     "name": "stdout",
     "output_type": "stream",
     "text": [
      "1\n",
      "2\n",
      "3\n",
      "4\n",
      "5\n",
      "6\n",
      "7\n",
      "8\n",
      "9\n",
      "10\n"
     ]
    }
   ],
   "source": [
    "# Create a while loop that prints numbers from 1 to 10\n",
    "i = 1\n",
    "while i <= 10:\n",
    "    print(i)\n",
    "    i += 1\n"
   ]
  },
  {
   "cell_type": "markdown",
   "metadata": {},
   "source": [
    "4.  Loop through this list of strings and print only the strings longer than 5 characters: \n",
    "     words = [\"Python\", \"AI\", \"Machine\", \"Science\", \"Wow\"]"
   ]
  },
  {
   "cell_type": "code",
   "execution_count": 20,
   "metadata": {},
   "outputs": [
    {
     "name": "stdout",
     "output_type": "stream",
     "text": [
      "Python\n",
      "Machine\n",
      "Science\n"
     ]
    }
   ],
   "source": [
    "#Loop through this list of strings and print only the strings longer than 5 characters: words = [\"Python\", \"AI\", \"Machine\", \"Science\", \"Wow\"]\n",
    "\n",
    "words = [\"Python\", \"AI\", \"Machine\", \"Science\", \"Wow\"]\n",
    "for word in words:\n",
    "    if len(word) > 5:\n",
    "        print(word)\n",
    "        "
   ]
  },
  {
   "cell_type": "markdown",
   "metadata": {},
   "source": [
    "# HAPPY LEARNING"
   ]
  }
 ],
 "metadata": {
  "kernelspec": {
   "display_name": "Python 3",
   "language": "python",
   "name": "python3"
  },
  "language_info": {
   "codemirror_mode": {
    "name": "ipython",
    "version": 3
   },
   "file_extension": ".py",
   "mimetype": "text/x-python",
   "name": "python",
   "nbconvert_exporter": "python",
   "pygments_lexer": "ipython3",
   "version": "3.12.2"
  }
 },
 "nbformat": 4,
 "nbformat_minor": 2
}
