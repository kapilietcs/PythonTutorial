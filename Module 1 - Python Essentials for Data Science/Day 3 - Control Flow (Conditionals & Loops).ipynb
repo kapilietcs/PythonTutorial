{
 "cells": [
  {
   "cell_type": "markdown",
   "metadata": {},
   "source": [
    "![alt text](<../images/just enough.png>)"
   ]
  },
  {
   "cell_type": "markdown",
   "metadata": {},
   "source": [
    "# Just Enough Python for AI/Data Science\n",
    "## Module 1: Python Essentials for Data Science\n",
    "> In this module you’ll set up Python, learn to handle data with variables and types, and get comfy with loops and conditionals—so you can actually do stuff with datasets instead of just staring at them!\n",
    "### Day 3 - Control Flow (Conditionals & Loops)\n",
    "----"
   ]
  },
  {
   "cell_type": "markdown",
   "metadata": {},
   "source": [
    "##### Overview:\n",
    "- Python’s control flow commands (if-statements, for-loops, while-loops) shape how your code “thinks.”\n",
    "- This module will teach you to direct your program’s logic—like choosing different routes based on certain conditions or repeating a set of instructions until you’ve reached a desired outcome.\n",
    "- It's like teaching your Python scripts to say “Hmm, should I do this... or that?” and to perform the same task over and over again without breaking a sweat. "
   ]
  },
  {
   "cell_type": "markdown",
   "metadata": {},
   "source": [
    "#### 1. Conditionals (if, elif, else):\n",
    "- *Conditional statements let your code “branch out.” You set a condition, and the code decides which path to follow.*\n",
    "    1. **If-Else Statements**\n",
    "    - An **if-else statement** allows your program to make decisions. The way it works is simple:\n",
    "\n",
    "        - If a certain condition is true, do something.\n",
    "        - Else, do something else.\n",
    "    - Here’s a real-life analogy:\n",
    "\n",
    "        - **If** it’s raining: grab your umbrella.\n",
    "        - **Else**: put on sunglasses.\n",
    "\n",
    "    - Basic structure:"
   ]
  },
  {
   "cell_type": "code",
   "execution_count": 1,
   "metadata": {},
   "outputs": [
    {
     "name": "stdout",
     "output_type": "stream",
     "text": [
      "Grab your umbrella!\n",
      "2\n",
      "out\n"
     ]
    }
   ],
   "source": [
    "is_raining = True\n",
    "\n",
    "if is_raining:\n",
    "    print(\"Grab your umbrella!\")\n",
    "    print(2)\n",
    "else:\n",
    "    print(\"Put on your sunglasses!\")\n",
    "    print(1)\n",
    "    print(2)\n",
    "print(\"out\")\n"
   ]
  },
  {
   "cell_type": "markdown",
   "metadata": {},
   "source": [
    "*To Note: In Python, indentation (4 spaces) is not just for readability- it's a part of the syntax, and it MATTERS. Indentation is used to define the scope of loops, functions, and classes*\n",
    "- Think of it like paragraphs in a novel- if it’s not aligned properly, the storyline is lost (and Python gets grumpy).*"
   ]
  },
  {
   "cell_type": "markdown",
   "metadata": {},
   "source": [
    "- **What if there are MANY options?**\n",
    "\n",
    "\n",
    "    2. **If-Elif-Else Statements** \n",
    "    - If you’ve got more than two options, the elif statement has your back. It stands for “else if.” \n",
    "    - For instance:"
   ]
  },
  {
   "cell_type": "code",
   "execution_count": 2,
   "metadata": {},
   "outputs": [
    {
     "name": "stdout",
     "output_type": "stream",
     "text": [
      "It's hot, drink water.\n"
     ]
    }
   ],
   "source": [
    "temperature = 30\n",
    "\n",
    "if temperature < 0:\n",
    "    print(\"Brrr, it's freezing!\")\n",
    "elif temperature < 15:\n",
    "    print(\"It's chilly, wear a jacket.\")\n",
    "elif temperature < 25:\n",
    "    print(\"It's warm, wear a t-shirt.\")\n",
    "elif temperature < 35:\n",
    "    print(\"It's hot, drink water.\")\n",
    "else:\n",
    "    print(\"Nice weather, go outside!\")\n"
   ]
  },
  {
   "cell_type": "markdown",
   "metadata": {},
   "source": [
    "- **3. Nested Conditionals:**\n",
    "\n",
    "    - You can place one if-else chain inside another if-else for more complexity (i.e., the “Inception” of code statements).\n",
    "    - But keep it readable and straightforward—a maze of nested conditionals is no fun to debug."
   ]
  },
  {
   "cell_type": "code",
   "execution_count": 3,
   "metadata": {},
   "outputs": [
    {
     "name": "stdout",
     "output_type": "stream",
     "text": [
      "The number is positive!\n",
      "The number is even.\n"
     ]
    }
   ],
   "source": [
    "my_number = 10\n",
    "\n",
    "if my_number > 0:\n",
    "    print(\"The number is positive!\")\n",
    "    if my_number % 2 == 0:\n",
    "        print(\"The number is even.\")\n",
    "    else:\n",
    "        print(\"The number is odd.\")\n",
    "elif my_number == 0:\n",
    "    print(\"The number is zero!\")\n",
    "else:\n",
    "    print(\"The number is negative!\")\n"
   ]
  },
  {
   "cell_type": "markdown",
   "metadata": {},
   "source": [
    "#### 2. Loops: for and while\n",
    "\n",
    "Now that your code can think, let’s teach it to repeat tasks—because in programming, repetitive tasks are best left to computers\n",
    "- **for** loop: \n",
    "    - Great when you “know” how many times you want to iterate or when you’re looping through a set of items.\n",
    "- Example:"
   ]
  },
  {
   "cell_type": "code",
   "execution_count": 4,
   "metadata": {},
   "outputs": [
    {
     "name": "stdout",
     "output_type": "stream",
     "text": [
      "apple\n",
      "banana\n",
      "chikoo\n",
      "cherry\n",
      "Done\n"
     ]
    }
   ],
   "source": [
    "fruits = [\"apple\", \"banana\",\"chikoo\", \"cherry\"]\n",
    "for fruit in fruits:\n",
    "    print(fruit) \n",
    "print(\"Done\")\n"
   ]
  },
  {
   "cell_type": "code",
   "execution_count": 5,
   "metadata": {},
   "outputs": [
    {
     "name": "stdout",
     "output_type": "stream",
     "text": [
      "Row 0\n",
      "Row 1\n",
      "Row 2\n",
      "Row 3\n",
      "Row 4\n"
     ]
    }
   ],
   "source": [
    "for i in range(0,5):  # Loops from 0 to 4\n",
    "    print(f\"Row {i}\")\n"
   ]
  },
  {
   "cell_type": "code",
   "execution_count": 6,
   "metadata": {},
   "outputs": [
    {
     "name": "stdout",
     "output_type": "stream",
     "text": [
      "1\n",
      "5\n",
      "9\n"
     ]
    }
   ],
   "source": [
    "# Count from 1 to 10 in steps of 2\n",
    "for i in range(1, 11, 4):\n",
    "    print(i)\n"
   ]
  },
  {
   "cell_type": "markdown",
   "metadata": {},
   "source": [
    "- **while** loop: • Runs as long as a condition remains True.\n",
    "    - Potentially infinite if you forget to update the condition. (We’ve all been there—suddenly your program never ends!)\n",
    "- Example:"
   ]
  },
  {
   "cell_type": "code",
   "execution_count": 7,
   "metadata": {},
   "outputs": [
    {
     "name": "stdout",
     "output_type": "stream",
     "text": [
      "Counting: 0\n",
      "Counting: 1\n",
      "Counting: 2\n",
      "Counting: 3\n",
      "Counting: 4\n"
     ]
    }
   ],
   "source": [
    "count = 0\n",
    "while count < 5:\n",
    "    print(\"Counting:\", count)\n",
    "    count += 1 # count = count + 1"
   ]
  },
  {
   "cell_type": "markdown",
   "metadata": {},
   "source": [
    "#### 3: Combine Logic and Loops\n",
    "\n",
    "Here’s where it gets fun—combining loops with if-else logic! For example, let’s filter out odd and even numbers:"
   ]
  },
  {
   "cell_type": "code",
   "execution_count": 8,
   "metadata": {},
   "outputs": [
    {
     "name": "stdout",
     "output_type": "stream",
     "text": [
      "1 is odd\n",
      "2 is even\n",
      "3 is odd\n",
      "4 is even\n",
      "5 is odd\n",
      "6 is even\n",
      "7 is odd\n",
      "8 is even\n",
      "9 is odd\n"
     ]
    }
   ],
   "source": [
    "for number in range(1, 10):\n",
    "    if number % 2 == 0:  # Check if divisible by 2\n",
    "        print(f\"{number} is even\")\n",
    "    else:\n",
    "        print(f\"{number} is odd\")\n"
   ]
  },
  {
   "cell_type": "markdown",
   "metadata": {},
   "source": [
    "#### 4: Breaking and Skipping Loops\n",
    "\n",
    "Sometimes, you need more control over your loops:\n",
    "\n",
    "- Use *break* to exit a loop early.\n",
    "- Use *continue* to skip the current iteration and move to the next."
   ]
  },
  {
   "cell_type": "code",
   "execution_count": 9,
   "metadata": {},
   "outputs": [
    {
     "name": "stdout",
     "output_type": "stream",
     "text": [
      "1\n",
      "2\n"
     ]
    }
   ],
   "source": [
    "# Stop the loop when you hit 3\n",
    "for i in range(1, 6):\n",
    "    if i == 3:\n",
    "        break\n",
    "    print(i)\n"
   ]
  },
  {
   "cell_type": "code",
   "execution_count": 10,
   "metadata": {},
   "outputs": [
    {
     "name": "stdout",
     "output_type": "stream",
     "text": [
      "1\n",
      "2\n",
      "4\n",
      "5\n"
     ]
    }
   ],
   "source": [
    "# Skip 3 but keep looping\n",
    "for i in range(1, 6):\n",
    "    if i == 3:\n",
    "        continue\n",
    "    print(i)"
   ]
  },
  {
   "cell_type": "markdown",
   "metadata": {},
   "source": [
    "#### Common Pitfalls and Tips:\n",
    "\n",
    "- Off-by-one errors: using the wrong range boundaries in your loops.\n",
    "    - Off-by-one errors occur when a loop iterates one time too many or one time too few. This is common with incorrect range boundaries."
   ]
  },
  {
   "cell_type": "code",
   "execution_count": 11,
   "metadata": {},
   "outputs": [
    {
     "name": "stdout",
     "output_type": "stream",
     "text": [
      "0\n",
      "1\n",
      "2\n",
      "3\n",
      "4\n"
     ]
    }
   ],
   "source": [
    "# Off-by-one error example\n",
    "# Let's assume we want to print numbers 1 through 5\n",
    "for i in range(5):  # Incorrect, as it prints 0 through 4\n",
    "    print(i)"
   ]
  },
  {
   "cell_type": "code",
   "execution_count": 12,
   "metadata": {},
   "outputs": [
    {
     "name": "stdout",
     "output_type": "stream",
     "text": [
      "1\n",
      "2\n",
      "3\n",
      "4\n",
      "5\n"
     ]
    }
   ],
   "source": [
    "# Corrected version\n",
    "for i in range(1, 6):  # Starts at 1, ends at 6 (exclusive), correctly printing 1 through 5\n",
    "    print(i)"
   ]
  },
  {
   "cell_type": "markdown",
   "metadata": {},
   "source": [
    "- Infinite loops: forgetting to “nudge” your while loop condition so it can eventually break out.\n",
    "    - Infinite loops happen when the loop condition never becomes false. This is often due to not updating the variables involved in the condition."
   ]
  },
  {
   "cell_type": "code",
   "execution_count": 13,
   "metadata": {},
   "outputs": [],
   "source": [
    "# Example of a potential infinite loop\n",
    "# i = 0\n",
    "# while i < 5:\n",
    "#     print(\"i is less than 5\")\n",
    "    # Forgot to increment i, which will cause an infinite loop"
   ]
  },
  {
   "cell_type": "code",
   "execution_count": 14,
   "metadata": {},
   "outputs": [
    {
     "name": "stdout",
     "output_type": "stream",
     "text": [
      "i is less than 5\n",
      "i is less than 5\n",
      "i is less than 5\n",
      "i is less than 5\n",
      "i is less than 5\n"
     ]
    }
   ],
   "source": [
    "# Corrected version\n",
    "i = 0\n",
    "while i < 5:\n",
    "    print(\"i is less than 5\")\n",
    "    i += 1  # Incrementing i to ensure the loop condition will eventually become false"
   ]
  },
  {
   "cell_type": "markdown",
   "metadata": {},
   "source": [
    "- Over-nesting: it’s easy to bury your code under layers of if-else statements inside loops. Try to keep the logic simple.\n",
    "    - Over-nesting makes the code hard to read and maintain. It's beneficial to keep the logic as flat as possible."
   ]
  },
  {
   "cell_type": "code",
   "execution_count": 15,
   "metadata": {},
   "outputs": [
    {
     "name": "stdout",
     "output_type": "stream",
     "text": [
      "Odd and not greater than 3: 1\n",
      "Even and not greater than 3: 2\n",
      "Odd and not greater than 3: 3\n",
      "Even and greater than 3: 4\n",
      "Odd and greater than 3: 5\n"
     ]
    }
   ],
   "source": [
    "# Over-nested code example\n",
    "numbers = [1, 2, 3, 4, 5]\n",
    "for number in numbers:\n",
    "    if number % 2 == 0:\n",
    "        if number > 3:\n",
    "            print(\"Even and greater than 3:\", number)\n",
    "        else:\n",
    "            print(\"Even and not greater than 3:\", number)\n",
    "    else:\n",
    "        if number > 3:\n",
    "            print(\"Odd and greater than 3:\", number)\n",
    "        else:\n",
    "            print(\"Odd and not greater than 3:\", number)\n",
    "\n"
   ]
  },
  {
   "cell_type": "code",
   "execution_count": 16,
   "metadata": {},
   "outputs": [
    {
     "name": "stdout",
     "output_type": "stream",
     "text": [
      "Odd and not greater than 3: 1\n",
      "Even and not greater than 3: 2\n",
      "Odd and not greater than 3: 3\n",
      "Even and greater than 3: 4\n",
      "Odd and greater than 3: 5\n"
     ]
    }
   ],
   "source": [
    "# Simplified version using fewer nesting levels\n",
    "for number in numbers:\n",
    "    if number % 2 == 0 and number > 3:\n",
    "        print(\"Even and greater than 3:\", number)\n",
    "    elif number % 2 == 0:\n",
    "        print(\"Even and not greater than 3:\", number)\n",
    "    elif number > 3:\n",
    "        print(\"Odd and greater than 3:\", number)\n",
    "    else:\n",
    "        print(\"Odd and not greater than 3:\", number)\n"
   ]
  },
  {
   "cell_type": "markdown",
   "metadata": {},
   "source": [
    "---\n",
    "#### Common Use Cases of Loops in Data Science\n",
    "1. Data Cleaning: Looping through rows of a dataset and fixing messy data.\n",
    "2. Data Preprocessing: Transforming or normalizing data values.\n",
    "3. Feature Engineering: Creating new features for your ML models by iterating through columns or rows.\n",
    "\n",
    "You’ll find that loops are everywhere in Data Science workflows. You’ll even use them inside your machine learning models when tuning hyperparameters (don’t worry if that sounds scary—we’ll get there)\n",
    "\n",
    "---------"
   ]
  },
  {
   "cell_type": "markdown",
   "metadata": {},
   "source": [
    "#### Quick Exercises: \n",
    "1.  Write a small program that uses conditionals to check if a user’s input age is old enough to vote (voting age = 18 years).\n",
    "2.  Loop through a list of random numbers and print only the even ones.\n",
    "3.  Create a while loop that prints numbers from 1 to 10, make sure you do not enter an infinte loop.\n",
    "4.  Loop through this list of strings and print only the strings longer than 5 characters: \n",
    "     words = [\"Python\", \"AI\", \"Machine\", \"Science\", \"Wow\"]\n",
    "\n",
    "\n",
    "**Please Note:** The solutions to above questions will be present at the end of next sessions's (Day 4 - Lists & Tuples) Notebook.\n",
    "\n",
    "\n",
    "----"
   ]
  },
  {
   "cell_type": "markdown",
   "metadata": {},
   "source": [
    "### Day 2 Exercise Solution"
   ]
  },
  {
   "cell_type": "markdown",
   "metadata": {},
   "source": [
    "1. Create variables to store:\n",
    "    - Your favorite number, movie, or dessert.\n",
    "    - Whether the number of days in the month January is greater than 30 (hint: use a Boolean)."
   ]
  },
  {
   "cell_type": "code",
   "execution_count": 17,
   "metadata": {},
   "outputs": [
    {
     "name": "stdout",
     "output_type": "stream",
     "text": [
      "7\n",
      "Inception\n",
      "True\n"
     ]
    }
   ],
   "source": [
    "# Create variables for your favorite number, movie, and a Boolean to indicate if a month is long\n",
    "favorite_number = 7 # Thala for a reason\n",
    "favorite_movie = \"Inception\"\n",
    "is_long_month = 31 > 30\n",
    "\n",
    "print(favorite_number)\n",
    "print(favorite_movie)\n",
    "print(is_long_month)\n"
   ]
  },
  {
   "cell_type": "markdown",
   "metadata": {},
   "source": [
    "2. Write a program to calculate:\n",
    "    - The area of a rectangle (length = 5, width = 10).\n",
    "    - Add two strings together to make a complete sentence, like: “Python is fun!”"
   ]
  },
  {
   "cell_type": "code",
   "execution_count": 18,
   "metadata": {},
   "outputs": [
    {
     "name": "stdout",
     "output_type": "stream",
     "text": [
      "The area of the rectangle is: 50\n"
     ]
    }
   ],
   "source": [
    "# Write a program to calculate: The area of a rectangle (length = 5, width = 10).\n",
    "length = 5\n",
    "width = 10\n",
    "area = length * width\n",
    "print(\"The area of the rectangle is:\", area)"
   ]
  },
  {
   "cell_type": "code",
   "execution_count": 19,
   "metadata": {},
   "outputs": [
    {
     "name": "stdout",
     "output_type": "stream",
     "text": [
      "Python is fun!\n"
     ]
    }
   ],
   "source": [
    "# Write a program to calculate: Add two strings together to make a complete sentence, like: “Python is fun!”\n",
    "first_part = \"Python is\"\n",
    "second_part = \"fun!\"\n",
    "sentence = first_part + \" \" + second_part\n",
    "print(sentence)\n"
   ]
  },
  {
   "cell_type": "markdown",
   "metadata": {},
   "source": [
    "3. Mess around with type() by using it to confirm the type of a variable."
   ]
  },
  {
   "cell_type": "code",
   "execution_count": 20,
   "metadata": {},
   "outputs": [
    {
     "name": "stdout",
     "output_type": "stream",
     "text": [
      "<class 'int'>\n",
      "<class 'str'>\n",
      "<class 'bool'>\n",
      "<class 'int'>\n",
      "<class 'str'>\n"
     ]
    }
   ],
   "source": [
    "print(type(favorite_number))  # <class 'int'>\n",
    "print(type(favorite_movie))  # <class 'str'>\n",
    "print(type(is_long_month))  # <class 'bool'>\n",
    "print(type(area))  # <class 'int'>\n",
    "print(type(sentence))  # <class 'str'>\n"
   ]
  },
  {
   "cell_type": "markdown",
   "metadata": {},
   "source": [
    "4. Have some fun with string slicing: print out only the first half of your favorite word."
   ]
  },
  {
   "cell_type": "code",
   "execution_count": 21,
   "metadata": {},
   "outputs": [
    {
     "name": "stdout",
     "output_type": "stream",
     "text": [
      "Pyt\n"
     ]
    }
   ],
   "source": [
    "# Have some fun with string slicing: print out only the first half of your favorite word.\n",
    "favorite_word = \"Pythons\"\n",
    "half_length = len(favorite_word) // 2\n",
    "first_half = favorite_word[:half_length]\n",
    "print(first_half) "
   ]
  },
  {
   "cell_type": "markdown",
   "metadata": {},
   "source": [
    "# HAPPY LEARNING"
   ]
  }
 ],
 "metadata": {
  "kernelspec": {
   "display_name": "Python 3",
   "language": "python",
   "name": "python3"
  },
  "language_info": {
   "codemirror_mode": {
    "name": "ipython",
    "version": 3
   },
   "file_extension": ".py",
   "mimetype": "text/x-python",
   "name": "python",
   "nbconvert_exporter": "python",
   "pygments_lexer": "ipython3",
   "version": "3.12.2"
  }
 },
 "nbformat": 4,
 "nbformat_minor": 2
}
