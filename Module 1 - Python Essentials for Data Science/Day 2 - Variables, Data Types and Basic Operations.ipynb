{
 "cells": [
  {
   "cell_type": "markdown",
   "metadata": {},
   "source": [
    "![alt text](<../images/just enough.png>)"
   ]
  },
  {
   "cell_type": "markdown",
   "metadata": {},
   "source": [
    "# Just Enough Python for AI/Data Science\n",
    "## Module 1: Python Essentials for Data Science\n",
    "> In this module you’ll set up Python, learn to handle data with variables and types, and get comfy with loops and conditionals—so you can actually do stuff with datasets instead of just staring at them!\n",
    "### Day 2 - Data at Your Fingertips: Variables, Data Types and Basic Operations\n",
    "___\n"
   ]
  },
  {
   "cell_type": "markdown",
   "metadata": {},
   "source": [
    "##### Overview:\n",
    "- Learn the building blocks: numbers, strings, booleans, variables, and the fundamental “arithmetic and comparison” tools. \n",
    "- By the end, you’ll be comfortable writing small Python scripts that do math, manipulate text, and store data in meaningful ways."
   ]
  },
  {
   "cell_type": "markdown",
   "metadata": {},
   "source": [
    "#### 1: What Are Variables?\n",
    "##### A variable in Python is like a label you stick on a piece of data so you don’t forget it later. In plain language:\n",
    "\n",
    "- **Variables let you store data.** \n",
    "- **You can name them anything you want.**\n",
    "    - Well, almost anything... `42thisiswrong` isn’t valid, but `age_of_universe` works.\n",
    "\n",
    "**How to Create a Variable**\n",
    "- Here’s how easy it is to create a variable in Python:"
   ]
  },
  {
   "cell_type": "code",
   "execution_count": 2,
   "metadata": {},
   "outputs": [],
   "source": [
    "x = 42  # Variable x stores the number 42\n",
    "language = \"Python\"  # Variable language stores the string \"Python\"\n",
    "pi = 3.14159  # Variable pi stores the value of pi\n"
   ]
  },
  {
   "cell_type": "markdown",
   "metadata": {},
   "source": [
    "*Dynamic Typing:\n",
    "Python is a dynamically typed language, which means you don't need to declare the type of a variable before assigning a value to it. This makes Python flexible and easy to use.*"
   ]
  },
  {
   "cell_type": "markdown",
   "metadata": {},
   "source": [
    "#### 2: Rules for Naming Variables\n",
    "\n",
    "Python variable rules are pretty chill, but there are a few laws you need to follow:\n",
    "\n",
    "1. Variable names **cannot start with a number**. \n",
    "    - `age = 25` ✅\n",
    "    - `2fast2furious = \"nope\"`❌\n",
    "\n",
    "2. No spaces allowed in names. Use _ for separation instead.\n",
    "    - `first_name = \"John\"` ✅\n",
    "    - `last name = \"Doe\"` ❌\n",
    "\n",
    "3. Don’t use weird special characters (!, @, etc.) in names. Stick to letters, numbers, and underscores.\n",
    "\n",
    "4. Python is case-sensitive. `Name` isn’t the same as `name`."
   ]
  },
  {
   "cell_type": "markdown",
   "metadata": {},
   "source": [
    "#### 3: Understanding Data Types\n",
    ">Now that Python can hold onto things for us with variables, let's talk about **data types**. Every piece of data stored in Python has a “type” that defines what kind of data it is.\n",
    "\n",
    "Here are some basic data types in Python:\n",
    "\n",
    "1. **Integers (int):** \n",
    "    - Whole numbers, like 42, -7, or 100.\n",
    "2. **Floating-point numbers (float):** \n",
    "    - Decimals, like 3.14, -0.5, or 2.71828.\n",
    "3. **Strings (str):** \n",
    "    - Represent text data.\n",
    "    - Greeting your program with \"Hello, Python\" or even \"Just Enough Python!\" is a string in action.\n",
    "    - Strings are always wrapped in quotes.\n",
    "    - You can slice them up, concatenate them, and do all sorts of text wizardry.\n",
    "4. **Booleans (bool):** \n",
    "    - `True` or `False` (capitalized in Python).\n",
    "    - Handy for checking conditions or when making decisions in your code.\n",
    "    - Example: `is_sunny = True`"
   ]
  },
  {
   "cell_type": "code",
   "execution_count": 3,
   "metadata": {},
   "outputs": [],
   "source": [
    "age = 30         # Integer\n",
    "price = 19.99    # Float\n",
    "name = \"Python\"  # String\n",
    "is_exciting = True  # Boolean"
   ]
  },
  {
   "cell_type": "markdown",
   "metadata": {},
   "source": [
    "#### 4: Using type() to Check Data Types\n",
    "- Feeling curious about the type of data you’re working with? Python’s `type()` function has your back:\n"
   ]
  },
  {
   "cell_type": "code",
   "execution_count": 14,
   "metadata": {},
   "outputs": [
    {
     "name": "stdout",
     "output_type": "stream",
     "text": [
      "<class 'int'>\n",
      "<class 'float'>\n",
      "<class 'str'>\n",
      "<class 'bool'>\n"
     ]
    }
   ],
   "source": [
    "print(type(age))  # Outputs: <class 'int'>\n",
    "\n",
    "print(type(price))  # Outputs: <class 'float'>\n",
    "\n",
    "print(type(name))  # Outputs: <class 'str'>\n",
    "\n",
    "print(type(is_exciting))  # Outputs: <class 'bool'>\n"
   ]
  },
  {
   "cell_type": "markdown",
   "metadata": {},
   "source": [
    "*This is especially useful when you’re working with variables loaded from external datasets—you’ll often need to confirm how Python is interpreting your data.*"
   ]
  },
  {
   "cell_type": "markdown",
   "metadata": {},
   "source": [
    "#### 5: Playing with Variables\n",
    "- Let’s take your variables out for a spin and play with them! In Python, you can:"
   ]
  },
  {
   "cell_type": "markdown",
   "metadata": {},
   "source": [
    "1. Do Math with Numbers\n",
    "    - Basic Operations:\n",
    "        - Arithmetic: +, -, *, /, % (modulus), ** (exponent)\n",
    "        - Comparison: ==, !=, >, <, >=, <=\n",
    "        - Assignment: =, +=, -=, etc.\n",
    "    - Example snippet:"
   ]
  },
  {
   "cell_type": "code",
   "execution_count": 16,
   "metadata": {},
   "outputs": [
    {
     "name": "stdout",
     "output_type": "stream",
     "text": [
      "13\n",
      "7\n",
      "30\n",
      "3.3333333333333335\n",
      "1000\n",
      "False\n",
      "True\n",
      "14\n",
      "11\n"
     ]
    }
   ],
   "source": [
    "a = 10\n",
    "b = 3\n",
    "\n",
    "# Arithmetic\n",
    "print(a + b)   # 13\n",
    "print(a - b)   # 7\n",
    "print(a * b)   # 30\n",
    "print(a / b)   # 3.3333...\n",
    "print(a ** b)  # 1000 (i.e., 10^3)\n",
    "\n",
    "\n",
    "# Comparison\n",
    "print(a == b)  # False\n",
    "print(a > b)   # True\n",
    "\n",
    "# Assignment\n",
    "c = 4\n",
    "c = a + b  # c is now 13\n",
    "a = a +2  # a is now 12\n",
    "\n",
    "# Python even has shortcuts for updating variables:\n",
    "a += 2  # Now a is 14 (i.e., a = a + 2)\n",
    "print(a)\n",
    "\n",
    "a -= 3  # Now a is 11 (i.e., a = a - 3)\n",
    "print(a)"
   ]
  },
  {
   "cell_type": "markdown",
   "metadata": {},
   "source": [
    "2. String Manipulation:\n",
    "- Slicing:\n",
    "    - Slicing parts of a longer string to create new strings"
   ]
  },
  {
   "cell_type": "code",
   "execution_count": 17,
   "metadata": {},
   "outputs": [
    {
     "name": "stdout",
     "output_type": "stream",
     "text": [
      "Python\n",
      "Rocks\n"
     ]
    }
   ],
   "source": [
    "text = \"PythonRocks\"\n",
    "\n",
    "print(text[0:6])       # 'Python'\n",
    "print(text[-5:])       # 'Rocks'\n"
   ]
  },
  {
   "cell_type": "markdown",
   "metadata": {},
   "source": [
    "- *Note:*\n",
    "    - Index start from 0, not 1.\n",
    "    - Start is included, end is excluded.\n"
   ]
  },
  {
   "cell_type": "markdown",
   "metadata": {},
   "source": [
    "- Concatenation:\n",
    "    - You can combine strings using the + operator"
   ]
  },
  {
   "cell_type": "code",
   "execution_count": 18,
   "metadata": {},
   "outputs": [
    {
     "name": "stdout",
     "output_type": "stream",
     "text": [
      "Just Enough Python\n"
     ]
    }
   ],
   "source": [
    "first = \"Just Enough\"\n",
    "second = \"Python\"\n",
    "combined = first + \" \" + second\n",
    "print(combined)  # 'Just Enough Python'"
   ]
  },
  {
   "cell_type": "markdown",
   "metadata": {},
   "source": [
    "- Fornatting(F-strings):"
   ]
  },
  {
   "cell_type": "code",
   "execution_count": 19,
   "metadata": {},
   "outputs": [
    {
     "name": "stdout",
     "output_type": "stream",
     "text": [
      "Hello, Babu Rao! Welcome to the year 2025.\n"
     ]
    }
   ],
   "source": [
    "name = \"Babu Rao\"\n",
    "year = 2025\n",
    "print(f\"Hello, {name}! Welcome to the year {year}.\")"
   ]
  },
  {
   "cell_type": "markdown",
   "metadata": {},
   "source": [
    "- String Multiplication"
   ]
  },
  {
   "cell_type": "code",
   "execution_count": 23,
   "metadata": {},
   "outputs": [
    {
     "name": "stdout",
     "output_type": "stream",
     "text": [
      "Ha Ha Ha Ha Ha \n"
     ]
    }
   ],
   "source": [
    "laugh = \"Ha \"\n",
    "print(laugh * 5)  # Outputs: Ha Ha Ha\n"
   ]
  },
  {
   "cell_type": "markdown",
   "metadata": {},
   "source": [
    "#### 6: Use Booleans for Decisions\n",
    "- Booleans help you evaluate conditions, like:"
   ]
  },
  {
   "cell_type": "code",
   "execution_count": 24,
   "metadata": {},
   "outputs": [
    {
     "name": "stdout",
     "output_type": "stream",
     "text": [
      "True\n",
      "False\n"
     ]
    }
   ],
   "source": [
    "is_greater = 10 > 5\n",
    "print(is_greater)  # Outputs: True  \n",
    "\n",
    "is_equal = 5 == 10\n",
    "print(is_equal)  # Outputs: False\n"
   ]
  },
  {
   "cell_type": "markdown",
   "metadata": {},
   "source": [
    "----\n",
    "#### Quick Exercises: \n",
    "1. Create variables to store:\n",
    "    - Your favorite number, movie, or dessert.\n",
    "    - Whether the number of days in the month January is greater than 30 (hint: use a Boolean).\n",
    "2. Write a program to calculate:\n",
    "    - The area of a rectangle (length = 5, width = 10).\n",
    "    - Add two strings together to make a complete sentence, like: “Python is fun!”\n",
    "3. Mess around with type() by using it to confirm the type of a variable.\n",
    "4. Have some fun with string slicing: print out only the first half of your favorite word.\n",
    "\n",
    "**Please Note:** The solutions to above questions will be present at the end of next session's (Day 3 - Control Flow (Conditionals & Loops)) Notebook."
   ]
  },
  {
   "cell_type": "markdown",
   "metadata": {},
   "source": [
    "# HAPPY LEARNING"
   ]
  }
 ],
 "metadata": {
  "kernelspec": {
   "display_name": "Python 3",
   "language": "python",
   "name": "python3"
  },
  "language_info": {
   "codemirror_mode": {
    "name": "ipython",
    "version": 3
   },
   "file_extension": ".py",
   "mimetype": "text/x-python",
   "name": "python",
   "nbconvert_exporter": "python",
   "pygments_lexer": "ipython3",
   "version": "3.12.2"
  }
 },
 "nbformat": 4,
 "nbformat_minor": 2
}
