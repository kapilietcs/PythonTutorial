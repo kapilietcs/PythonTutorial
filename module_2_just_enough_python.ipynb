{
 "cells": [
  {
   "cell_type": "markdown",
   "metadata": {},
   "source": [
    "# Just Enough Python for AI/Data Science\n",
    "#### Module 2: <b> Python Basics (Data Types, Variables & Operations) </b>\n",
    "___\n",
    "> This module covers fundamental data types, working with variables, and performing basic operations—just enough to build a solid foundation for Data Science/AI tasks without taking you on a detour through advanced Python wizardry yet."
   ]
  },
  {
   "cell_type": "markdown",
   "metadata": {},
   "source": [
    "##### Overview:\n",
    "- This module is all about learning the building blocks: numbers, strings, booleans, variables, and the fundamental “arithmetic and comparison” tools. \n",
    "- By the end, you’ll be comfortable writing small Python scripts that do math, manipulate text, and store data in meaningful ways."
   ]
  },
  {
   "cell_type": "markdown",
   "metadata": {},
   "source": [
    "**Step 1: What Are Variables?**\n",
    "##### A variable in Python is like a label you stick on a piece of data so you don’t forget it later. In plain language:\n",
    "\n",
    "- **Variables let you store data** (e.g., the number of rows in your dataset or the name of a file you’re analyzing).\n",
    "- **You can name them anything you want.**\n",
    "    - Well, almost anything... 42thisiswrong isn’t valid, but age_of_universe works.\n",
    "____\n",
    "**How to Create a Variable**\n",
    "- Here’s how easy it is to create a variable in Python:"
   ]
  },
  {
   "cell_type": "code",
   "execution_count": 1,
   "metadata": {},
   "outputs": [],
   "source": [
    "x = 42  # Variable x stores the number 42\n",
    "language = \"Python\"  # Variable language stores the string \"Python\"\n",
    "pi = 3.14159  # Variable pi stores the value of pi\n"
   ]
  },
  {
   "cell_type": "markdown",
   "metadata": {},
   "source": [
    "** Step 2: Rules for Naming Variables**\n",
    "Python variable rules are pretty chill, but there are a few laws you need to follow:\n",
    "\n",
    "1. Variable names **cannot start with a number**. ✅ age = 25\n",
    "    - ❌ 2fast2furious = \"nope\"\n",
    "\n",
    "2. No spaces allowed in names. Use _ for separation instead.\n",
    "    - ✅ first_name = \"John\"\n",
    "    - ❌ last name = \"Doe\"\n",
    "\n",
    "3. Don’t use weird special characters (!, @, etc.) in names. Stick to letters, numbers, and underscores.\n",
    "\n",
    "4. Python is case-sensitive. Name isn’t the same as name."
   ]
  },
  {
   "cell_type": "markdown",
   "metadata": {},
   "source": [
    "**Step 3: Understanding Data Types**\n",
    ">Now that Python can hold onto things for us with variables, let's talk about **data types**. Every piece of data stored in Python has a “type” that defines what kind of thing it is—just like your favorite chocolate bar is categorized as “snack food” (or “fuel for coding,” depending on your diet).\n",
    "\n",
    "Here are some basic data types in Python:\n",
    "\n",
    "1. **Integers (int):** \n",
    "    - Whole numbers, like 42, -7, or 100.\n",
    "2. **Floating-point numbers (float):** \n",
    "    - Decimals, like 3.14, -0.5, or 2.71828.\n",
    "3. **Strings (str):** \n",
    "    - Represent text data.\n",
    "    - Greeting your program with \"Hello, Python\" or even \"Just Enough Python!\" is a string in action.\n",
    "    - Strings are always wrapped in quotes.\n",
    "    - You can slice them up, concatenate them, and do all sorts of text wizardry.\n",
    "4. **Booleans (bool):** \n",
    "    - True or False (capitalized in Python).\n",
    "    - Handy for checking conditions or when making decisions in your code.\n",
    "    - Example: is_sunny = True"
   ]
  },
  {
   "cell_type": "code",
   "execution_count": 2,
   "metadata": {},
   "outputs": [],
   "source": [
    "age = 30         # Integer\n",
    "price = 19.99    # Float\n",
    "name = \"Python\"  # String\n",
    "is_exciting = True  # Boolean"
   ]
  },
  {
   "cell_type": "markdown",
   "metadata": {},
   "source": [
    "**Step 4: Using type() to Check Data Types**\n",
    "- Feeling curious about the type of data you’re working with? Python’s type() function has your back:\n"
   ]
  },
  {
   "cell_type": "code",
   "execution_count": 5,
   "metadata": {},
   "outputs": [
    {
     "name": "stdout",
     "output_type": "stream",
     "text": [
      "<class 'int'>\n",
      "<class 'float'>\n",
      "<class 'str'>\n",
      "<class 'bool'>\n"
     ]
    }
   ],
   "source": [
    "print(type(age))  # Outputs: <class 'int'>\n",
    "\n",
    "print(type(price))  # Outputs: <class 'float'>\n",
    "\n",
    "print(type(name))  # Outputs: <class 'str'>\n",
    "\n",
    "print(type(is_exciting))  # Outputs: <class 'bool'>"
   ]
  },
  {
   "cell_type": "markdown",
   "metadata": {},
   "source": [
    "*This is especially useful when you’re working with variables loaded from external datasets—you’ll often need to confirm how Python is interpreting your data.*"
   ]
  },
  {
   "cell_type": "markdown",
   "metadata": {},
   "source": [
    "**Step 5: Playing with Variables**\n",
    "- Let’s take your variables out for a spin and play with them! In Python, you can:"
   ]
  },
  {
   "cell_type": "markdown",
   "metadata": {},
   "source": [
    "1. Do Math with Numbers\n",
    "    - Basic Operations:\n",
    "    - Arithmetic: +, -, *, /, % (modulus), ** (exponent)\n",
    "    - Comparison: ==, !=, >, <, >=, <=\n",
    "    - Assignment: =, +=, -=, etc.\n",
    "    - Example snippet:"
   ]
  },
  {
   "cell_type": "code",
   "execution_count": 10,
   "metadata": {},
   "outputs": [
    {
     "name": "stdout",
     "output_type": "stream",
     "text": [
      "13\n",
      "7\n",
      "30\n",
      "3.3333333333333335\n",
      "1000\n",
      "False\n",
      "True\n",
      "12\n",
      "9\n"
     ]
    }
   ],
   "source": [
    "a = 10\n",
    "b = 3\n",
    "\n",
    "# Arithmetic\n",
    "print(a + b)   # 13\n",
    "print(a - b)   # 7\n",
    "print(a * b)  # Outputs: 30\n",
    "print(a / b)   # 3.3333...\n",
    "print(a ** b)  # 1000 (i.e., 10^3)\n",
    "\n",
    "\n",
    "# Comparison\n",
    "print(a == b)  # False\n",
    "print(a > b)   # True\n",
    "\n",
    "# Python even has shortcuts for updating variables:\n",
    "a += 2  # Now a is 12 (i.e., a = a + 2)\n",
    "print(a)\n",
    "\n",
    "a -= 3  # Now a is 9 (i.e., a = a - 3)\n",
    "print(a)"
   ]
  },
  {
   "cell_type": "markdown",
   "metadata": {},
   "source": [
    "2. String Manipulation:\n",
    "- Slicing:"
   ]
  },
  {
   "cell_type": "code",
   "execution_count": 8,
   "metadata": {},
   "outputs": [
    {
     "name": "stdout",
     "output_type": "stream",
     "text": [
      "Python\n",
      "Rocks\n"
     ]
    }
   ],
   "source": [
    "text = \"PythonRocks\"\n",
    "\n",
    "print(text[0:6])       # 'Python'\n",
    "print(text[-5:])       # 'Rocks'\n"
   ]
  },
  {
   "cell_type": "markdown",
   "metadata": {},
   "source": [
    "- Concatenation:|"
   ]
  },
  {
   "cell_type": "code",
   "execution_count": null,
   "metadata": {},
   "outputs": [],
   "source": [
    "first = \"Just Enough\"\n",
    "second = \"Python\"\n",
    "combined = first + \" \" + second\n",
    "print(combined)  # 'Just Enough Python'"
   ]
  },
  {
   "cell_type": "markdown",
   "metadata": {},
   "source": [
    "- Fornatting(F-strings):"
   ]
  },
  {
   "cell_type": "code",
   "execution_count": null,
   "metadata": {},
   "outputs": [],
   "source": [
    "name = \"Data Enthusiast\"\n",
    "year = 2025\n",
    "print(f\"Hello, {name}! Welcome to the year {year}.\")"
   ]
  },
  {
   "cell_type": "markdown",
   "metadata": {},
   "source": [
    "- String Multiplication"
   ]
  },
  {
   "cell_type": "code",
   "execution_count": 9,
   "metadata": {},
   "outputs": [
    {
     "name": "stdout",
     "output_type": "stream",
     "text": [
      "HaHaHa\n"
     ]
    }
   ],
   "source": [
    "laugh = \"Ha\"\n",
    "print(laugh * 3)  # Outputs: HaHaHa\n"
   ]
  },
  {
   "cell_type": "markdown",
   "metadata": {},
   "source": [
    "#### Quick Exercises: \n",
    "1. Create variables to store:\n",
    "    - Your favorite number, movie, or dessert.\n",
    "    - Whether the number of days in a month is greater than 30 (hint: use a Boolean).\n",
    "2. Write a program to calculate:\n",
    "    - The area of a rectangle (length = 5, width = 10).\n",
    "    - Add two strings together to make a complete sentence, like: “Python is fun!”\n",
    "3. Mess around with type() by using it to confirm the type of a variable.\n",
    "4. Have some fun with string slicing: print out only the first half of your favorite word.\n",
    "\n",
    "**Please Note:** The solutions to above questions will be present at the end of next module's (Module 3: Control Flow (Conditionals & Loops)) Notebook."
   ]
  }
 ],
 "metadata": {
  "kernelspec": {
   "display_name": "Python 3",
   "language": "python",
   "name": "python3"
  },
  "language_info": {
   "codemirror_mode": {
    "name": "ipython",
    "version": 3
   },
   "file_extension": ".py",
   "mimetype": "text/x-python",
   "name": "python",
   "nbconvert_exporter": "python",
   "pygments_lexer": "ipython3",
   "version": "3.12.2"
  }
 },
 "nbformat": 4,
 "nbformat_minor": 2
}
