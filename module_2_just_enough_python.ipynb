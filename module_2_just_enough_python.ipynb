{
 "cells": [
  {
   "cell_type": "markdown",
   "metadata": {},
   "source": [
    "# Just Enough Python for AI/Data Science\n",
    "#### Module 2"
   ]
  },
  {
   "cell_type": "markdown",
   "metadata": {},
   "source": [
    "<b> Python Basics (Data Types, Variables & Operations) </b>\n",
    "___\n",
    "> This module covers fundamental data types, working with variables, and performing basic operations—just enough to build a solid foundation for Data Science/AI tasks without taking you on a detour through advanced Python wizardry yet."
   ]
  },
  {
   "cell_type": "markdown",
   "metadata": {},
   "source": [
    "##### Overview:\n",
    "- This module is all about learning the building blocks: numbers, strings, booleans, variables, and the fundamental “arithmetic and comparison” tools. \n",
    "- By the end, you’ll be comfortable writing small Python scripts that do math, manipulate text, and store data in meaningful ways."
   ]
  },
  {
   "cell_type": "markdown",
   "metadata": {},
   "source": [
    "**1. Data Types:**\n",
    "- Integers (int) and Floats (float):\n",
    "    - int: “Whole number” stuff like 42, -5, 2025.\n",
    "    - float: Numbers with decimal points, like 3.14 or 0.0004.\n",
    "- Strings (str):\n",
    "    - Represent text data.\n",
    "    - Greeting your program with \"Hello, Python\" or even \"Just Enough Python!\" is a string in action.\n",
    "    - You can slice them up, concatenate them, and do all sorts of text wizardry.\n",
    "- Booleans (bool):\n",
    "    - True or False (capitalized in Python).\n",
    "    - Handy for checking conditions (e.g., is the weather “Sunny?” -> True or False?).\n",
    "\n",
    "**2. Variables & Naming Conventions:**\n",
    "- Variables let you store data by giving it a name (making it easy to reuse).\n",
    "- Simple rules:\n",
    "    - Use descriptive names (e.g., total_cost rather than x13).\n",
    "    - Names can’t start with numbers or contain spaces or special characters (besides the underscore).\n",
    "    - Example:\n"
   ]
  },
  {
   "cell_type": "code",
   "execution_count": 1,
   "metadata": {},
   "outputs": [],
   "source": [
    "my_age = 25     # integer\n",
    "pi_approx = 3.14159     # float\n",
    "greeting = \"Hello, Data Enthusiasts!\"   # string\n",
    "is_sunny = True    # boolean\n"
   ]
  },
  {
   "cell_type": "code",
   "execution_count": null,
   "metadata": {},
   "outputs": [],
   "source": [
    "print(type(is_sunny))"
   ]
  },
  {
   "cell_type": "markdown",
   "metadata": {},
   "source": [
    "**3. Basic Operations:**\n",
    "- Arithmetic: +, -, *, /, % (modulus), ** (exponent)\n",
    "- Comparison: ==, !=, >, <, >=, <=\n",
    "- Assignment: =, +=, -=, etc.\n",
    "- Example snippet:\n",
    "\n"
   ]
  },
  {
   "cell_type": "code",
   "execution_count": null,
   "metadata": {},
   "outputs": [],
   "source": [
    "a = 10\n",
    "b = 3\n",
    "\n",
    "# Arithmetic\n",
    "print(a + b)   # 13\n",
    "print(a - b)   # 7\n",
    "print(a / b)   # 3.3333...\n",
    "print(a ** b)  # 1000 (i.e., 10^3)\n",
    "\n",
    "# Comparison\n",
    "print(a == b)  # False\n",
    "print(a > b)   # True\n",
    "\n",
    "# Update in place\n",
    "a += 2  # Now a is 12 (i.e., a = a + 2)\n",
    "print(a)\n",
    "\n",
    "a -= 3  # Now a is 9 (i.e., a = a - 3)\n",
    "print(a)"
   ]
  },
  {
   "cell_type": "markdown",
   "metadata": {},
   "source": [
    "**4. String Manipulation:**\n",
    "- Slicing:"
   ]
  },
  {
   "cell_type": "code",
   "execution_count": null,
   "metadata": {},
   "outputs": [],
   "source": [
    "text = \"PythonRocks\"\n",
    "\n",
    "print(text[0:6])       # 'Python'\n",
    "print(text[-5:])       # 'Rocks'\n"
   ]
  },
  {
   "cell_type": "markdown",
   "metadata": {},
   "source": [
    "- Concatenation:|"
   ]
  },
  {
   "cell_type": "code",
   "execution_count": null,
   "metadata": {},
   "outputs": [],
   "source": [
    "first = \"Just Enough\"\n",
    "second = \"Python\"\n",
    "combined = first + \" \" + second\n",
    "print(combined)  # 'Just Enough Python'"
   ]
  },
  {
   "cell_type": "markdown",
   "metadata": {},
   "source": [
    "- Fornatting(F-strings):"
   ]
  },
  {
   "cell_type": "code",
   "execution_count": null,
   "metadata": {},
   "outputs": [],
   "source": [
    "name = \"Data Enthusiast\"\n",
    "year = 2025\n",
    "print(f\"Hello, {name}! Welcome to the year {year}.\")"
   ]
  },
  {
   "cell_type": "markdown",
   "metadata": {},
   "source": [
    "#### Quick Exercises: \n",
    "- Create a “mini calculator” that accepts two numbers and prints out their sum, difference, product, and quotient.\n",
    "- Write a script that takes your name, age, and prints a quick greeting—something witty like “Hello Rahul, at age 30 you’re still younger than the oldest cat on record.”\n",
    "- Have some fun with string slicing: print out only the first half of your favorite word.\n",
    "\n",
    "**Please Note:** The solutions to above questions will be present at the end of next module's (Module 3: Control Flow (Conditionals & Loops)) Notebook."
   ]
  },
  {
   "cell_type": "markdown",
   "metadata": {},
   "source": []
  }
 ],
 "metadata": {
  "kernelspec": {
   "display_name": "Python 3",
   "language": "python",
   "name": "python3"
  },
  "language_info": {
   "codemirror_mode": {
    "name": "ipython",
    "version": 3
   },
   "file_extension": ".py",
   "mimetype": "text/x-python",
   "name": "python",
   "nbconvert_exporter": "python",
   "pygments_lexer": "ipython3",
   "version": "3.12.2"
  }
 },
 "nbformat": 4,
 "nbformat_minor": 2
}
