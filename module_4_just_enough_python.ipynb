{
 "cells": [
  {
   "cell_type": "markdown",
   "metadata": {},
   "source": [
    "# Just Enough Python for AI/Data Science\n",
    "#### Module 4"
   ]
  },
  {
   "cell_type": "markdown",
   "metadata": {},
   "source": [
    "**Data Structures (Lists, Tuples, Dictionaries & Sets)**\n",
    "___\n",
    ">This module is all about the data structures that underpin day-to-day Python coding for data science. Mastering these will help you handle information in organized ways, which comes in handy once you start crunching numbers, analyzing data, or training basic ML models."
   ]
  },
  {
   "cell_type": "markdown",
   "metadata": {},
   "source": [
    "##### Overview:\n",
    "- Python’s built-in data structures are the flexible containers you’ll rely on to store and manipulate data.\n",
    "- Each has its own quirks: **lists** can grow or shrink at will, **tuples** are unchangeable, **dictionaries** revolve around key-value pairs, and **sets** are about uniqueness.\n",
    "- Learning how and when to use them will give you a big head start in data manipulation."
   ]
  },
  {
   "cell_type": "markdown",
   "metadata": {},
   "source": [
    "**1. Lists: The Everyday Swiss Army Knife**\n",
    "- Lists are mutable (changeable) sequences that can hold multiple items, including other lists.\n",
    "- Common operations:\n",
    "    - Access elements via indexing (e.g., my_list[0])\n",
    "    - Add items with append() or extend()\n",
    "    - Remove items with remove() or pop()\n",
    "- Example:"
   ]
  },
  {
   "cell_type": "code",
   "execution_count": 3,
   "metadata": {},
   "outputs": [
    {
     "name": "stdout",
     "output_type": "stream",
     "text": [
      "banana\n"
     ]
    }
   ],
   "source": [
    "fruits = [\"apple\", \"banana\", \"chikoo\", \"cherry\"]\n",
    "print(fruits[1])\n"
   ]
  },
  {
   "cell_type": "code",
   "execution_count": 4,
   "metadata": {},
   "outputs": [
    {
     "name": "stdout",
     "output_type": "stream",
     "text": [
      "['apple', 'banana', 'chikoo', 'cherry', 'dragonfruit']\n"
     ]
    }
   ],
   "source": [
    "fruits.append(\"dragonfruit\")\n",
    "print(fruits)  "
   ]
  },
  {
   "cell_type": "code",
   "execution_count": 5,
   "metadata": {},
   "outputs": [
    {
     "name": "stdout",
     "output_type": "stream",
     "text": [
      "['apple', 'banana', 'dates', 'chikoo', 'cherry', 'dragonfruit']\n"
     ]
    }
   ],
   "source": [
    "fruits.insert(2, \"dates\")\n",
    "print(fruits)"
   ]
  },
  {
   "cell_type": "code",
   "execution_count": 6,
   "metadata": {},
   "outputs": [
    {
     "name": "stdout",
     "output_type": "stream",
     "text": [
      "['apple', 'banana', 'dates', 'cherry', 'dragonfruit']\n"
     ]
    }
   ],
   "source": [
    "fruits.remove(\"chikoo\")\n",
    "print(fruits)"
   ]
  },
  {
   "cell_type": "code",
   "execution_count": 7,
   "metadata": {},
   "outputs": [
    {
     "name": "stdout",
     "output_type": "stream",
     "text": [
      "['apple', 'banana', 'cherry', 'dragonfruit']\n"
     ]
    }
   ],
   "source": [
    "fruits.pop(2)\n",
    "print(fruits)"
   ]
  },
  {
   "cell_type": "code",
   "execution_count": 8,
   "metadata": {},
   "outputs": [
    {
     "name": "stdout",
     "output_type": "stream",
     "text": [
      "['apple', 'banana', 'cherry', 'dragonfruit', 'grapes', 'guava']\n"
     ]
    }
   ],
   "source": [
    "fruits.extend([\"grapes\", \"guava\"])\n",
    "print(fruits)"
   ]
  },
  {
   "cell_type": "code",
   "execution_count": 14,
   "metadata": {},
   "outputs": [
    {
     "name": "stdout",
     "output_type": "stream",
     "text": [
      "['apple', 'banana', 'cherry', 'dragonfruit', 'grapes', 'guava', ['grapes', 'guava'], ['grapes', 'guava']]\n"
     ]
    }
   ],
   "source": [
    "fruits.append([\"grapes\", \"guava\"])\n",
    "print(fruits)"
   ]
  },
  {
   "cell_type": "code",
   "execution_count": 13,
   "metadata": {},
   "outputs": [
    {
     "name": "stdout",
     "output_type": "stream",
     "text": [
      "grapes\n"
     ]
    }
   ],
   "source": [
    "print(fruits[6][0])"
   ]
  },
  {
   "cell_type": "markdown",
   "metadata": {},
   "source": [
    "**2. Tuples: Unalterable, But Still Useful**\n",
    "- Tuples look like lists, except they’re enclosed in parentheses and are immutable.\n",
    "- Great for “fixed” collections where the order matters, but the content shouldn’t change.\n",
    "- Example:\n"
   ]
  },
  {
   "cell_type": "code",
   "execution_count": 19,
   "metadata": {},
   "outputs": [
    {
     "name": "stdout",
     "output_type": "stream",
     "text": [
      "10.0\n"
     ]
    }
   ],
   "source": [
    "coordinates = (10.0, 20.5)\n",
    "# coordinates[0] = 11.0  # This would cause an error: 'tuple' object does not support item assignment\n",
    "print(coordinates[0])"
   ]
  },
  {
   "cell_type": "markdown",
   "metadata": {},
   "source": [
    "**3. Dictionaries: Key-Value Pairs**\n",
    "- Think of dictionaries as a real-world dictionary: you look up a word (key) to find its definition (value).\n",
    "- Example usage in data science: storing student IDs (keys) mapped to names (values), or feature names (keys) mapped to data lists (values).\n",
    "- Examples:"
   ]
  },
  {
   "cell_type": "code",
   "execution_count": 20,
   "metadata": {},
   "outputs": [
    {
     "name": "stdout",
     "output_type": "stream",
     "text": [
      "90\n"
     ]
    }
   ],
   "source": [
    "student_grades = {\"Alice\": 90, \"Bob\": 85, \"Cathy\": 92}\n",
    "print(student_grades[\"Alice\"])  # 90\n"
   ]
  },
  {
   "cell_type": "code",
   "execution_count": 21,
   "metadata": {},
   "outputs": [
    {
     "name": "stdout",
     "output_type": "stream",
     "text": [
      "{'Alice': 90, 'Bob': 85, 'Cathy': 92, 'David': 88}\n"
     ]
    }
   ],
   "source": [
    "student_grades[\"David\"] = 88    # Adding a new key-value pair\n",
    "print(student_grades)  # {'Alice': 90, 'Bob': 85, 'Cathy': 92, 'David': 88}\n"
   ]
  },
  {
   "cell_type": "code",
   "execution_count": 22,
   "metadata": {},
   "outputs": [
    {
     "name": "stdout",
     "output_type": "stream",
     "text": [
      "{'Alice': 95, 'Bob': 85, 'Cathy': 92, 'David': 88}\n"
     ]
    }
   ],
   "source": [
    "student_grades[\"Alice\"] = 95    # Updating an existing key-value pair\n",
    "print(student_grades)  # {'Alice': 95, 'Bob': 85, 'Cathy': 92, 'David': 88}\n"
   ]
  },
  {
   "cell_type": "code",
   "execution_count": 23,
   "metadata": {},
   "outputs": [
    {
     "name": "stdout",
     "output_type": "stream",
     "text": [
      "{'Alice': 95, 'Cathy': 92, 'David': 88}\n"
     ]
    }
   ],
   "source": [
    "del student_grades[\"Bob\"]       # Deleting a key-value pair\n",
    "print(student_grades)  # {'Alice': 95, 'Cathy': 92, 'David': 88}\n"
   ]
  },
  {
   "cell_type": "code",
   "execution_count": 24,
   "metadata": {},
   "outputs": [
    {
     "name": "stdout",
     "output_type": "stream",
     "text": [
      "dict_keys(['Alice', 'Cathy', 'David'])\n"
     ]
    }
   ],
   "source": [
    "print(student_grades.keys())    # dict_keys(['Alice', 'Cathy', 'David'])\n"
   ]
  },
  {
   "cell_type": "code",
   "execution_count": 25,
   "metadata": {},
   "outputs": [
    {
     "name": "stdout",
     "output_type": "stream",
     "text": [
      "dict_values([95, 92, 88])\n"
     ]
    }
   ],
   "source": [
    "print(student_grades.values())  # dict_values([95, 92, 88])"
   ]
  },
  {
   "cell_type": "markdown",
   "metadata": {},
   "source": [
    "**4. Sets: Unique and Order-Less**\n",
    "- Sets store only unique items—no duplicates allowed.\n",
    "- Handy for membership checks or deduplicating data before analysis.\n",
    "- Example:"
   ]
  },
  {
   "cell_type": "code",
   "execution_count": 26,
   "metadata": {},
   "outputs": [
    {
     "name": "stdout",
     "output_type": "stream",
     "text": [
      "{1, 2, 3, 4}\n",
      "True\n"
     ]
    }
   ],
   "source": [
    "my_set = {1, 2, 2, 3, 4, 4}\n",
    "print(my_set)  # {1, 2, 3, 4}\n",
    "print(3 in my_set)  # True\n"
   ]
  },
  {
   "cell_type": "markdown",
   "metadata": {},
   "source": [
    "**Common Pitfalls and Tips:**\n",
    "- When copying lists or dictionaries, watch out for references (they might still point to the original).\n",
    "    - Copying lists or dictionaries by simple assignment doesn't create a new independent object; instead, it only copies the reference to the original object. Any modifications to the new variable affect the original object. Use .copy() method for lists or dict() for dictionaries to avoid this issue."
   ]
  },
  {
   "cell_type": "code",
   "execution_count": 27,
   "metadata": {},
   "outputs": [
    {
     "name": "stdout",
     "output_type": "stream",
     "text": [
      "Original List: [1, 2, 3, 4]\n"
     ]
    }
   ],
   "source": [
    "# Incorrect way (by reference)\n",
    "original_list = [1, 2, 3]\n",
    "copied_list = original_list  # This just copies the reference\n",
    "copied_list.append(4)\n",
    "print(\"Original List:\", original_list)  # Outputs: [1, 2, 3, 4]"
   ]
  },
  {
   "cell_type": "code",
   "execution_count": 28,
   "metadata": {},
   "outputs": [
    {
     "name": "stdout",
     "output_type": "stream",
     "text": [
      "Original List: [1, 2, 3]\n"
     ]
    }
   ],
   "source": [
    "# Correct way (shallow copy)\n",
    "original_list = [1, 2, 3]\n",
    "copied_list = original_list.copy()\n",
    "copied_list.append(4)\n",
    "print(\"Original List:\", original_list)  # Outputs: [1, 2, 3]"
   ]
  },
  {
   "cell_type": "markdown",
   "metadata": {},
   "source": [
    "- Using a set to remove duplicates is a neat trick, but remember: sets don’t preserve the order of items.\n",
    "    - Sets are useful for removing duplicates from a list or other iterable since they automatically discard repeated entries. However, sets do not maintain any specific order of the items."
   ]
  },
  {
   "cell_type": "code",
   "execution_count": 29,
   "metadata": {},
   "outputs": [
    {
     "name": "stdout",
     "output_type": "stream",
     "text": [
      "Unique items: {1, 2, 3, 4}\n"
     ]
    }
   ],
   "source": [
    "my_list = [3, 1, 2, 3, 4, 2, 1]\n",
    "unique_items = set(my_list)\n",
    "print(\"Unique items:\", unique_items)  # Outputs in arbitrary order, like {1, 2, 3, 4}"
   ]
  },
  {
   "cell_type": "markdown",
   "metadata": {},
   "source": [
    "- Tuples come in handy when you need an “unchangeable” sequence—like coordinates or config values that shouldn’t be accidentally edited.\n",
    "    - Tuples are immutable, meaning once they are created, they cannot be modified. This is useful for storing data that should not change throughout the program, such as configuration values or fixed sets of data.\n"
   ]
  },
  {
   "cell_type": "code",
   "execution_count": 30,
   "metadata": {},
   "outputs": [
    {
     "name": "stdout",
     "output_type": "stream",
     "text": [
      "Server: localhost\n",
      "Port: 8080\n"
     ]
    }
   ],
   "source": [
    "# Using tuple for configuration settings\n",
    "config_settings = ('localhost', 8080)\n",
    "print(\"Server:\", config_settings[0])\n",
    "print(\"Port:\", config_settings[1])"
   ]
  },
  {
   "cell_type": "markdown",
   "metadata": {},
   "source": [
    "\n",
    "#### Quick Exercises\n",
    "- Write a program to that preserves the order while removing duplicates.\n",
    "- Write a program that manages a list of your 3 favorite movies. Then replace the second movie with another one.\n",
    "- Create a dictionary of three employees and their salaries; then update one of the salaries and print it out.\n",
    "- Deduplicate a list of random numbers using a set.\n",
    "\n",
    "**Please Note:** The solutions to above questions will be present at the end of next module's (Module 5:  Functions and Modules) Notebook."
   ]
  },
  {
   "cell_type": "code",
   "execution_count": null,
   "metadata": {},
   "outputs": [],
   "source": []
  },
  {
   "cell_type": "markdown",
   "metadata": {},
   "source": []
  }
 ],
 "metadata": {
  "kernelspec": {
   "display_name": "Python 3",
   "language": "python",
   "name": "python3"
  },
  "language_info": {
   "codemirror_mode": {
    "name": "ipython",
    "version": 3
   },
   "file_extension": ".py",
   "mimetype": "text/x-python",
   "name": "python",
   "nbconvert_exporter": "python",
   "pygments_lexer": "ipython3",
   "version": "3.12.2"
  }
 },
 "nbformat": 4,
 "nbformat_minor": 2
}
