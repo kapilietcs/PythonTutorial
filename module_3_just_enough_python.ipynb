{
 "cells": [
  {
   "cell_type": "markdown",
   "metadata": {},
   "source": [
    "# Just Enough Python for AI/Data Science\n",
    "#### Module 2"
   ]
  },
  {
   "cell_type": "markdown",
   "metadata": {},
   "source": [
    "<b> Control Flow (Conditionals & Loops) </b>\n",
    "___\n",
    "> This module focuses on control flow—how Python decides what to do and when to do it. Mastering conditionals and loops will let you write short scripts that feel more interactive and dynamic, laying the groundwork for data wrangling and future AI tasks."
   ]
  },
  {
   "cell_type": "markdown",
   "metadata": {},
   "source": [
    "##### Overview:\n",
    "- Python’s control flow commands (if-statements, for-loops, while-loops) shape how your code “thinks.”\n",
    "- This module will teach you to direct your program’s logic—like choosing different routes based on certain conditions or repeating a set of instructions until you’ve reached a desired outcome.\n",
    "- Don’t worry—no advanced recursion or deep wizardry yet. Just the fundamentals to get comfortable with branching and looping."
   ]
  },
  {
   "cell_type": "markdown",
   "metadata": {},
   "source": [
    "**1. Conditionals (if, elif, else):**\n",
    "- Conditional statements let your code “branch out.” You set a condition, and the code decides which path to follow.\n",
    "- Basic structure:"
   ]
  },
  {
   "cell_type": "code",
   "execution_count": 10,
   "metadata": {},
   "outputs": [
    {
     "name": "stdout",
     "output_type": "stream",
     "text": [
      "The number is positive!\n"
     ]
    }
   ],
   "source": [
    "my_number = 10\n",
    "\n",
    "if my_number > 0:\n",
    "    print(\"The number is positive!\")\n",
    "elif my_number == 0:\n",
    "    print(\"The number is zero!\")\n",
    "else:\n",
    "    print(\"The number is negative!\")"
   ]
  },
  {
   "cell_type": "markdown",
   "metadata": {},
   "source": [
    "*To Note: Indentation matters in Python. Think of it like paragraphs in a novel—if it’s not aligned properly, the storyline is lost (and Python gets grumpy).*"
   ]
  },
  {
   "cell_type": "markdown",
   "metadata": {},
   "source": [
    "**2. Nested Conditionals:**\n",
    "\n",
    "- You can place one if-else chain inside another if-else for more complexity (i.e., the “Inception” of code statements).\n",
    "- But keep it readable and straightforward—a maze of nested conditionals is no fun to debug."
   ]
  },
  {
   "cell_type": "code",
   "execution_count": 11,
   "metadata": {},
   "outputs": [
    {
     "name": "stdout",
     "output_type": "stream",
     "text": [
      "The number is positive!\n",
      "The number is even.\n"
     ]
    }
   ],
   "source": [
    "my_number = 10\n",
    "\n",
    "if my_number > 0:\n",
    "    print(\"The number is positive!\")\n",
    "    if my_number % 2 == 0:\n",
    "        print(\"The number is even.\")\n",
    "    else:\n",
    "        print(\"The number is odd.\")\n",
    "elif my_number == 0:\n",
    "    print(\"The number is zero!\")\n",
    "else:\n",
    "    print(\"The number is negative!\")\n"
   ]
  },
  {
   "cell_type": "markdown",
   "metadata": {},
   "source": [
    "**3. Loops: for and while**\n",
    "\n",
    "- for Loop: \n",
    "    - Great when you “know” how many times you want to iterate or when you’re looping through a set of items.\n",
    "- Example:"
   ]
  },
  {
   "cell_type": "code",
   "execution_count": null,
   "metadata": {},
   "outputs": [],
   "source": [
    "fruits = [\"apple\", \"banana\",\"chikoo\", \"cherry\"]\n",
    "for fruit in fruits:\n",
    "    print(fruit) \n",
    "print(\"Done\") "
   ]
  },
  {
   "cell_type": "markdown",
   "metadata": {},
   "source": [
    "- while Loop: • Runs as long as a condition remains True.\n",
    "    - Potentially infinite if you forget to update the condition. (We’ve all been there—suddenly your program never ends!)\n",
    "- Example:"
   ]
  },
  {
   "cell_type": "code",
   "execution_count": 12,
   "metadata": {},
   "outputs": [
    {
     "name": "stdout",
     "output_type": "stream",
     "text": [
      "Counting: 0\n",
      "Counting: 1\n",
      "Counting: 2\n",
      "Counting: 3\n",
      "Counting: 4\n"
     ]
    }
   ],
   "source": [
    "count = 0\n",
    "while count < 5:\n",
    "    print(\"Counting:\", count)\n",
    "    count += 1"
   ]
  },
  {
   "cell_type": "markdown",
   "metadata": {},
   "source": [
    "**Common Pitfalls and Tips:**\n",
    "\n",
    "- Off-by-one errors: using the wrong range boundaries in your loops.\n",
    "    - Off-by-one errors occur when a loop iterates one time too many or one time too few. This is common with incorrect range boundaries."
   ]
  },
  {
   "cell_type": "code",
   "execution_count": 13,
   "metadata": {},
   "outputs": [
    {
     "name": "stdout",
     "output_type": "stream",
     "text": [
      "0\n",
      "1\n",
      "2\n",
      "3\n",
      "4\n"
     ]
    }
   ],
   "source": [
    "# Off-by-one error example\n",
    "# Let's assume we want to print numbers 1 through 5\n",
    "for i in range(5):  # Incorrect, as it prints 0 through 4\n",
    "    print(i)"
   ]
  },
  {
   "cell_type": "code",
   "execution_count": 14,
   "metadata": {},
   "outputs": [
    {
     "name": "stdout",
     "output_type": "stream",
     "text": [
      "1\n",
      "2\n",
      "3\n",
      "4\n",
      "5\n"
     ]
    }
   ],
   "source": [
    "# Corrected version\n",
    "for i in range(1, 6):  # Starts at 1, ends at 6 (exclusive), correctly printing 1 through 5\n",
    "    print(i)"
   ]
  },
  {
   "cell_type": "markdown",
   "metadata": {},
   "source": [
    "- Infinite loops: forgetting to “nudge” your while loop condition so it can eventually break out.\n",
    "    - Infinite loops happen when the loop condition never becomes false. This is often due to not updating the variables involved in the condition."
   ]
  },
  {
   "cell_type": "code",
   "execution_count": null,
   "metadata": {},
   "outputs": [],
   "source": [
    "# Example of a potential infinite loop\n",
    "i = 0\n",
    "while i < 5:\n",
    "    print(\"i is less than 5\")\n",
    "    # Forgot to increment i, which will cause an infinite loop"
   ]
  },
  {
   "cell_type": "code",
   "execution_count": 17,
   "metadata": {},
   "outputs": [
    {
     "name": "stdout",
     "output_type": "stream",
     "text": [
      "i is less than 5\n",
      "i is less than 5\n",
      "i is less than 5\n",
      "i is less than 5\n",
      "i is less than 5\n"
     ]
    }
   ],
   "source": [
    "# Corrected version\n",
    "i = 0\n",
    "while i < 5:\n",
    "    print(\"i is less than 5\")\n",
    "    i += 1  # Incrementing i to ensure the loop condition will eventually become false"
   ]
  },
  {
   "cell_type": "markdown",
   "metadata": {},
   "source": [
    "- Over-nesting: it’s easy to bury your code under layers of if-else statements inside loops. Try to keep the logic simple.\n",
    "    - Over-nesting makes the code hard to read and maintain. It's beneficial to keep the logic as flat as possible."
   ]
  },
  {
   "cell_type": "code",
   "execution_count": 18,
   "metadata": {},
   "outputs": [
    {
     "name": "stdout",
     "output_type": "stream",
     "text": [
      "Odd and not greater than 3: 1\n",
      "Even and not greater than 3: 2\n",
      "Odd and not greater than 3: 3\n",
      "Even and greater than 3: 4\n",
      "Odd and greater than 3: 5\n"
     ]
    }
   ],
   "source": [
    "# Over-nested code example\n",
    "numbers = [1, 2, 3, 4, 5]\n",
    "for number in numbers:\n",
    "    if number % 2 == 0:\n",
    "        if number > 3:\n",
    "            print(\"Even and greater than 3:\", number)\n",
    "        else:\n",
    "            print(\"Even and not greater than 3:\", number)\n",
    "    else:\n",
    "        if number > 3:\n",
    "            print(\"Odd and greater than 3:\", number)\n",
    "        else:\n",
    "            print(\"Odd and not greater than 3:\", number)\n",
    "\n"
   ]
  },
  {
   "cell_type": "code",
   "execution_count": 19,
   "metadata": {},
   "outputs": [
    {
     "name": "stdout",
     "output_type": "stream",
     "text": [
      "Odd and not greater than 3: 1\n",
      "Even and not greater than 3: 2\n",
      "Odd and not greater than 3: 3\n",
      "Even and greater than 3: 4\n",
      "Odd and greater than 3: 5\n"
     ]
    }
   ],
   "source": [
    "# Simplified version using fewer nesting levels\n",
    "for number in numbers:\n",
    "    if number % 2 == 0 and number > 3:\n",
    "        print(\"Even and greater than 3:\", number)\n",
    "    elif number % 2 == 0:\n",
    "        print(\"Even and not greater than 3:\", number)\n",
    "    elif number > 3:\n",
    "        print(\"Odd and greater than 3:\", number)\n",
    "    else:\n",
    "        print(\"Odd and not greater than 3:\", number)\n"
   ]
  },
  {
   "cell_type": "markdown",
   "metadata": {},
   "source": [
    "#### Quick Exercises: \n",
    "- Write a small program that uses conditionals to check if a user’s input age is old enough to vote.\n",
    "- Loop through a list of random numbers and print only the even ones.\n",
    "- Create a while loop that prints numbers from 1 to 10, then confirm no infinite loops happened in the process!\n",
    "\n",
    "**Please Note:** The solutions to above questions will be present at the end of next module's (Module 4: Data Structures (Lists, Tuples, Dictionaries & Sets)) Notebook."
   ]
  },
  {
   "cell_type": "markdown",
   "metadata": {},
   "source": [
    "### Module 1 Exercise Solution"
   ]
  },
  {
   "cell_type": "markdown",
   "metadata": {},
   "source": [
    "1. Create variables to store:\n",
    "    - Your favorite number, movie, or dessert.\n",
    "    - Whether the number of days in the month January is greater than 30 (hint: use a Boolean)."
   ]
  },
  {
   "cell_type": "code",
   "execution_count": 2,
   "metadata": {},
   "outputs": [
    {
     "name": "stdout",
     "output_type": "stream",
     "text": [
      "7\n",
      "Inception\n",
      "True\n"
     ]
    }
   ],
   "source": [
    "favorite_number = 7 # Thala for a reason\n",
    "favorite_movie = \"Inception\"\n",
    "is_long_month = 31 > 30\n",
    "\n",
    "print(favorite_number)\n",
    "print(favorite_movie)\n",
    "print(is_long_month)\n"
   ]
  },
  {
   "cell_type": "markdown",
   "metadata": {},
   "source": [
    "2. Write a program to calculate:\n",
    "    - The area of a rectangle (length = 5, width = 10).\n",
    "    - Add two strings together to make a complete sentence, like: “Python is fun!”"
   ]
  },
  {
   "cell_type": "code",
   "execution_count": 3,
   "metadata": {},
   "outputs": [
    {
     "name": "stdout",
     "output_type": "stream",
     "text": [
      "The area of the rectangle is: 50\n"
     ]
    }
   ],
   "source": [
    "# Write a program to calculate: The area of a rectangle (length = 5, width = 10).\n",
    "length = 5\n",
    "width = 10\n",
    "area = length * width\n",
    "print(\"The area of the rectangle is:\", area)"
   ]
  },
  {
   "cell_type": "code",
   "execution_count": 4,
   "metadata": {},
   "outputs": [
    {
     "name": "stdout",
     "output_type": "stream",
     "text": [
      "Python is fun!\n"
     ]
    }
   ],
   "source": [
    "# Write a program to calculate: Add two strings together to make a complete sentence, like: “Python is fun!”\n",
    "first_part = \"Python is\"\n",
    "second_part = \"fun!\"\n",
    "sentence = first_part + \" \" + second_part\n",
    "print(sentence)\n"
   ]
  },
  {
   "cell_type": "markdown",
   "metadata": {},
   "source": [
    "3. Mess around with type() by using it to confirm the type of a variable."
   ]
  },
  {
   "cell_type": "code",
   "execution_count": null,
   "metadata": {},
   "outputs": [
    {
     "name": "stdout",
     "output_type": "stream",
     "text": [
      "<class 'int'>\n",
      "<class 'str'>\n",
      "<class 'bool'>\n",
      "<class 'int'>\n",
      "<class 'str'>\n"
     ]
    }
   ],
   "source": [
    "print(type(favorite_number))  # <class 'int'>\n",
    "print(type(favorite_movie))  # <class 'str'>\n",
    "print(type(is_long_month))  # <class 'bool'>\n",
    "print(type(area))  # <class 'int'>\n",
    "print(type(sentence))  # <class 'str'>\n"
   ]
  },
  {
   "cell_type": "markdown",
   "metadata": {},
   "source": [
    "4. Have some fun with string slicing: print out only the first half of your favorite word."
   ]
  },
  {
   "cell_type": "code",
   "execution_count": 6,
   "metadata": {},
   "outputs": [
    {
     "name": "stdout",
     "output_type": "stream",
     "text": [
      "Pyt\n"
     ]
    }
   ],
   "source": [
    "# Have some fun with string slicing: print out only the first half of your favorite word.\n",
    "favorite_word = \"Python\"\n",
    "half_length = len(favorite_word) // 2\n",
    "first_half = favorite_word[:half_length]\n",
    "print(first_half)  # Pyt"
   ]
  },
  {
   "cell_type": "markdown",
   "metadata": {},
   "source": [
    "# HAPPY LEARNING"
   ]
  }
 ],
 "metadata": {
  "kernelspec": {
   "display_name": "Python 3",
   "language": "python",
   "name": "python3"
  },
  "language_info": {
   "codemirror_mode": {
    "name": "ipython",
    "version": 3
   },
   "file_extension": ".py",
   "mimetype": "text/x-python",
   "name": "python",
   "nbconvert_exporter": "python",
   "pygments_lexer": "ipython3",
   "version": "3.12.2"
  }
 },
 "nbformat": 4,
 "nbformat_minor": 2
}
